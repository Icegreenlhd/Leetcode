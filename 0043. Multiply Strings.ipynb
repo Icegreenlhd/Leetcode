{
 "cells": [
  {
   "cell_type": "markdown",
   "metadata": {},
   "source": [
    "Given two non-negative integers num1 and num2 represented as strings, return the product of num1 and num2, also represented as a string.\n",
    "\n",
    "Example 1:\n",
    "```\n",
    "Input: num1 = \"2\", num2 = \"3\"\n",
    "Output: \"6\"\n",
    "```\n",
    "Example 2:\n",
    "```\n",
    "Input: num1 = \"123\", num2 = \"456\"\n",
    "Output: \"56088\"\n",
    "```\n",
    "Note:\n",
    "\n",
    "- The length of both num1 and num2 is < 110.\n",
    "- Both num1 and num2 contain only digits 0-9.\n",
    "- Both num1 and num2 do not contain any leading zero, except the number 0 itself.\n",
    "- You must not use any built-in BigInteger library or convert the inputs to integer directly."
   ]
  },
  {
   "cell_type": "markdown",
   "metadata": {},
   "source": [
    "# my solution 1"
   ]
  },
  {
   "cell_type": "code",
   "execution_count": null,
   "metadata": {},
   "outputs": [],
   "source": [
    "class Solution(object):\n",
    "    def multiply(self, num1, num2):\n",
    "        \"\"\"\n",
    "        :type num1: str\n",
    "        :type num2: str\n",
    "        :rtype: str\n",
    "        \"\"\"\n",
    "        count = 0\n",
    "        multi = 1\n",
    "        for i in range(len(num1)-1, -1, -1):\n",
    "            mul = int(num1[i])\n",
    "            multipler = multi\n",
    "            for j in range(len(num2)-1,-1,-1):\n",
    "                med = int(num2[j])\n",
    "                count = count + mul*med*multipler \n",
    "                multipler *= 10\n",
    "            multi *= 10\n",
    "        return str(count)"
   ]
  },
  {
   "cell_type": "markdown",
   "metadata": {},
   "source": [
    "# Jake's solution\n",
    "Create a list of each digit in the result, starting wiht the least significant digit.\n",
    "Reverse input digit order. nums1[i] * nums2[j] is added to result[i+j+1] and result[i+j]\n",
    "Alternatively: return str(int(num1) * int(num2))\n",
    "- Time - O(m * n) where inputs are of lengths m and n\n",
    "- Space - O(max(m,n))\n"
   ]
  },
  {
   "cell_type": "code",
   "execution_count": 7,
   "metadata": {
    "ExecuteTime": {
     "end_time": "2020-05-19T00:49:19.588004Z",
     "start_time": "2020-05-19T00:49:19.583136Z"
    }
   },
   "outputs": [],
   "source": [
    "class Solution(object):\n",
    "    def multiply(self, num1, num2):\n",
    "        \"\"\"\n",
    "        :type num1: str\n",
    "        :type num2: str\n",
    "        :rtype: str\n",
    "        \"\"\"\n",
    "        num1, num2 = num1[::-1], num2[::-1]         # easier to work with lo\n",
    "        \n",
    "        result = [0] * (len(num1) + len(num2))\n",
    "\n",
    "\n",
    "        for i in range(len(num1)):\n",
    "\n",
    "            int1 = ord(num1[i]) - ord('0')\n",
    "\n",
    "            for j in range(len(num2)):\n",
    "\n",
    "                int2 = ord(num2[j]) - ord('0')\n",
    "\n",
    "                tens, units = divmod(int1 * int2, 10)\n",
    "\n",
    "                result[i + j] += units      # add units and handle carry of units\n",
    "                if result[i + j] > 9:\n",
    "                    result[i + j + 1] += result[i + j] // 10\n",
    "                    result[i + j] %= 10\n",
    "\n",
    "                result[i + j + 1] += tens   # add tens and handle carry of tens\n",
    "                if result[i + j + 1] > 9:\n",
    "                    result[i + j + 2] += result[i + j + 1] // 10\n",
    "                    result[i + j + 1] %= 10\n",
    "\n",
    "        while len(result) > 1 and result[-1] == 0:  # remove trailing zeros\n",
    "            result.pop()\n",
    "        return \"\".join(map(str, result[::-1]))      # reverse and convert to string"
   ]
  },
  {
   "cell_type": "code",
   "execution_count": 6,
   "metadata": {
    "ExecuteTime": {
     "end_time": "2020-05-19T00:47:42.746385Z",
     "start_time": "2020-05-19T00:47:42.742512Z"
    }
   },
   "outputs": [],
   "source": [
    "?divmod\n",
    "?ord"
   ]
  }
 ],
 "metadata": {
  "kernelspec": {
   "display_name": "Python 3",
   "language": "python",
   "name": "python3"
  },
  "language_info": {
   "codemirror_mode": {
    "name": "ipython",
    "version": 3
   },
   "file_extension": ".py",
   "mimetype": "text/x-python",
   "name": "python",
   "nbconvert_exporter": "python",
   "pygments_lexer": "ipython3",
   "version": "3.6.5"
  },
  "toc": {
   "base_numbering": 1,
   "nav_menu": {},
   "number_sections": true,
   "sideBar": true,
   "skip_h1_title": false,
   "title_cell": "Table of Contents",
   "title_sidebar": "Contents",
   "toc_cell": false,
   "toc_position": {},
   "toc_section_display": true,
   "toc_window_display": false
  }
 },
 "nbformat": 4,
 "nbformat_minor": 2
}
