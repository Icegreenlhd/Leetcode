{
 "cells": [
  {
   "cell_type": "markdown",
   "metadata": {},
   "source": [
    "Roman numerals are represented by seven different symbols: I, V, X, L, C, D and M.\n",
    "```\n",
    "Symbol       Value\n",
    "I             1\n",
    "V             5\n",
    "X             10\n",
    "L             50\n",
    "C             100\n",
    "D             500\n",
    "M             1000\n",
    "```\n",
    "\n",
    "For example, two is written as II in Roman numeral, just two one's added together. Twelve is written as, XII, which is simply X + II. The number twenty seven is written as XXVII, which is XX + V + II.\n",
    "\n",
    "Roman numerals are usually written largest to smallest from left to right. However, the numeral for four is not IIII. Instead, the number four is written as IV. Because the one is before the five we subtract it making four. The same principle applies to the number nine, which is written as IX. There are six instances where subtraction is used:\n",
    "\n",
    "- I can be placed before V (5) and X (10) to make 4 and 9. \n",
    "- X can be placed before L (50) and C (100) to make 40 and 90. \n",
    "- C can be placed before D (500) and M (1000) to make 400 and 900.\n",
    "\n",
    "Given an integer, convert it to a roman numeral. Input is guaranteed to be within the range from 1 to 3999.\n",
    "\n",
    "Example 1:\n",
    "```\n",
    "Input: 3\n",
    "Output: \"III\"\n",
    "```\n",
    "Example 2:\n",
    "```\n",
    "Input: 4\n",
    "Output: \"IV\"\n",
    "```\n",
    "Example 3:\n",
    "```\n",
    "Input: 9\n",
    "Output: \"IX\"\n",
    "```\n",
    "Example 4:\n",
    "```\n",
    "Input: 58\n",
    "Output: \"LVIII\"\n",
    "\n",
    "Explanation: L = 50, V = 5, III = 3.\n",
    "```\n",
    "Example 5:\n",
    "```\n",
    "Input: 1994\n",
    "Output: \"MCMXCIV\"\n",
    "Explanation: M = 1000, CM = 900, XC = 90 and IV = 4.\n",
    "```"
   ]
  },
  {
   "cell_type": "code",
   "execution_count": 18,
   "metadata": {},
   "outputs": [],
   "source": [
    "# my solution 1\n",
    "class Solution(object):\n",
    "    def intToRoman(self, num):\n",
    "        \"\"\"\n",
    "        :type num: int\n",
    "        :rtype: str\n",
    "        \"\"\"\n",
    "        assert num > 0 and num < 4000, \"out of rage\"\n",
    "\n",
    "        roman = ['I', \"V\", \"X\", \"L\", \"C\", \"D\", \"M\"]\n",
    "        roman_index = 0\n",
    "        roman_num = ''\n",
    "\n",
    "        while(num):\n",
    "            num_tmp = num % 10\n",
    "            if num_tmp == 4:\n",
    "                roman_num = roman[roman_index] + \\\n",
    "                    roman[roman_index+1] + roman_num\n",
    "            elif num_tmp == 9:\n",
    "                roman_num = roman[roman_index] + \\\n",
    "                    roman[roman_index+2] + roman_num\n",
    "            elif num_tmp < 4:\n",
    "                roman_num = roman[roman_index] * num_tmp + roman_num\n",
    "            else:\n",
    "                roman_num = roman[roman_index+1] + \\\n",
    "                    roman[roman_index] * (num_tmp-5) + roman_num\n",
    "            num //= 10\n",
    "            roman_index += 2\n",
    "\n",
    "        return roman_num"
   ]
  },
  {
   "cell_type": "code",
   "execution_count": 16,
   "metadata": {},
   "outputs": [],
   "source": [
    "# Jake's solution, map solution\n",
    "class Solution(object):\n",
    "    def intToRoman(self, num):\n",
    "        \"\"\"\n",
    "        :type num: int\n",
    "        :rtype: str\n",
    "        \"\"\"\n",
    "        mapping = [(1000, 'M'),\n",
    "                   (900, 'CM'),\n",
    "                   (500, 'D'),\n",
    "                   (400, 'CD'),\n",
    "                   (100, 'C'),\n",
    "                   (90, 'XC'),\n",
    "                   (50, 'L'),\n",
    "                   (40, 'XL'),\n",
    "                   (10, 'X'),\n",
    "                   (9, 'IX'),\n",
    "                   (5, 'V'),\n",
    "                   (4, 'IV'),\n",
    "                   (1, 'I'), ]\n",
    "\n",
    "        roman = []\n",
    "        for i, numeral in mapping:\n",
    "            while num >= i:\n",
    "                num -= i\n",
    "                roman.append(numeral)\n",
    "\n",
    "        return \"\".join(roman)"
   ]
  },
  {
   "cell_type": "code",
   "execution_count": 17,
   "metadata": {},
   "outputs": [
    {
     "name": "stdout",
     "output_type": "stream",
     "text": [
      "Right Input:3 Result:III Myresult:III\n",
      "Right Input:4 Result:IV Myresult:IV\n",
      "Right Input:9 Result:IX Myresult:IX\n",
      "Right Input:58 Result:LVIII Myresult:LVIII\n",
      "Right Input:1994 Result:MCMXCIV Myresult:MCMXCIV\n"
     ]
    }
   ],
   "source": [
    "input = []\n",
    "input.append((3, \"III\"))\n",
    "input.append((4, \"IV\"))\n",
    "input.append((9,\"IX\"))\n",
    "input.append((58,\"LVIII\"))\n",
    "input.append((1994, \"MCMXCIV\"))\n",
    "solution = Solution()\n",
    "for i in input:\n",
    "    num, result = i\n",
    "    my_result = solution.intToRoman(num)\n",
    "    if result != my_result:\n",
    "        print(\"!Wrong\", \"Input:{} Result:{} Myresult:{}\".format(num, result, my_result))\n",
    "    else:\n",
    "        print(\"Right\", \"Input:{} Result:{} Myresult:{}\".format(num, result, my_result))"
   ]
  }
 ],
 "metadata": {
  "jupytext": {
   "formats": "ipynb,py"
  },
  "kernelspec": {
   "display_name": "Python 3",
   "language": "python",
   "name": "python3"
  },
  "language_info": {
   "codemirror_mode": {
    "name": "ipython",
    "version": 3
   },
   "file_extension": ".py",
   "mimetype": "text/x-python",
   "name": "python",
   "nbconvert_exporter": "python",
   "pygments_lexer": "ipython3",
   "version": "3.7.3"
  },
  "toc": {
   "base_numbering": 1,
   "nav_menu": {},
   "number_sections": true,
   "sideBar": true,
   "skip_h1_title": false,
   "title_cell": "Table of Contents",
   "title_sidebar": "Contents",
   "toc_cell": false,
   "toc_position": {},
   "toc_section_display": true,
   "toc_window_display": false
  },
  "varInspector": {
   "cols": {
    "lenName": 16,
    "lenType": 16,
    "lenVar": 40
   },
   "kernels_config": {
    "python": {
     "delete_cmd_postfix": "",
     "delete_cmd_prefix": "del ",
     "library": "var_list.py",
     "varRefreshCmd": "print(var_dic_list())"
    },
    "r": {
     "delete_cmd_postfix": ") ",
     "delete_cmd_prefix": "rm(",
     "library": "var_list.r",
     "varRefreshCmd": "cat(var_dic_list()) "
    }
   },
   "types_to_exclude": [
    "module",
    "function",
    "builtin_function_or_method",
    "instance",
    "_Feature"
   ],
   "window_display": false
  }
 },
 "nbformat": 4,
 "nbformat_minor": 2
}
