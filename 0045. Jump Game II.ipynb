{
 "cells": [
  {
   "cell_type": "markdown",
   "metadata": {},
   "source": [
    "Given an array of non-negative integers, you are initially positioned at the first index of the array.\n",
    "\n",
    "Each element in the array represents your maximum jump length at that position.\n",
    "\n",
    "Your goal is to reach the last index in the minimum number of jumps.\n",
    "\n",
    "Example:\n",
    "```\n",
    "Input: [2,3,1,1,4]\n",
    "Output: 2\n",
    "Explanation: The minimum number of jumps to reach the last index is 2.\n",
    "    Jump 1 step from index 0 to 1, then 3 steps to the last index.\n",
    "```\n",
    "Note:\n",
    "\n",
    "You can assume that you can always reach the last index."
   ]
  },
  {
   "cell_type": "markdown",
   "metadata": {},
   "source": [
    "# my solution 1, dynamic algorithm\n",
    "\n",
    "- Time:O(n!)\n",
    "  - Time out\n",
    "- Space:O(n)"
   ]
  },
  {
   "cell_type": "code",
   "execution_count": 5,
   "metadata": {
    "ExecuteTime": {
     "end_time": "2020-05-22T07:57:40.044527Z",
     "start_time": "2020-05-22T07:57:40.031368Z"
    }
   },
   "outputs": [],
   "source": [
    "class Solution(object):\n",
    "    def jump(self, nums):\n",
    "        \"\"\"\n",
    "        :type nums: List[int]\n",
    "        :rtype: int\n",
    "        \"\"\"\n",
    "        dynamic = [float(\"inf\") for _ in range(len(nums))]\n",
    "        dynamic[0] = 0\n",
    "        \n",
    "        for i, n in enumerate(nums):\n",
    "            for j in range(i+1, min(len(nums), n+i+1)):\n",
    "                dynamic[j] = min(dynamic[j], dynamic[i]+1)\n",
    "                if j == len(nums)-1:\n",
    "                    return dynamic[j]\n",
    "        return dynamic.pop()"
   ]
  },
  {
   "cell_type": "markdown",
   "metadata": {},
   "source": [
    "# my solution 2,  greedy algorithm\n",
    "- Time: O(n)\n",
    "- Space: O(n)"
   ]
  },
  {
   "cell_type": "code",
   "execution_count": null,
   "metadata": {},
   "outputs": [],
   "source": [
    "class Solution(object):\n",
    "    def jump(self, nums):\n",
    "        \"\"\"\n",
    "        :type nums: List[int]\n",
    "        :rtype: int\n",
    "        \"\"\"\n",
    "        last_jump = 0\n",
    "        candidates = [0]\n",
    "        jump_times = 0\n",
    "        \n",
    "        while candidates:\n",
    "            if max_jump >= len(nums)-1:\n",
    "                return jump_times\n",
    "            max_jump = last_jump\n",
    "            for c in candidates:\n",
    "                max_jump = max(nums[c]+c, max_jump)\n",
    "            candidates = list(range(last_jump+1, max_jump+1))\n",
    "            last_jump = max_jump\n",
    "            jump_times += 1\n",
    "            \n",
    "        assert False, \"can not jump to the result\"\n",
    "        return jump_times"
   ]
  },
  {
   "cell_type": "code",
   "execution_count": null,
   "metadata": {},
   "outputs": [],
   "source": [
    "# modify\n",
    "class Solution(object):\n",
    "    def jump(self, nums):\n",
    "        \"\"\"\n",
    "        :type nums: List[int]\n",
    "        :rtype: int\n",
    "        \"\"\"\n",
    "        last_jump = 0\n",
    "        candidates = [0]\n",
    "        jump_times = 0\n",
    "        max_jump = last_jump\n",
    "        \n",
    "        while candidates:\n",
    "            if last_jump >= len(nums)-1:\n",
    "                return jump_times\n",
    "            for c in candidates:\n",
    "                max_jump = max(nums[c]+c, max_jump)\n",
    "            candidates = list(range(last_jump+1, max_jump+1))\n",
    "            last_jump = max_jump\n",
    "            jump_times += 1\n",
    "            \n",
    "        assert False, \"can not jump to the result\""
   ]
  },
  {
   "cell_type": "markdown",
   "metadata": {},
   "source": [
    "# Jake's Solution\n",
    "For each index in currently accessible range, update the max_index that can be reached in one more step.\n",
    "Iterate to next range, from end of previous range to max_index.\n",
    "- Time - O(n)\n",
    "- Space - O(1)"
   ]
  },
  {
   "cell_type": "code",
   "execution_count": null,
   "metadata": {},
   "outputs": [],
   "source": [
    "class Solution(object):\n",
    "    def jump(self, nums):\n",
    "        \"\"\"\n",
    "        :type nums: List[int]\n",
    "        :rtype: int\n",
    "        \"\"\"\n",
    "        if len(nums) == 1:\n",
    "            return 0\n",
    "\n",
    "        start, end = 0, 0   # indices in nums of current range\n",
    "        max_index = 0\n",
    "        steps = 1\n",
    "\n",
    "        while True:         # will always terminate since last index is accessible\n",
    "            for i in range(start, end+1):\n",
    "                max_index = max(max_index, i + nums[i])\n",
    "            if max_index >= len(nums)-1:\n",
    "                return steps\n",
    "            steps += 1\n",
    "            start, end = end + 1, max_index"
   ]
  },
  {
   "cell_type": "code",
   "execution_count": 2,
   "metadata": {
    "ExecuteTime": {
     "end_time": "2020-05-22T07:53:31.674880Z",
     "start_time": "2020-05-22T07:53:31.649223Z"
    }
   },
   "outputs": [
    {
     "data": {
      "text/plain": [
       "True"
      ]
     },
     "execution_count": 2,
     "metadata": {},
     "output_type": "execute_result"
    }
   ],
   "source": [
    "1 < float(\"inf\")"
   ]
  }
 ],
 "metadata": {
  "kernelspec": {
   "display_name": "Python 3",
   "language": "python",
   "name": "python3"
  },
  "language_info": {
   "codemirror_mode": {
    "name": "ipython",
    "version": 3
   },
   "file_extension": ".py",
   "mimetype": "text/x-python",
   "name": "python",
   "nbconvert_exporter": "python",
   "pygments_lexer": "ipython3",
   "version": "3.6.5"
  },
  "toc": {
   "base_numbering": 1,
   "nav_menu": {},
   "number_sections": true,
   "sideBar": true,
   "skip_h1_title": false,
   "title_cell": "Table of Contents",
   "title_sidebar": "Contents",
   "toc_cell": false,
   "toc_position": {},
   "toc_section_display": true,
   "toc_window_display": false
  }
 },
 "nbformat": 4,
 "nbformat_minor": 2
}
