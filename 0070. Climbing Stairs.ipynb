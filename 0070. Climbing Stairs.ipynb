{
 "cells": [
  {
   "cell_type": "markdown",
   "metadata": {},
   "source": [
    "# my solution 1, recursion \n",
    "- Time: O(2^n)"
   ]
  },
  {
   "cell_type": "code",
   "execution_count": null,
   "metadata": {},
   "outputs": [],
   "source": [
    "class Solution(object):\n",
    "    result = 0\n",
    "    def climbStairs(self, n):\n",
    "        \"\"\"\n",
    "        :type n: int\n",
    "        :rtype: int\n",
    "        \"\"\"\n",
    "        self.climb(n)\n",
    "        return self.result\n",
    "    \n",
    "    def climb(self, n):\n",
    "        if n <= 0:\n",
    "            self.result = self.result + 1 if n == 0 else self.result\n",
    "            return \n",
    "        \n",
    "        for i in range(1,3):\n",
    "            self.climbStairs(n-i)\n",
    "            "
   ]
  },
  {
   "cell_type": "markdown",
   "metadata": {},
   "source": [
    "# Jake's solution\n",
    "Dynamic programming.  Base cases of no ways for n <= 0, 1 way for n == 1 and 2 ways for n == 2.\n",
    "For each additional step, the number of ways is taking one step from the previous step + taking two steps from the\n",
    "step before that. Result is a Fibonacci sequence.\n",
    "- Time - O(n)\n",
    "- Space - O(1)"
   ]
  },
  {
   "cell_type": "code",
   "execution_count": null,
   "metadata": {},
   "outputs": [],
   "source": [
    "class Solution(object):\n",
    "    def climbStairs(self, n):\n",
    "        \"\"\"\n",
    "        :type n: int\n",
    "        :rtype: int\n",
    "        \"\"\"\n",
    "        if n <= 0:\n",
    "            return 0\n",
    "        if n <= 2:\n",
    "            return n\n",
    "\n",
    "        stairs, prev = 2, 1         # 2 ways to reach second step, one way to reach first\n",
    "        for _ in range(3, n + 1):\n",
    "            stairs, prev = stairs + prev, stairs\n",
    "\n",
    "        return stairs"
   ]
  }
 ],
 "metadata": {
  "kernelspec": {
   "display_name": "Python 3",
   "language": "python",
   "name": "python3"
  },
  "language_info": {
   "codemirror_mode": {
    "name": "ipython",
    "version": 3
   },
   "file_extension": ".py",
   "mimetype": "text/x-python",
   "name": "python",
   "nbconvert_exporter": "python",
   "pygments_lexer": "ipython3",
   "version": "3.6.5"
  },
  "toc": {
   "base_numbering": 1,
   "nav_menu": {},
   "number_sections": true,
   "sideBar": true,
   "skip_h1_title": false,
   "title_cell": "Table of Contents",
   "title_sidebar": "Contents",
   "toc_cell": false,
   "toc_position": {},
   "toc_section_display": true,
   "toc_window_display": false
  }
 },
 "nbformat": 4,
 "nbformat_minor": 2
}
