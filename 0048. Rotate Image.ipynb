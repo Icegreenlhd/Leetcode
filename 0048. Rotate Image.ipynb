{
 "cells": [
  {
   "cell_type": "markdown",
   "metadata": {},
   "source": [
    "# my solution 1, zip\n",
    "- Time:$O(n^2)$\n",
    "- Space:$O(n)$"
   ]
  },
  {
   "cell_type": "code",
   "execution_count": 35,
   "metadata": {
    "ExecuteTime": {
     "end_time": "2020-06-03T09:03:10.890822Z",
     "start_time": "2020-06-03T09:03:10.885691Z"
    }
   },
   "outputs": [],
   "source": [
    "class Solution(object):\n",
    "    def rotate(self, matrix):\n",
    "        \"\"\"\n",
    "        :type matrix: List[List[int]]\n",
    "        :rtype: None Do not return anything, modify matrix in-place instead.\n",
    "        \"\"\"\n",
    "        matrix[:] = [list(i)[::-1] for i in zip(*matrix)]\n",
    "#         matrix[:] = list(map(list, zip(*matrix[::-1])))\n",
    "        return"
   ]
  },
  {
   "cell_type": "markdown",
   "metadata": {
    "ExecuteTime": {
     "end_time": "2020-06-03T08:44:22.524078Z",
     "start_time": "2020-06-03T08:44:22.521710Z"
    }
   },
   "source": [
    "# my solution2, by index\n",
    "- Time: $O(n^2)$\n",
    "- Space: $O(1)$"
   ]
  },
  {
   "cell_type": "code",
   "execution_count": 24,
   "metadata": {
    "ExecuteTime": {
     "end_time": "2020-06-03T08:49:53.919692Z",
     "start_time": "2020-06-03T08:49:53.915954Z"
    }
   },
   "outputs": [],
   "source": [
    "class Solution(object):\n",
    "    def rotate(self, matrix):\n",
    "        \"\"\"\n",
    "        :type matrix: List[List[int]]\n",
    "        :rtype: None Do not return anything, modify matrix in-place instead.\n",
    "        \"\"\"\n",
    "        for i in range(len(matrix)):\n",
    "            for j in range(i+1, len(matrix[0])):\n",
    "                matrix[i][j], matrix[j][i] = matrix[j][i],matrix[i][j]\n",
    "                \n",
    "        for i in range(len(matrix)):\n",
    "            for j in range(len(matrix[0])//2):\n",
    "                matrix[i][j], matrix[i][len(matrix[0])-1-j] = matrix[i][len(matrix[0])-1-j],matrix[i][j]\n",
    "        return"
   ]
  },
  {
   "cell_type": "code",
   "execution_count": 26,
   "metadata": {
    "ExecuteTime": {
     "end_time": "2020-06-03T08:54:51.396293Z",
     "start_time": "2020-06-03T08:54:51.393146Z"
    }
   },
   "outputs": [],
   "source": [
    "# 优化\n",
    "class Solution(object):\n",
    "    def rotate(self, matrix):\n",
    "        \"\"\"\n",
    "        :type matrix: List[List[int]]\n",
    "        :rtype: None Do not return anything, modify matrix in-place instead.\n",
    "        \"\"\"\n",
    "        n = len(matrix)\n",
    "        for i in range(n):\n",
    "            for j in range(i+1, n):\n",
    "                matrix[i][j], matrix[j][i] = matrix[j][i],matrix[i][j]\n",
    "                \n",
    "        for i in range(n):\n",
    "            matrix[i].reverse()\n",
    "        return"
   ]
  },
  {
   "cell_type": "markdown",
   "metadata": {},
   "source": [
    "# Jake's solution\n",
    "Number of layer to rotate is n//2.  For each item along the top side of each layer, save as temp and\n",
    "move in the item from the next side, repeating until temp is put into the last side.\n",
    "Alternatively - matrix[:] = list(map(list, zip(*matrix[::-1]))).  Reverse the order of row, unpack,\n",
    "zip and convert back to lists.\n",
    "- Time - O(n^2)\n",
    "- Space - O(1)"
   ]
  },
  {
   "cell_type": "code",
   "execution_count": null,
   "metadata": {},
   "outputs": [],
   "source": [
    "class Solution(object):\n",
    "    def rotate(self, matrix):\n",
    "        \"\"\"\n",
    "        :type matrix: List[List[int]]\n",
    "        :rtype: void Do not return anything, modify matrix in-place instead.\n",
    "        \"\"\"\n",
    "        n = len(matrix)\n",
    "        layers = n//2\n",
    "\n",
    "        for layer in range(layers):\n",
    "            for i in range(layer, n - layer - 1):\n",
    "                temp = matrix[layer][i]\n",
    "                matrix[layer][i] = matrix[n - 1 - i][layer]\n",
    "                matrix[n - 1 - i][layer] = matrix[n - 1 - layer][n - 1- i]\n",
    "                matrix[n - 1 - layer][n - 1 - i] = matrix[i][n - 1 - layer]\n",
    "                matrix[i][n - 1 - layer] = temp"
   ]
  },
  {
   "cell_type": "code",
   "execution_count": 33,
   "metadata": {
    "ExecuteTime": {
     "end_time": "2020-06-03T09:01:30.193841Z",
     "start_time": "2020-06-03T09:01:30.190787Z"
    }
   },
   "outputs": [
    {
     "data": {
      "text/plain": [
       "[[7, 8, 9], [4, 5, 6], [1, 2, 3]]"
      ]
     },
     "execution_count": 33,
     "metadata": {},
     "output_type": "execute_result"
    }
   ],
   "source": [
    "matrix = [\n",
    "  [1,2,3],\n",
    "  [4,5,6],\n",
    "  [7,8,9]\n",
    "]\n",
    "\n",
    "matrix[::-1]"
   ]
  }
 ],
 "metadata": {
  "kernelspec": {
   "display_name": "Python 3",
   "language": "python",
   "name": "python3"
  },
  "language_info": {
   "codemirror_mode": {
    "name": "ipython",
    "version": 3
   },
   "file_extension": ".py",
   "mimetype": "text/x-python",
   "name": "python",
   "nbconvert_exporter": "python",
   "pygments_lexer": "ipython3",
   "version": "3.6.5"
  },
  "toc": {
   "base_numbering": 1,
   "nav_menu": {},
   "number_sections": true,
   "sideBar": true,
   "skip_h1_title": false,
   "title_cell": "Table of Contents",
   "title_sidebar": "Contents",
   "toc_cell": false,
   "toc_position": {},
   "toc_section_display": true,
   "toc_window_display": false
  }
 },
 "nbformat": 4,
 "nbformat_minor": 2
}
