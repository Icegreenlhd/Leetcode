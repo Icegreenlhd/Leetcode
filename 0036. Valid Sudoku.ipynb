{
 "cells": [
  {
   "cell_type": "markdown",
   "metadata": {},
   "source": [
    "Determine if a 9x9 Sudoku board is valid. Only the filled cells need to be validated according to the following rules:\n",
    "\n",
    "1. Each row must contain the digits `1-9` without repetition.\n",
    "2. Each column must contain the digits `1-9` without repetition.\n",
    "3. Each of the 9 `3x3` sub-boxes of the grid must contain the digits `1-9` without repetition.\n",
    "\n",
    "<img src=\"https://upload.wikimedia.org/wikipedia/commons/thumb/f/ff/Sudoku-by-L2G-20050714.svg/250px-Sudoku-by-L2G-20050714.svg.png\" width=30%>\n",
    "\n",
    "The Sudoku board could be partially filled, where empty cells are filled with the character `'.'`.\n",
    "\n",
    "Example 1:\n",
    "```\n",
    "Input:\n",
    "[\n",
    "  [\"5\",\"3\",\".\",\".\",\"7\",\".\",\".\",\".\",\".\"],\n",
    "  [\"6\",\".\",\".\",\"1\",\"9\",\"5\",\".\",\".\",\".\"],\n",
    "  [\".\",\"9\",\"8\",\".\",\".\",\".\",\".\",\"6\",\".\"],\n",
    "  [\"8\",\".\",\".\",\".\",\"6\",\".\",\".\",\".\",\"3\"],\n",
    "  [\"4\",\".\",\".\",\"8\",\".\",\"3\",\".\",\".\",\"1\"],\n",
    "  [\"7\",\".\",\".\",\".\",\"2\",\".\",\".\",\".\",\"6\"],\n",
    "  [\".\",\"6\",\".\",\".\",\".\",\".\",\"2\",\"8\",\".\"],\n",
    "  [\".\",\".\",\".\",\"4\",\"1\",\"9\",\".\",\".\",\"5\"],\n",
    "  [\".\",\".\",\".\",\".\",\"8\",\".\",\".\",\"7\",\"9\"]\n",
    "]\n",
    "Output: true\n",
    "```\n",
    "Example 2:\n",
    "```\n",
    "Input:\n",
    "[\n",
    "  [\"8\",\"3\",\".\",\".\",\"7\",\".\",\".\",\".\",\".\"],\n",
    "  [\"6\",\".\",\".\",\"1\",\"9\",\"5\",\".\",\".\",\".\"],\n",
    "  [\".\",\"9\",\"8\",\".\",\".\",\".\",\".\",\"6\",\".\"],\n",
    "  [\"8\",\".\",\".\",\".\",\"6\",\".\",\".\",\".\",\"3\"],\n",
    "  [\"4\",\".\",\".\",\"8\",\".\",\"3\",\".\",\".\",\"1\"],\n",
    "  [\"7\",\".\",\".\",\".\",\"2\",\".\",\".\",\".\",\"6\"],\n",
    "  [\".\",\"6\",\".\",\".\",\".\",\".\",\"2\",\"8\",\".\"],\n",
    "  [\".\",\".\",\".\",\"4\",\"1\",\"9\",\".\",\".\",\"5\"],\n",
    "  [\".\",\".\",\".\",\".\",\"8\",\".\",\".\",\"7\",\"9\"]\n",
    "]\n",
    "Output: false\n",
    "Explanation: Same as Example 1, except with the 5 in the top left corner being \n",
    "    modified to 8. Since there are two 8's in the top left 3x3 sub-box, it is invalid.\n",
    "```\n",
    "Note:\n",
    "\n",
    "- A Sudoku board (partially filled) could be valid but is not necessarily solvable.\n",
    "- Only the filled cells need to be validated according to the mentioned rules.\n",
    "- The given board contain only digits 1-9 and the character '.'.\n",
    "- The given board size is always 9x9."
   ]
  },
  {
   "cell_type": "markdown",
   "metadata": {
    "ExecuteTime": {
     "end_time": "2020-05-14T07:42:27.127483Z",
     "start_time": "2020-05-14T07:42:27.125994Z"
    }
   },
   "source": [
    "# my solution 1, simple "
   ]
  },
  {
   "cell_type": "code",
   "execution_count": 8,
   "metadata": {
    "ExecuteTime": {
     "end_time": "2020-05-14T07:55:46.180462Z",
     "start_time": "2020-05-14T07:55:46.176839Z"
    }
   },
   "outputs": [],
   "source": [
    "class Solution(object):\n",
    "    def isValidSudoku(self, board):\n",
    "        \"\"\"\n",
    "        :type board: List[List[str]]\n",
    "        :rtype: bool\n",
    "        \"\"\"\n",
    "        cols = [[]for _ in range(9)]\n",
    "        rows = [[]for _ in range(9)]\n",
    "        bors = [[]for _ in range(9)]\n",
    "\n",
    "        for i in range(9):\n",
    "            for j in range(9):\n",
    "                sym = board[i][j]\n",
    "                if sym != \".\":\n",
    "                    if sym not in cols[i] and sym not in rows[j] and sym not in bors[i//3*3+j//3]:\n",
    "                        cols[i].append(sym)\n",
    "                        rows[j].append(sym)\n",
    "                        bors[i//3*3+j//3].append(sym)\n",
    "                    else:\n",
    "                        return False\n",
    "        return True"
   ]
  },
  {
   "cell_type": "code",
   "execution_count": 10,
   "metadata": {
    "ExecuteTime": {
     "end_time": "2020-05-14T08:02:50.671726Z",
     "start_time": "2020-05-14T08:02:50.665821Z"
    }
   },
   "outputs": [],
   "source": [
    "# modified details\n",
    "class Solution(object):\n",
    "    def isValidSudoku(self, board):\n",
    "        \"\"\"\n",
    "        :type board: List[List[str]]\n",
    "        :rtype: bool\n",
    "        \"\"\"\n",
    "        cols = [[]for _ in range(9)]\n",
    "        rows = [[]for _ in range(9)]\n",
    "        bors = [[]for _ in range(9)]\n",
    "\n",
    "        for i in range(9):\n",
    "            for j in range(9):\n",
    "                sym = board[i][j]\n",
    "                if sym != \".\":\n",
    "                    if sym in cols[i] and sym in rows[j] and sym in bors[i//3*3+j//3]:\n",
    "                        return False\n",
    "                    cols[i].append(sym)\n",
    "                    rows[j].append(sym)\n",
    "                    bors[i//3*3+j//3].append(sym)\n",
    "                        \n",
    "        return True"
   ]
  },
  {
   "cell_type": "markdown",
   "metadata": {},
   "source": [
    "# Jake's solution\n",
    "Create a set of digits seen in each row, column and box.  False if any duplicates.\n",
    "- Time - O(n^2) for board of side n\n",
    "- Space - O(n)"
   ]
  },
  {
   "cell_type": "code",
   "execution_count": 9,
   "metadata": {
    "ExecuteTime": {
     "end_time": "2020-05-14T08:00:43.387593Z",
     "start_time": "2020-05-14T08:00:43.383274Z"
    }
   },
   "outputs": [],
   "source": [
    "class Solution(object):\n",
    "    def isValidSudoku(self, board):\n",
    "        \"\"\"\n",
    "        :type board: List[List[str]]\n",
    "        :rtype: bool\n",
    "        \"\"\"\n",
    "        size = 9\n",
    "        digits = {str(i) for i in range(1,10)}\n",
    "        rows = [set() for _ in range(size)]\n",
    "        cols = [set() for _ in range(size)]\n",
    "        boxes = [set() for _ in range(size)]\n",
    "\n",
    "        for r in range(size):\n",
    "            for c in range(size):\n",
    "\n",
    "                digit = board[r][c]\n",
    "                if digit == '.':\n",
    "                    continue\n",
    "\n",
    "                if digit not in digits:\n",
    "                    return False\n",
    "\n",
    "                box = (size//3) * (r // (size//3)) + (c // (size//3))\n",
    "                if digit in rows[r] or digit in cols[c] or digit in boxes[box]:\n",
    "                    return False\n",
    "                rows[r].add(digit)\n",
    "                cols[c].add(digit)\n",
    "                boxes[box].add(digit)\n",
    "\n",
    "        return True"
   ]
  }
 ],
 "metadata": {
  "jupytext": {
   "formats": "ipynb,py"
  },
  "kernelspec": {
   "display_name": "Python 3",
   "language": "python",
   "name": "python3"
  },
  "language_info": {
   "codemirror_mode": {
    "name": "ipython",
    "version": 3
   },
   "file_extension": ".py",
   "mimetype": "text/x-python",
   "name": "python",
   "nbconvert_exporter": "python",
   "pygments_lexer": "ipython3",
   "version": "3.6.5"
  },
  "toc": {
   "base_numbering": 1,
   "nav_menu": {},
   "number_sections": true,
   "sideBar": true,
   "skip_h1_title": false,
   "title_cell": "Table of Contents",
   "title_sidebar": "Contents",
   "toc_cell": false,
   "toc_position": {},
   "toc_section_display": true,
   "toc_window_display": false
  }
 },
 "nbformat": 4,
 "nbformat_minor": 2
}
