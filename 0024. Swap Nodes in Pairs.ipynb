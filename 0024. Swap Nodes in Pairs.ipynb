{
 "cells": [
  {
   "cell_type": "markdown",
   "metadata": {},
   "source": [
    "Given a linked list, swap every two adjacent nodes and return its head.\n",
    "\n",
    "You may not modify the values in the list's nodes, only nodes itself may be changed.\n",
    "\n",
    " \n",
    "\n",
    "Example:\n",
    "```\n",
    "Given 1->2->3->4, you should return the list as 2->1->4->3.\n",
    "```"
   ]
  },
  {
   "cell_type": "code",
   "execution_count": 1,
   "metadata": {
    "ExecuteTime": {
     "end_time": "2020-04-29T03:41:44.817205Z",
     "start_time": "2020-04-29T03:41:44.813981Z"
    }
   },
   "outputs": [],
   "source": [
    "# my solution 1\n",
    "# Definition for singly-linked list.\n",
    "\n",
    "\n",
    "class ListNode(object):\n",
    "    def __init__(self, x):\n",
    "        self.val = x\n",
    "        self.next = None\n",
    "\n",
    "\n",
    "class Solution(object):\n",
    "    def swapPairs(self, head):\n",
    "        \"\"\"\n",
    "        :type head: ListNode\n",
    "        :rtype: ListNode\n",
    "        \"\"\"\n",
    "\n",
    "        result = dummy = ListNode(None)\n",
    "        result.next = head\n",
    "        \n",
    "        while result.next and result.next.next:\n",
    "            p = result.next\n",
    "            q = result.next.next\n",
    "            \n",
    "            p.next = q.next\n",
    "            q.next = p\n",
    "            result.next = q\n",
    "            \n",
    "            result = result.next.next\n",
    "        \n",
    "        return dummy.next\n",
    "        "
   ]
  },
  {
   "cell_type": "code",
   "execution_count": null,
   "metadata": {},
   "outputs": [],
   "source": [
    "_author_ = 'jake'\n",
    "_project_ = 'leetcode'\n",
    "\n",
    "# https://leetcode.com/problems/swap-nodes-in-pairs/\n",
    "# Given a linked list, swap every two adjacent nodes and return its head.\n",
    "# E.g. given 1->2->3->4, you should return the list as 2->1->4->3.\n",
    "# Your algorithm should use only constant space. You may not modify the values in the list, only nodes itself can be changed.\n",
    "\n",
    "# Store the previous node, swap and append in pairs.\n",
    "# Time - O(n)\n",
    "# Space - O(1)\n",
    "\n",
    "# Definition for singly-linked list.\n",
    "class ListNode(object):\n",
    "    def __init__(self, x):\n",
    "        self.val = x\n",
    "        self.next = None\n",
    "\n",
    "class Solution(object):\n",
    "    def swapPairs(self, head):\n",
    "        \"\"\"\n",
    "        :type head: ListNode\n",
    "        :rtype: ListNode\n",
    "        \"\"\"\n",
    "        prev = dummy = ListNode(None)\n",
    "\n",
    "        while head and head.next:\n",
    "            next_head = head.next.next\n",
    "            prev.next = head.next\n",
    "            head.next.next = head\n",
    "            prev = head\n",
    "            head = next_head\n",
    "\n",
    "        prev.next = head\n",
    "        return dummy.next"
   ]
  }
 ],
 "metadata": {
  "kernelspec": {
   "display_name": "Python 3",
   "language": "python",
   "name": "python3"
  },
  "language_info": {
   "codemirror_mode": {
    "name": "ipython",
    "version": 3
   },
   "file_extension": ".py",
   "mimetype": "text/x-python",
   "name": "python",
   "nbconvert_exporter": "python",
   "pygments_lexer": "ipython3",
   "version": "3.7.3"
  },
  "toc": {
   "base_numbering": 1,
   "nav_menu": {},
   "number_sections": true,
   "sideBar": true,
   "skip_h1_title": false,
   "title_cell": "Table of Contents",
   "title_sidebar": "Contents",
   "toc_cell": false,
   "toc_position": {},
   "toc_section_display": true,
   "toc_window_display": false
  },
  "varInspector": {
   "cols": {
    "lenName": 16,
    "lenType": 16,
    "lenVar": 40
   },
   "kernels_config": {
    "python": {
     "delete_cmd_postfix": "",
     "delete_cmd_prefix": "del ",
     "library": "var_list.py",
     "varRefreshCmd": "print(var_dic_list())"
    },
    "r": {
     "delete_cmd_postfix": ") ",
     "delete_cmd_prefix": "rm(",
     "library": "var_list.r",
     "varRefreshCmd": "cat(var_dic_list()) "
    }
   },
   "types_to_exclude": [
    "module",
    "function",
    "builtin_function_or_method",
    "instance",
    "_Feature"
   ],
   "window_display": false
  }
 },
 "nbformat": 4,
 "nbformat_minor": 2
}
