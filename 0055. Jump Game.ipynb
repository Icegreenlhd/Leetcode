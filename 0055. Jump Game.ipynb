{
 "cells": [
  {
   "cell_type": "markdown",
   "metadata": {
    "lines_to_next_cell": 2
   },
   "source": [
    "Given an array of non-negative integers, you are initially positioned at the first index of the array.\n",
    "\n",
    "Each element in the array represents your maximum jump length at that position.\n",
    "\n",
    "Determine if you are able to reach the last index.\n",
    "\n",
    "\n",
    "**Example 1**:\n",
    "\n",
    "Input: nums = [2,3,1,1,4]  \n",
    "Output: true  \n",
    "Explanation: Jump 1 step from index 0 to 1, then 3 steps to the last index.  \n",
    "\n",
    "**Example 2**:\n",
    "\n",
    "Input: nums = [3,2,1,0,4]  \n",
    "Output: false  \n",
    "Explanation: You will always arrive at index 3 no matter what. \n",
    "Its maximum jump length is 0, which makes it impossible to reach the last index.\n",
    "\n",
    "Constraints:\n",
    "\n",
    "- $1 <= nums.length <= 3 * 10^4$\n",
    "- $0 <= nums[i][j] <= 10^5$"
   ]
  },
  {
   "cell_type": "code",
   "execution_count": 6,
   "metadata": {},
   "outputs": [],
   "source": [
    "# my solution, dynamic programing\n",
    "class Solution(object):\n",
    "    def canJump(self, nums):\n",
    "        \"\"\"\n",
    "        :type nums: List[int]\n",
    "        :rtype: bool\n",
    "        \"\"\"\n",
    "        if not nums:\n",
    "            return False\n",
    "\n",
    "        have_jump = 0\n",
    "        can_jump = 1\n",
    "\n",
    "        while can_jump > have_jump:\n",
    "            max_jump = have_jump\n",
    "            for i, j in enumerate(range(have_jump, can_jump)):\n",
    "                max_jump = max(max_jump, have_jump+i+nums[j])\n",
    "                if max_jump >= len(nums)-1:\n",
    "                    return True\n",
    "            can_jump, have_jump = max_jump+1, can_jump\n",
    "        return False"
   ]
  },
  {
   "cell_type": "code",
   "execution_count": 7,
   "metadata": {
    "collapsed": true
   },
   "outputs": [
    {
     "name": "stderr",
     "output_type": "stream",
     "text": [
      "test_case1 (__main__.LeetcodeTest0055) ... ok\n",
      "test_case2 (__main__.LeetcodeTest0055) ... ok\n",
      "test_case3 (__main__.LeetcodeTest0055) ... ok\n",
      "test_case4 (__main__.LeetcodeTest0055) ... ok\n",
      "\n",
      "----------------------------------------------------------------------\n",
      "Ran 4 tests in 0.003s\n",
      "\n",
      "OK\n"
     ]
    },
    {
     "data": {
      "text/plain": [
       "<unittest.main.TestProgram at 0x29e951e3f60>"
      ]
     },
     "execution_count": 7,
     "metadata": {},
     "output_type": "execute_result"
    }
   ],
   "source": [
    "# unittest work on juyter notebook\n",
    "import unittest\n",
    "\n",
    "\n",
    "class LeetcodeTest0055(unittest.TestCase):\n",
    "\n",
    "    solution = Solution()\n",
    "\n",
    "    def test_case1(self):\n",
    "        nums = [2, 3, 1, 1, 4]\n",
    "        output = True\n",
    "        self.assertEqual(self.solution.canJump(nums), output)\n",
    "\n",
    "    def test_case2(self):\n",
    "        nums = [3, 2, 1, 0, 4]\n",
    "        output = False\n",
    "        self.assertEqual(self.solution.canJump(nums), output)\n",
    "\n",
    "    def test_case3(self):\n",
    "        nums = []\n",
    "        output = False\n",
    "        self.assertEqual(self.solution.canJump(nums), output)\n",
    "\n",
    "    def test_case4(self):\n",
    "        nums = [2, 0, 2, 0, 1]\n",
    "        output = True\n",
    "        self.assertEqual(self.solution.canJump(nums), output)\n",
    "\n",
    "\n",
    "unittest.main(argv=['ignored', '-v'], exit=False)\n"
   ]
  }
 ],
 "metadata": {
  "jupytext": {
   "formats": "ipynb,py"
  },
  "kernelspec": {
   "display_name": "Python 3",
   "language": "python",
   "name": "python3"
  },
  "language_info": {
   "codemirror_mode": {
    "name": "ipython",
    "version": 3
   },
   "file_extension": ".py",
   "mimetype": "text/x-python",
   "name": "python",
   "nbconvert_exporter": "python",
   "pygments_lexer": "ipython3",
   "version": "3.7.3"
  },
  "toc": {
   "base_numbering": 1,
   "nav_menu": {},
   "number_sections": true,
   "sideBar": true,
   "skip_h1_title": false,
   "title_cell": "Table of Contents",
   "title_sidebar": "Contents",
   "toc_cell": false,
   "toc_position": {},
   "toc_section_display": true,
   "toc_window_display": false
  },
  "varInspector": {
   "cols": {
    "lenName": 16,
    "lenType": 16,
    "lenVar": 40
   },
   "kernels_config": {
    "python": {
     "delete_cmd_postfix": "",
     "delete_cmd_prefix": "del ",
     "library": "var_list.py",
     "varRefreshCmd": "print(var_dic_list())"
    },
    "r": {
     "delete_cmd_postfix": ") ",
     "delete_cmd_prefix": "rm(",
     "library": "var_list.r",
     "varRefreshCmd": "cat(var_dic_list()) "
    }
   },
   "types_to_exclude": [
    "module",
    "function",
    "builtin_function_or_method",
    "instance",
    "_Feature"
   ],
   "window_display": false
  }
 },
 "nbformat": 4,
 "nbformat_minor": 2
}