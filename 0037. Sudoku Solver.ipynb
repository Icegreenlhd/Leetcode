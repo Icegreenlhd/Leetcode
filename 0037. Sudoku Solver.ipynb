{
 "cells": [
  {
   "cell_type": "markdown",
   "metadata": {},
   "source": [
    "Write a program to solve a Sudoku puzzle by filling the empty cells.\n",
    "\n",
    "A sudoku solution must satisfy all of the following rules:\n",
    "\n",
    "1. Each of the digits `1-9` must occur exactly once in each row.\n",
    "2. Each of the digits `1-9` must occur exactly once in each column.\n",
    "3. Each of the the digits `1-9` must occur exactly once in each of the 9 `3x3` sub-boxes of the grid.\n",
    "\n",
    "<img src=\"https://upload.wikimedia.org/wikipedia/commons/thumb/f/ff/Sudoku-by-L2G-20050714.svg/250px-Sudoku-by-L2G-20050714.svg.png\" width=30%>\n",
    "<img src=\"https://upload.wikimedia.org/wikipedia/commons/thumb/3/31/Sudoku-by-L2G-20050714_solution.svg/250px-Sudoku-by-L2G-20050714_solution.svg.png\" width=30%>\n",
    "\n",
    "Empty cells are indicated by the character `'.'`.\n",
    "\n",
    "Note:\n",
    "\n",
    "- The given board contain only digits 1-9 and the character '.'.\n",
    "- You may assume that the given Sudoku puzzle will have a single unique solution.\n",
    "- The given board size is always 9x9."
   ]
  },
  {
   "cell_type": "markdown",
   "metadata": {},
   "source": [
    "# my solution 1, DFS \n",
    "\n",
    "将行列组成数，然后依次深度搜索"
   ]
  },
  {
   "cell_type": "code",
   "execution_count": 1,
   "metadata": {
    "ExecuteTime": {
     "end_time": "2020-05-15T05:22:24.673834Z",
     "start_time": "2020-05-15T05:22:24.655881Z"
    },
    "collapsed": true
   },
   "outputs": [],
   "source": [
    "from copy import deepcopy\n",
    "class Solution(object):\n",
    "    size = 9\n",
    "    res = None\n",
    "    def solveSudoku(self, board):\n",
    "        \"\"\"\n",
    "        :type board: List[List[str]]\n",
    "        :rtype: None Do not return anything, modify board in-place instead.\n",
    "        \"\"\"\n",
    "        size = self.size\n",
    "        self.direct = list()\n",
    "        digits = {str(i) for i in range(1,10)}\n",
    "        rows = [digits.copy() for _ in range(size)]\n",
    "        cols = [digits.copy() for _ in range(size)]\n",
    "        boxes = [digits.copy() for _ in range(size)] \n",
    "        for r in range(size):\n",
    "            for c in range(size):\n",
    "\n",
    "                digit = board[r][c]\n",
    "                \n",
    "                if digit == \".\":\n",
    "                    self.direct.append(r*size+c)\n",
    "                    continue\n",
    "                    \n",
    "                assert digit in digits, \"invalid input: \" + digit\n",
    "\n",
    "                box = (size//3) * (r // (size//3)) + (c // (size//3))\n",
    "                rows[r].remove(digit)\n",
    "                cols[c].remove(digit)\n",
    "                boxes[box].remove(digit)\n",
    "                \n",
    "        self.dfs(0, rows, cols, boxes, board)\n",
    "        \n",
    "        for n in self.direct: # in-place edit\n",
    "            r = n // size\n",
    "            c = n % size          \n",
    "            board[r][c] = self.res[r][c]\n",
    "#         for i in range(size):\n",
    "#             board[i] = self.res[i]\n",
    "        return \n",
    "    \n",
    "    def dfs(self, n, rows, cols, boxes, board):\n",
    "        if n == len(self.direct):\n",
    "            self.res = deepcopy(board)\n",
    "            return \n",
    "        size = self.size\n",
    "        r = self.direct[n]//size\n",
    "        c = self.direct[n]%size\n",
    "        box = (size//3) * (r // (size//3)) + (c // (size//3))\n",
    "        for num in rows[r] & cols[c] & boxes[box]:\n",
    "            board[r][c] = num\n",
    "            rows[r].remove(num)\n",
    "            cols[c].remove(num)\n",
    "            boxes[box].remove(num)\n",
    "            self.dfs(n+1, rows, cols, boxes, board)\n",
    "            board[r][c] = '.'\n",
    "            rows[r].add(num)\n",
    "            cols[c].add(num)\n",
    "            boxes[box].add(num)"
   ]
  },
  {
   "cell_type": "code",
   "execution_count": 13,
   "metadata": {
    "ExecuteTime": {
     "end_time": "2020-05-14T13:28:14.715302Z",
     "start_time": "2020-05-14T13:28:14.702463Z"
    },
    "collapsed": true
   },
   "outputs": [
    {
     "data": {
      "text/plain": [
       "[['5', '3', '4', '6', '7', '8', '9', '1', '2'],\n",
       " ['6', '7', '2', '1', '9', '5', '3', '4', '8'],\n",
       " ['1', '9', '8', '3', '4', '2', '5', '6', '7'],\n",
       " ['8', '5', '9', '7', '6', '1', '4', '2', '3'],\n",
       " ['4', '2', '6', '8', '5', '3', '7', '9', '1'],\n",
       " ['7', '1', '3', '9', '2', '4', '8', '5', '6'],\n",
       " ['9', '6', '1', '5', '3', '7', '2', '8', '4'],\n",
       " ['2', '8', '7', '4', '1', '9', '6', '3', '5'],\n",
       " ['3', '4', '5', '2', '8', '6', '1', '7', '9']]"
      ]
     },
     "execution_count": 13,
     "metadata": {},
     "output_type": "execute_result"
    }
   ],
   "source": [
    "board = [[\"5\",\"3\",\".\",\".\",\"7\",\".\",\".\",\".\",\".\"],[\"6\",\".\",\".\",\"1\",\"9\",\"5\",\".\",\".\",\".\"],[\".\",\"9\",\"8\",\".\",\".\",\".\",\".\",\"6\",\".\"],[\"8\",\".\",\".\",\".\",\"6\",\".\",\".\",\".\",\"3\"],[\"4\",\".\",\".\",\"8\",\".\",\"3\",\".\",\".\",\"1\"],[\"7\",\".\",\".\",\".\",\"2\",\".\",\".\",\".\",\"6\"],[\".\",\"6\",\".\",\".\",\".\",\".\",\"2\",\"8\",\".\"],[\".\",\".\",\".\",\"4\",\"1\",\"9\",\".\",\".\",\"5\"],[\".\",\".\",\".\",\".\",\"8\",\".\",\".\",\"7\",\"9\"]]\n",
    "solution = Solution()\n",
    "solution.solveSudoku(board)\n",
    "board"
   ]
  },
  {
   "cell_type": "markdown",
   "metadata": {},
   "source": [
    "# Jake's Solution\n",
    "\n",
    "Convert unknown cells to a set of possible digits, initially {1..9}.\n",
    "Repeatedly use known cells to eliminate possibilities in unknown cells.  Which creates new known cells etc.\n",
    "If this does not result in a solution, recursively guess each cell from its range of possibilities."
   ]
  },
  {
   "cell_type": "code",
   "execution_count": null,
   "metadata": {
    "collapsed": true
   },
   "outputs": [],
   "source": [
    "class Solution(object):\n",
    "    def solveSudoku(self, board):\n",
    "        \"\"\"\n",
    "        :type board: List[List[str]]\n",
    "        :rtype: void Do not return anything, modify board in-place instead.\n",
    "        \"\"\"\n",
    "        self.size = 9\n",
    "        self.board = board\n",
    "        # new digits at start or digits found by reducing to 1 possibility\n",
    "        self.new_digits = []\n",
    "\n",
    "        for r in range(self.size):\n",
    "            # convert from string to list of digits\n",
    "            self.board[r] = [digit for digit in self.board[r]]\n",
    "            for c in range(self.size):\n",
    "                if self.board[r][c] == '.':\n",
    "                    # convert dot to set of possible digits\n",
    "                    self.board[r][c] = {str(i) for i in range(1, 10)}\n",
    "                else:\n",
    "                    self.new_digits.append((r, c))\n",
    "\n",
    "        while self.new_digits:  # use the certain number to delete the uncertain choice\n",
    "            for r, c in self.new_digits:\n",
    "                # given a new digit in (r,c), eliminate that digit from row, col and box\n",
    "                self.eliminate(r, c)\n",
    "                self.new_digits = []\n",
    "                self.find_new()             # identify cells with only one possible digit\n",
    "\n",
    "        self.solve_recursive()\n",
    "\n",
    "    def eliminate(self, row, col):\n",
    "        for i in range(self.size):\n",
    "\n",
    "            if isinstance(self.board[i][col], set):\n",
    "                # discard does not cause error if element not present\n",
    "                self.board[i][col].discard(self.board[row][col])\n",
    "            if isinstance(self.board[row][i], set):\n",
    "                self.board[row][i].discard(self.board[row][col])\n",
    "\n",
    "        for box_row in range(3*(row//3), 3 + 3*(row//3)):\n",
    "            for box_col in range(3*(col//3), 3 + 3*(col//3)):\n",
    "                if isinstance(self.board[box_row][box_col], set):\n",
    "                    self.board[box_row][box_col].discard(self.board[row][col])\n",
    "\n",
    "    def find_new(self):\n",
    "        for row in range(self.size):\n",
    "            for col in range(self.size):\n",
    "                if isinstance(self.board[row][col], set) and len(self.board[row][col]) == 1:\n",
    "                    self.board[row][col] = self.board[row][col].pop()\n",
    "                    self.new_digits.append((row, col))\n",
    "\n",
    "    def solve_recursive(self):\n",
    "\n",
    "        for r in range(self.size):\n",
    "            for c in range(self.size):\n",
    "\n",
    "                if len(self.board[r][c]) == 1:\n",
    "                    continue\n",
    "                # loop over possible digits\n",
    "                for digit in self.board[r][c]:\n",
    "                    # will always be valid on first recursion\n",
    "                    if self.is_valid(r, c, digit):\n",
    "                        save_set = self.board[r][c]\n",
    "                        self.board[r][c] = digit\n",
    "                        if self.solve_recursive():\n",
    "                            return True\n",
    "                        self.board[r][c] = save_set     # revert back\n",
    "                return False\n",
    "        return True\n",
    "\n",
    "    # checks whether board is valid after adding digit in row, col\n",
    "    def is_valid(self, row, col, digit):\n",
    "        for i in range(self.size):          # row and column\n",
    "            if self.board[row][i] == digit or self.board[i][col] == digit:\n",
    "                return False\n",
    "\n",
    "        n = self.size // 3\n",
    "        for r in range(n*(row//n), n + n*(row//n)):     # box\n",
    "            for c in range(n*(col//n), n + n*(col//n)):\n",
    "                if self.board[r][c] == digit:\n",
    "                    return False\n",
    "        return True"
   ]
  },
  {
   "cell_type": "code",
   "execution_count": 13,
   "metadata": {
    "ExecuteTime": {
     "end_time": "2020-05-14T13:28:14.715302Z",
     "start_time": "2020-05-14T13:28:14.702463Z"
    },
    "collapsed": true
   },
   "outputs": [
    {
     "data": {
      "text/plain": [
       "[['5', '3', '4', '6', '7', '8', '9', '1', '2'],\n",
       " ['6', '7', '2', '1', '9', '5', '3', '4', '8'],\n",
       " ['1', '9', '8', '3', '4', '2', '5', '6', '7'],\n",
       " ['8', '5', '9', '7', '6', '1', '4', '2', '3'],\n",
       " ['4', '2', '6', '8', '5', '3', '7', '9', '1'],\n",
       " ['7', '1', '3', '9', '2', '4', '8', '5', '6'],\n",
       " ['9', '6', '1', '5', '3', '7', '2', '8', '4'],\n",
       " ['2', '8', '7', '4', '1', '9', '6', '3', '5'],\n",
       " ['3', '4', '5', '2', '8', '6', '1', '7', '9']]"
      ]
     },
     "execution_count": 13,
     "metadata": {},
     "output_type": "execute_result"
    }
   ],
   "source": [
    "board = [[\"5\",\"3\",\".\",\".\",\"7\",\".\",\".\",\".\",\".\"],[\"6\",\".\",\".\",\"1\",\"9\",\"5\",\".\",\".\",\".\"],[\".\",\"9\",\"8\",\".\",\".\",\".\",\".\",\"6\",\".\"],[\"8\",\".\",\".\",\".\",\"6\",\".\",\".\",\".\",\"3\"],[\"4\",\".\",\".\",\"8\",\".\",\"3\",\".\",\".\",\"1\"],[\"7\",\".\",\".\",\".\",\"2\",\".\",\".\",\".\",\"6\"],[\".\",\"6\",\".\",\".\",\".\",\".\",\"2\",\"8\",\".\"],[\".\",\".\",\".\",\"4\",\"1\",\"9\",\".\",\".\",\"5\"],[\".\",\".\",\".\",\".\",\"8\",\".\",\".\",\"7\",\"9\"]]\n",
    "solution = Solution()\n",
    "solution.solveSudoku(board)\n",
    "board"
   ]
  },
  {
   "cell_type": "code",
   "execution_count": 87,
   "metadata": {
    "ExecuteTime": {
     "end_time": "2020-05-14T09:29:09.297351Z",
     "start_time": "2020-05-14T09:29:09.287186Z"
    },
    "collapsed": true
   },
   "outputs": [
    {
     "name": "stdout",
     "output_type": "stream",
     "text": [
      "{0, 1, 2}\n",
      "{1, 2}\n",
      "{0, 1, 2}\n",
      "{1}\n"
     ]
    }
   ],
   "source": [
    "a = list(range(3))\n",
    "set1 = set(a)\n",
    "set2 = set(a)\n",
    "print(set1)\n",
    "set1.remove(0)\n",
    "print(set1&set2)\n",
    "print(set2)\n",
    "print(set1-{2})"
   ]
  }
 ],
 "metadata": {
  "jupytext": {
   "formats": "ipynb,py"
  },
  "kernelspec": {
   "display_name": "Python 3",
   "language": "python",
   "name": "python3"
  },
  "language_info": {
   "codemirror_mode": {
    "name": "ipython",
    "version": 3
   },
   "file_extension": ".py",
   "mimetype": "text/x-python",
   "name": "python",
   "nbconvert_exporter": "python",
   "pygments_lexer": "ipython3",
   "version": "3.6.5"
  },
  "toc": {
   "base_numbering": 1,
   "nav_menu": {},
   "number_sections": true,
   "sideBar": true,
   "skip_h1_title": false,
   "title_cell": "Table of Contents",
   "title_sidebar": "Contents",
   "toc_cell": false,
   "toc_position": {},
   "toc_section_display": true,
   "toc_window_display": false
  }
 },
 "nbformat": 4,
 "nbformat_minor": 2
}
