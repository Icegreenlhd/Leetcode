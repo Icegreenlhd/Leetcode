{
 "cells": [
  {
   "cell_type": "markdown",
   "metadata": {},
   "source": [
    "Given a set of non-overlapping intervals, insert a new interval into the intervals (merge if necessary).  \n",
    "\n",
    "You may assume that the intervals were initially sorted according to their start times.  \n",
    "\n",
    "Example 1:  \n",
    "\n",
    "Input: intervals = [[1,3],[6,9]], newInterval = [2,5]  \n",
    "Output: [[1,5],[6,9]]  \n",
    "Example 2:  \n",
    "\n",
    "Input: intervals = [[1,2],[3,5],[6,7],[8,10],[12,16]], newInterval = [4,8]  \n",
    "Output: [[1,2],[3,10],[12,16]]  \n",
    "Explanation: Because the new interval [4,8] overlaps with [3,5],[6,7],[8,10].  \n",
    "NOTE: input types have been changed on April 15, 2019. Please reset to default code definition to get new method signature.  "
   ]
  },
  {
   "cell_type": "code",
   "execution_count": 9,
   "metadata": {},
   "outputs": [],
   "source": [
    "class Solution(object):\n",
    "    def insert(self, intervals, newInterval):\n",
    "        \"\"\"\n",
    "        :type intervals: List[List[int]]\n",
    "        :type newInterval: List[int]\n",
    "        :rtype: List[List[int]]\n",
    "        \"\"\"\n",
    "        head, tail = [], []\n",
    "        \n",
    "        for interval in intervals:\n",
    "            if (interval[0]<newInterval[0] and inter\n",
    "            \n",
    "        return intervals"
   ]
  },
  {
   "cell_type": "code",
   "execution_count": 10,
   "metadata": {},
   "outputs": [
    {
     "name": "stderr",
     "output_type": "stream",
     "text": [
      "test_case1 (__main__.LeetcodeTest0057) ... ERROR\n",
      "test_case2 (__main__.LeetcodeTest0057) ... ERROR\n",
      "\n",
      "======================================================================\n",
      "ERROR: test_case1 (__main__.LeetcodeTest0057)\n",
      "----------------------------------------------------------------------\n",
      "Traceback (most recent call last):\n",
      "  File \"<ipython-input-10-92860412fcfb>\", line 13, in test_case1\n",
      "    intervals, newInterval), test_output)\n",
      "  File \"<ipython-input-9-c4a40016c04f>\", line 12, in insert\n",
      "    intervals.pop[index]\n",
      "TypeError: 'builtin_function_or_method' object is not subscriptable\n",
      "\n",
      "======================================================================\n",
      "ERROR: test_case2 (__main__.LeetcodeTest0057)\n",
      "----------------------------------------------------------------------\n",
      "Traceback (most recent call last):\n",
      "  File \"<ipython-input-10-92860412fcfb>\", line 20, in test_case2\n",
      "    intervals, newInterval), test_output)\n",
      "  File \"<ipython-input-9-c4a40016c04f>\", line 12, in insert\n",
      "    intervals.pop[index]\n",
      "TypeError: 'builtin_function_or_method' object is not subscriptable\n",
      "\n",
      "----------------------------------------------------------------------\n",
      "Ran 2 tests in 0.002s\n",
      "\n",
      "FAILED (errors=2)\n"
     ]
    },
    {
     "data": {
      "text/plain": [
       "<unittest.main.TestProgram at 0x29ba6f55f98>"
      ]
     },
     "execution_count": 10,
     "metadata": {},
     "output_type": "execute_result"
    }
   ],
   "source": [
    "# +\n",
    "import unittest\n",
    "\n",
    "\n",
    "class LeetcodeTest0057(unittest.TestCase):\n",
    "    solution = Solution()\n",
    "\n",
    "    def test_case1(self):\n",
    "        intervals = [[1, 2], [3, 5], [6, 7], [8, 10], [12, 16]]\n",
    "        newInterval = [4, 8]\n",
    "        test_output = [[1, 2], [3, 10], [12, 16]]\n",
    "        self.assertEqual(self.solution.insert(\n",
    "            intervals, newInterval), test_output)\n",
    "\n",
    "    def test_case2(self):\n",
    "        intervals = [[1, 3], [6, 9]]\n",
    "        newInterval = [2, 5]\n",
    "        test_output= [[1,5],[6,9]]\n",
    "        self.assertEqual(self.solution.insert(\n",
    "            intervals, newInterval), test_output)\n",
    "\n",
    "unittest.main(argv=['ignored', '-v'], exit=False)"
   ]
  }
 ],
 "metadata": {
  "jupytext": {
   "formats": "ipynb,py"
  },
  "kernelspec": {
   "display_name": "Python 3",
   "language": "python",
   "name": "python3"
  },
  "language_info": {
   "codemirror_mode": {
    "name": "ipython",
    "version": 3
   },
   "file_extension": ".py",
   "mimetype": "text/x-python",
   "name": "python",
   "nbconvert_exporter": "python",
   "pygments_lexer": "ipython3",
   "version": "3.7.3"
  },
  "toc": {
   "base_numbering": 1,
   "nav_menu": {},
   "number_sections": true,
   "sideBar": true,
   "skip_h1_title": false,
   "title_cell": "Table of Contents",
   "title_sidebar": "Contents",
   "toc_cell": false,
   "toc_position": {},
   "toc_section_display": true,
   "toc_window_display": false
  },
  "varInspector": {
   "cols": {
    "lenName": 16,
    "lenType": 16,
    "lenVar": 40
   },
   "kernels_config": {
    "python": {
     "delete_cmd_postfix": "",
     "delete_cmd_prefix": "del ",
     "library": "var_list.py",
     "varRefreshCmd": "print(var_dic_list())"
    },
    "r": {
     "delete_cmd_postfix": ") ",
     "delete_cmd_prefix": "rm(",
     "library": "var_list.r",
     "varRefreshCmd": "cat(var_dic_list()) "
    }
   },
   "types_to_exclude": [
    "module",
    "function",
    "builtin_function_or_method",
    "instance",
    "_Feature"
   ],
   "window_display": false
  }
 },
 "nbformat": 4,
 "nbformat_minor": 2
}
