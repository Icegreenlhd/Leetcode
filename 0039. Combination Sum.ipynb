{
 "cells": [
  {
   "cell_type": "markdown",
   "metadata": {},
   "source": [
    "Given a set of candidate numbers (candidates) (without duplicates) and a target number (target), find all unique combinations in candidates where the candidate numbers sums to target.\n",
    "\n",
    "The same repeated number may be chosen from candidates unlimited number of times.\n",
    "\n",
    "Note:\n",
    "\n",
    "- All numbers (including target) will be positive integers.\n",
    "- The solution set must not contain duplicate combinations.\n",
    "Example 1:\n",
    "```\n",
    "Input: candidates = [2,3,6,7], target = 7,\n",
    "A solution set is:\n",
    "[\n",
    "  [7],\n",
    "  [2,2,3]\n",
    "]\n",
    "```\n",
    "Example 2:\n",
    "```\n",
    "Input: candidates = [2,3,5], target = 8,\n",
    "A solution set is:\n",
    "[\n",
    "  [2,2,2,2],\n",
    "  [2,3,3],\n",
    "  [3,5]\n",
    "]\n",
    "```"
   ]
  },
  {
   "cell_type": "markdown",
   "metadata": {
    "ExecuteTime": {
     "end_time": "2020-05-15T03:50:54.002927Z",
     "start_time": "2020-05-15T03:50:54.000293Z"
    }
   },
   "source": [
    "# my solution1 , dynamic programming\n",
    "\n",
    "## 学习点动态规划不适用于非求极值"
   ]
  },
  {
   "cell_type": "code",
   "execution_count": 11,
   "metadata": {
    "ExecuteTime": {
     "end_time": "2020-05-15T05:15:19.806708Z",
     "start_time": "2020-05-15T05:15:19.802328Z"
    }
   },
   "outputs": [],
   "source": [
    "class Solution(object):\n",
    "    def combinationSum(self, candidates, target):\n",
    "        \"\"\"\n",
    "        :type candidates: List[int]\n",
    "        :type target: int\n",
    "        :rtype: List[List[int]]\n",
    "        \"\"\"\n",
    "        assert all(candidates), \"no zero input\"\n",
    "        dynamic = [[[] for t in range(target+1)]\n",
    "                   for _ in range(len(candidates)+1)]\n",
    "        for i, c in enumerate(candidates):\n",
    "            for j in range(1, target+1):\n",
    "                if j == c:\n",
    "                    dynamic[i+1][j].append([c])\n",
    "                if dynamic[i][j]:\n",
    "                    for k in dynamic[i][j]:\n",
    "                        dynamic[i+1][j].append(k[:])\n",
    "                if j>c and dynamic[i+1][j-c]:\n",
    "                    for k in dynamic[i+1][j-c]:\n",
    "                        dynamic[i+1][j].append(k+[c])\n",
    "        for i in dynamic:\n",
    "            print(i)\n",
    "        return dynamic[len(candidates)][target]"
   ]
  },
  {
   "cell_type": "code",
   "execution_count": 12,
   "metadata": {
    "ExecuteTime": {
     "end_time": "2020-05-15T05:15:21.584127Z",
     "start_time": "2020-05-15T05:15:21.580181Z"
    },
    "collapsed": true
   },
   "outputs": [
    {
     "name": "stdout",
     "output_type": "stream",
     "text": [
      "[[], [], [], [], [], [], [], [], []]\n",
      "[[], [], [[2]], [], [[2, 2]], [], [[2, 2, 2]], [], [[2, 2, 2, 2]]]\n",
      "[[], [], [[2]], [[3]], [[2, 2]], [[2, 3]], [[2, 2, 2], [3, 3]], [[2, 2, 3]], [[2, 2, 2, 2], [2, 3, 3]]]\n",
      "[[], [], [[2]], [[3]], [[4], [2, 2]], [[2, 3]], [[2, 2, 2], [3, 3], [2, 4]], [[2, 2, 3], [3, 4]], [[2, 2, 2, 2], [2, 3, 3], [4, 4], [2, 2, 4]]]\n",
      "[[], [], [[2]], [[3]], [[4], [2, 2]], [[5], [2, 3]], [[2, 2, 2], [3, 3], [2, 4]], [[2, 2, 3], [3, 4], [2, 5]], [[2, 2, 2, 2], [2, 3, 3], [4, 4], [2, 2, 4], [3, 5]]]\n"
     ]
    },
    {
     "data": {
      "text/plain": [
       "[[2, 2, 2, 2], [2, 3, 3], [4, 4], [2, 2, 4], [3, 5]]"
      ]
     },
     "execution_count": 12,
     "metadata": {},
     "output_type": "execute_result"
    }
   ],
   "source": [
    "candidates = [2,3,4,5]\n",
    "target = 8\n",
    "solution= Solution()\n",
    "solution.combinationSum(candidates, target)"
   ]
  },
  {
   "cell_type": "markdown",
   "metadata": {},
   "source": [
    "# Jake's Solution\n",
    "Subtract each candidate from target as many times as possible whilst remainder is non-negative. Recurse\n",
    "each time, moving on to the next candidate.\n",
    "- Time - approx f^n where f is target/average_candidate and n is the number of candidates with this nb recursions\n"
   ]
  },
  {
   "cell_type": "code",
   "execution_count": 13,
   "metadata": {
    "ExecuteTime": {
     "end_time": "2020-05-15T05:17:56.475581Z",
     "start_time": "2020-05-15T05:17:56.469469Z"
    }
   },
   "outputs": [],
   "source": [
    "class Solution(object):\n",
    "    def combinationSum(self, candidates, target):\n",
    "        \"\"\"\n",
    "        :type candidates: List[int]\n",
    "        :type target: int\n",
    "        :rtype: List[List[int]]\n",
    "        \"\"\"\n",
    "        result = []\n",
    "        self.helper(candidates, 0, target, [], result)\n",
    "        return result\n",
    "\n",
    "    def helper(self, nums, next, target, partial, result):\n",
    "        if target == 0:\n",
    "            result.append(partial)\n",
    "            return\n",
    "        if next == len(nums):\n",
    "            return\n",
    "\n",
    "        i = 0\n",
    "        while target-i*nums[next] >= 0:\n",
    "            self.helper(nums, next+1, target-i *\n",
    "                        nums[next], partial + [nums[next]]*i, result)\n",
    "            i += 1"
   ]
  },
  {
   "cell_type": "markdown",
   "metadata": {},
   "source": [
    "# azl397985856 / leetcode \n",
    "## 思路\n",
    "\n",
    "这道题目是求集合，并不是求极值，因此**动态规划**不是特别切合，因此我们需要考虑别的方法。\n",
    "\n",
    "这种题目其实有一个通用的解法，就是**回溯法**。 网上也有大神给出了这种回溯法解题的 通用写法，这里的所有的解法使用通用方法解答。 除了这道题目还有很多其他题目可以用这种通用解法，具体的题目见后方相关题目部分。\n",
    "\n",
    "我们先来看下通用解法的解题思路，我画了一张图：\n",
    "<img src='https://s1.ax1x.com/2020/05/15/YrIalR.png' width=70%>"
   ]
  },
  {
   "cell_type": "code",
   "execution_count": 19,
   "metadata": {
    "ExecuteTime": {
     "end_time": "2020-05-15T05:43:44.962251Z",
     "start_time": "2020-05-15T05:43:44.958500Z"
    }
   },
   "outputs": [],
   "source": [
    "class Solution:\n",
    "    def combinationSum(self, candidates, target):\n",
    "        \"\"\"\n",
    "        回溯法，层层递减，得到符合条件的路径就加入结果集中，超出则剪枝；\n",
    "        主要是要注意一些细节，避免重复等；\n",
    "        \"\"\"\n",
    "        size = len(candidates)\n",
    "        if size <= 0:\n",
    "            return []\n",
    "\n",
    "        # 先排序，便于后面剪枝\n",
    "        candidates.sort()\n",
    "\n",
    "        path = []\n",
    "        res = []\n",
    "        self._find_path(target, path, res, candidates, 0, size)\n",
    "\n",
    "        return res\n",
    "\n",
    "    def _find_path(self, target, path, res, candidates, begin, size):\n",
    "        \"\"\"沿着路径往下走\"\"\"\n",
    "        if target == 0:\n",
    "            res.append(path[:])\n",
    "        else:\n",
    "            for i in range(begin, size):\n",
    "                left_num = target - candidates[i]\n",
    "                # 如果剩余值为负数，说明超过了，剪枝\n",
    "                if left_num < 0:\n",
    "                    break\n",
    "                # 否则把当前值加入路径\n",
    "                path.append(candidates[i])\n",
    "                # 为避免重复解，我们把比当前值小的参数也从下一次寻找中剔除，\n",
    "                # 因为根据他们得出的解一定在之前就找到过了\n",
    "                self._find_path(left_num, path, res, candidates, i, size)\n",
    "                # 记得把当前值移出路径，才能进入下一个值的路径\n",
    "                path.pop()"
   ]
  },
  {
   "cell_type": "code",
   "execution_count": 18,
   "metadata": {
    "ExecuteTime": {
     "end_time": "2020-05-15T05:42:58.328967Z",
     "start_time": "2020-05-15T05:42:58.325562Z"
    }
   },
   "outputs": [
    {
     "data": {
      "text/plain": [
       "[[2, 2, 2, 2], [2, 2, 4], [2, 3, 3], [3, 5], [4, 4]]"
      ]
     },
     "execution_count": 18,
     "metadata": {},
     "output_type": "execute_result"
    }
   ],
   "source": [
    "candidates = [2,3,4,5]\n",
    "target = 8\n",
    "solution= Solution()\n",
    "solution.combinationSum(candidates, target)"
   ]
  }
 ],
 "metadata": {
  "kernelspec": {
   "display_name": "Python 3",
   "language": "python",
   "name": "python3"
  },
  "language_info": {
   "codemirror_mode": {
    "name": "ipython",
    "version": 3
   },
   "file_extension": ".py",
   "mimetype": "text/x-python",
   "name": "python",
   "nbconvert_exporter": "python",
   "pygments_lexer": "ipython3",
   "version": "3.6.5"
  },
  "toc": {
   "base_numbering": 1,
   "nav_menu": {},
   "number_sections": true,
   "sideBar": true,
   "skip_h1_title": false,
   "title_cell": "Table of Contents",
   "title_sidebar": "Contents",
   "toc_cell": false,
   "toc_position": {
    "height": "calc(100% - 180px)",
    "left": "10px",
    "top": "150px",
    "width": "190px"
   },
   "toc_section_display": true,
   "toc_window_display": true
  }
 },
 "nbformat": 4,
 "nbformat_minor": 2
}
