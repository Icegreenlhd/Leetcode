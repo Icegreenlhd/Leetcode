{
 "cells": [
  {
   "cell_type": "markdown",
   "metadata": {},
   "source": [
    "给定一个字符串，请你找出其中不含有重复字符的 最长子串 的长度。\n",
    "\n",
    "示例 1:\n",
    "\n",
    "输入: \"abcabcbb\"\n",
    "输出: 3 \n",
    "解释: 因为无重复字符的最长子串是 \"abc\"，所以其长度为 3。\n",
    "示例 2:\n",
    "\n",
    "输入: \"bbbbb\"\n",
    "输出: 1\n",
    "解释: 因为无重复字符的最长子串是 \"b\"，所以其长度为 1。\n",
    "示例 3:\n",
    "\n",
    "输入: \"pwwkew\"\n",
    "输出: 3\n",
    "解释: 因为无重复字符的最长子串是 \"wke\"，所以其长度为 3。\n",
    "     请注意，你的答案必须是 子串 的长度，\"pwke\" 是一个子序列，不是子串。\n",
    "\n",
    "来源：力扣（LeetCode）\n",
    "链接：https://leetcode-cn.com/problems/longest-substring-without-repeating-characters\n",
    "著作权归领扣网络所有。商业转载请联系官方授权，非商业转载请注明出处。"
   ]
  },
  {
   "cell_type": "code",
   "execution_count": 36,
   "metadata": {
    "ExecuteTime": {
     "end_time": "2020-04-03T09:12:46.270443Z",
     "start_time": "2020-04-03T09:12:46.267518Z"
    }
   },
   "outputs": [],
   "source": [
    "# my solution\n",
    "class Solution(object):\n",
    "    def lengthOfLongestSubstring(self, s):\n",
    "        \"\"\"\n",
    "        :type s: str\n",
    "        :rtype: int\n",
    "        \"\"\"\n",
    "        last_seen = dict()\n",
    "        start = 0\n",
    "        longest = 0\n",
    "\n",
    "        for i, x in enumerate(s):\n",
    "            if x in last_seen and start <= last_seen[x]:\n",
    "                start = last_seen[x] + 1\n",
    "            if longest < i - start + 1:\n",
    "                longest = i - start + 1\n",
    "            last_seen[x] = i\n",
    "        return longest"
   ]
  },
  {
   "cell_type": "code",
   "execution_count": 38,
   "metadata": {
    "ExecuteTime": {
     "end_time": "2020-04-03T10:14:11.333979Z",
     "start_time": "2020-04-03T10:14:11.330867Z"
    }
   },
   "outputs": [],
   "source": [
    "# Jake solution\n",
    "class Solution(object):\n",
    "    def lengthOfLongestSubstring(self, s):\n",
    "        \"\"\"\n",
    "        :type s: str\n",
    "        :rtype: int\n",
    "        \"\"\"\n",
    "        last_seen = {}\n",
    "        start = 0\n",
    "        longest = 0\n",
    "\n",
    "        for i, x in enumerate(s):\n",
    "            if x in last_seen and start <= last_seen[x]:\n",
    "                start = last_seen[x] + 1\n",
    "            else:\n",
    "                longest = max(longest, i - start + 1)\n",
    "\n",
    "            last_seen[x] = i\n",
    "\n",
    "        return longest"
   ]
  },
  {
   "cell_type": "code",
   "execution_count": null,
   "metadata": {},
   "outputs": [],
   "source": [
    "作者：powcai\n",
    "链接：https://leetcode-cn.com/problems/longest-substring-without-repeating-characters/solution/hua-dong-chuang-kou-by-powcai/\n",
    "来源：力扣（LeetCode）\n",
    "著作权归作者所有。商业转载请联系作者获得授权，非商业转载请注明出处。"
   ]
  },
  {
   "cell_type": "code",
   "execution_count": 7,
   "metadata": {
    "ExecuteTime": {
     "end_time": "2020-04-03T11:22:20.236611Z",
     "start_time": "2020-04-03T11:22:20.233233Z"
    }
   },
   "outputs": [],
   "source": [
    "# Slide windows\n",
    "class Solution:\n",
    "    def lengthOfLongestSubstring(self, s):\n",
    "        \"\"\"\n",
    "        :type s: str\n",
    "        :rtype: int\n",
    "        \"\"\"\n",
    "        from collections import defaultdict\n",
    "        lookup = defaultdict(int)\n",
    "        start = 0\n",
    "        end = 0\n",
    "        max_len = 0\n",
    "        counter = 0\n",
    "        while end < len(s):\n",
    "#             print(lookup)\n",
    "            if lookup[s[end]] > 0:\n",
    "                counter += 1\n",
    "            lookup[s[end]] += 1\n",
    "            end += 1\n",
    "            while counter > 0:\n",
    "                if lookup[s[start]] > 1:\n",
    "                    counter -= 1\n",
    "                lookup[s[start]] -= 1\n",
    "                start += 1\n",
    "            max_len = max(max_len, end - start)\n",
    "        return max_len"
   ]
  },
  {
   "cell_type": "code",
   "execution_count": 8,
   "metadata": {
    "ExecuteTime": {
     "end_time": "2020-04-03T11:22:21.493480Z",
     "start_time": "2020-04-03T11:22:21.490413Z"
    }
   },
   "outputs": [
    {
     "data": {
      "text/plain": [
       "3"
      ]
     },
     "execution_count": 8,
     "metadata": {},
     "output_type": "execute_result"
    }
   ],
   "source": [
    "solution = Solution()\n",
    "s1 = \"abcabcbb\"\n",
    "s2 = \"bbbbb\"\n",
    "s3 = \"pwwkew\"\n",
    "s4 = \" \"\n",
    "s5 = \"dvdf\"\n",
    "solution.lengthOfLongestSubstring(s3)"
   ]
  }
 ],
 "metadata": {
  "kernelspec": {
   "display_name": "Python 3",
   "language": "python",
   "name": "python3"
  },
  "language_info": {
   "codemirror_mode": {
    "name": "ipython",
    "version": 3
   },
   "file_extension": ".py",
   "mimetype": "text/x-python",
   "name": "python",
   "nbconvert_exporter": "python",
   "pygments_lexer": "ipython3",
   "version": "3.6.5"
  },
  "toc": {
   "base_numbering": 1,
   "nav_menu": {},
   "number_sections": true,
   "sideBar": true,
   "skip_h1_title": false,
   "title_cell": "Table of Contents",
   "title_sidebar": "Contents",
   "toc_cell": false,
   "toc_position": {},
   "toc_section_display": true,
   "toc_window_display": false
  }
 },
 "nbformat": 4,
 "nbformat_minor": 2
}
