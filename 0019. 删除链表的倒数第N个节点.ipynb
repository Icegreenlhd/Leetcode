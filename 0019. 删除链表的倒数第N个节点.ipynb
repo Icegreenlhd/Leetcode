{
 "cells": [
  {
   "cell_type": "markdown",
   "metadata": {},
   "source": [
    "给定一个链表，删除链表的倒数第 n 个节点，并且返回链表的头结点。\n",
    "\n",
    "示例：\n",
    "```\n",
    "给定一个链表: 1->2->3->4->5, 和 n = 2.\n",
    "\n",
    "当删除了倒数第二个节点后，链表变为 1->2->3->5.\n",
    "说明：\n",
    "```\n",
    "给定的 n 保证是有效的。\n",
    "\n",
    "进阶：\n",
    "\n",
    "你能尝试使用一趟扫描实现吗？\n",
    "\n",
    "来源：力扣（LeetCode）\n",
    "链接：https://leetcode-cn.com/problems/remove-nth-node-from-end-of-list\n",
    "著作权归领扣网络所有。商业转载请联系官方授权，非商业转载请注明出处。"
   ]
  },
  {
   "cell_type": "code",
   "execution_count": 1,
   "metadata": {
    "ExecuteTime": {
     "end_time": "2020-04-25T07:35:08.859186Z",
     "start_time": "2020-04-25T07:35:08.855141Z"
    }
   },
   "outputs": [],
   "source": [
    "# my solution 1, in two pass\n",
    "# Definition for singly-linked list.\n",
    "class ListNode(object):\n",
    "    def __init__(self, x):\n",
    "        self.val = x\n",
    "        self.next = None\n",
    "\n",
    "class Solution(object):\n",
    "    def removeNthFromEnd(self, head, n):\n",
    "        \"\"\"\n",
    "        :type head: ListNode\n",
    "        :type n: int\n",
    "        :rtype: ListNode\n",
    "        \"\"\"\n",
    "        newhead = pointer = ListNode(None)\n",
    "        pointer.next = head\n",
    "        length = 0\n",
    "        index = 0\n",
    "        \n",
    "        while pointer.next:\n",
    "            pointer = pointer.next\n",
    "            length += 1\n",
    "        \n",
    "        pointer = newhead\n",
    "        for i in range(length - n):\n",
    "            pointer = pointer.next\n",
    "        \n",
    "        temp = pointer.next\n",
    "        pointer.next = pointer.next.next\n",
    "#         del temp\n",
    "        \n",
    "        return newhead.next"
   ]
  },
  {
   "cell_type": "code",
   "execution_count": 7,
   "metadata": {
    "ExecuteTime": {
     "end_time": "2020-04-25T07:51:27.757502Z",
     "start_time": "2020-04-25T07:51:27.753452Z"
    }
   },
   "outputs": [],
   "source": [
    "# my solution 2, in one pass\n",
    "\n",
    "\n",
    "class ListNode(object):\n",
    "    def __init__(self, x):\n",
    "        self.val = x\n",
    "        self.next = None\n",
    "\n",
    "\n",
    "class Solution(object):\n",
    "    def removeNthFromEnd(self, head, n):\n",
    "        \"\"\"\n",
    "        :type head: ListNode\n",
    "        :type n: int\n",
    "        :rtype: ListNode\n",
    "        \"\"\"\n",
    "        if not head:\n",
    "            return None\n",
    "\n",
    "        nodes = list()\n",
    "        pointer = ListNode(None)\n",
    "        pointer.next = head\n",
    "\n",
    "        while pointer:\n",
    "            nodes.append(pointer)\n",
    "            pointer = pointer.next\n",
    "        \n",
    "        nodes[len(nodes)-1-n].next = nodes[len(nodes)-1-n].next.next\n",
    "#         del nodes[len(nodes)-n]\n",
    "        return nodes[0].next"
   ]
  },
  {
   "cell_type": "code",
   "execution_count": null,
   "metadata": {},
   "outputs": [],
   "source": [
    "_author_ = 'jake'\n",
    "_project_ = 'leetcode'\n",
    "\n",
    "# https://leetcode.com/problems/remove-nth-node-from-end-of-list/\n",
    "# Given a linked list, remove the nth node from the end of list and return its head.\n",
    "\n",
    "# Advance first pointer n steps then advance both pointers at same rate.\n",
    "# Time - O(n)\n",
    "# Space - O(1)\n",
    "\n",
    "# Definition for singly-linked list.\n",
    "# class ListNode(object):\n",
    "#     def __init__(self, x):\n",
    "#         self.val = x\n",
    "#         self.next = None\n",
    "\n",
    "class Solution(object):\n",
    "    def removeNthFromEnd(self, head, n):\n",
    "        \"\"\"\n",
    "        :type head: ListNode\n",
    "        :type n: int\n",
    "        :rtype: ListNode\n",
    "        \"\"\"\n",
    "        first, second = head, head\n",
    "\n",
    "        for i in range(n):      # move first n steps forwards\n",
    "            first = first.next\n",
    "        if not first:\n",
    "            return head.next\n",
    "\n",
    "        while first.next:       # move both pointers until first is at end\n",
    "            first = first.next\n",
    "            second = second.next\n",
    "        second.next = second.next.next  # nth from end is second.next\n",
    "        return head"
   ]
  }
 ],
 "metadata": {
  "jupytext": {
   "formats": "ipynb,py"
  },
  "kernelspec": {
   "display_name": "Python 3",
   "language": "python",
   "name": "python3"
  },
  "language_info": {
   "codemirror_mode": {
    "name": "ipython",
    "version": 3
   },
   "file_extension": ".py",
   "mimetype": "text/x-python",
   "name": "python",
   "nbconvert_exporter": "python",
   "pygments_lexer": "ipython3",
   "version": "3.6.5"
  },
  "toc": {
   "base_numbering": 1,
   "nav_menu": {},
   "number_sections": true,
   "sideBar": true,
   "skip_h1_title": false,
   "title_cell": "Table of Contents",
   "title_sidebar": "Contents",
   "toc_cell": false,
   "toc_position": {},
   "toc_section_display": true,
   "toc_window_display": false
  }
 },
 "nbformat": 4,
 "nbformat_minor": 2
}
