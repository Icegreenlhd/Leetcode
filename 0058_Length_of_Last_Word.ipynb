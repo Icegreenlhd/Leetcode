{
 "cells": [
  {
   "cell_type": "markdown",
   "metadata": {
    "lines_to_next_cell": 2
   },
   "source": [
    "Given a string s consists of upper/lower-case alphabets and empty space characters ' ', return the length of last word (last word means the last appearing word if we loop from left to right) in the string.\n",
    "\n",
    "If the last word does not exist, return 0.\n",
    "\n",
    "Note: A word is defined as a maximal substring consisting of non-space characters only.\n",
    "\n",
    "Example:\n",
    "\n",
    "Input: \"Hello World\"\n",
    "Output: 5"
   ]
  },
  {
   "cell_type": "code",
   "execution_count": 1,
   "metadata": {
    "lines_to_next_cell": 1
   },
   "outputs": [],
   "source": [
    "class Solution(object):\n",
    "    def lengthOfLastWord(self, s):\n",
    "        \"\"\"\n",
    "        :type s: str\n",
    "        :rtype: int\n",
    "        \"\"\"\n",
    "        s_list = s.split(\" \")\n",
    "        for i in range(len(s_list)-1, -1, -1):\n",
    "            if len(s_list[i]) > 0:\n",
    "                return len(s_list[i])\n",
    "        else:\n",
    "            return 0"
   ]
  },
  {
   "cell_type": "code",
   "execution_count": null,
   "metadata": {},
   "outputs": [],
   "source": [
    "import unittest\n",
    "\n",
    "\n",
    "class LeetcodeTest0058(unittest.TestCase):\n",
    "    solution = Solution()\n",
    "\n",
    "    def test_case1(self):\n",
    "        test_input = \"Hello world\"\n",
    "        test_output = 5\n",
    "        self.assertEqual(self.solution.lengthOfLastWord(test_input), test_output)\n",
    "        \n",
    "    def test_case2(self):\n",
    "        test_input = \"\"\n",
    "        test_output = 0\n",
    "        self.assertEqual(self.solution.lengthOfLastWord(test_input), test_output)\n",
    "    \n",
    "    def test_case3(self):\n",
    "        test_input = \"aaa\"\n",
    "        test_output = 3\n",
    "        self.assertEqual(self.solution.lengthOfLastWord(test_input), test_output)\n",
    "\n",
    "    def test_case4(self):\n",
    "        test_input = \"a \"\n",
    "        test_output = 1\n",
    "        self.assertEqual(self.solution.lengthOfLastWord(test_input), test_output)\n",
    "\n",
    "    def test_case5(self):\n",
    "        test_input = \"a aa\"\n",
    "        test_output = 2\n",
    "        self.assertEqual(self.solution.lengthOfLastWord(test_input), test_output)\n",
    "\n",
    "\n",
    "unittest.main(argv=['ignored', '-v'], exit=False)"
   ]
  }
 ],
 "metadata": {
  "jupytext": {
   "formats": "ipynb,py"
  },
  "kernelspec": {
   "display_name": "Python 3",
   "language": "python",
   "name": "python3"
  },
  "language_info": {
   "codemirror_mode": {
    "name": "ipython",
    "version": 3
   },
   "file_extension": ".py",
   "mimetype": "text/x-python",
   "name": "python",
   "nbconvert_exporter": "python",
   "pygments_lexer": "ipython3",
   "version": "3.7.3"
  },
  "toc": {
   "base_numbering": 1,
   "nav_menu": {},
   "number_sections": true,
   "sideBar": true,
   "skip_h1_title": false,
   "title_cell": "Table of Contents",
   "title_sidebar": "Contents",
   "toc_cell": false,
   "toc_position": {},
   "toc_section_display": true,
   "toc_window_display": false
  },
  "varInspector": {
   "cols": {
    "lenName": 16,
    "lenType": 16,
    "lenVar": 40
   },
   "kernels_config": {
    "python": {
     "delete_cmd_postfix": "",
     "delete_cmd_prefix": "del ",
     "library": "var_list.py",
     "varRefreshCmd": "print(var_dic_list())"
    },
    "r": {
     "delete_cmd_postfix": ") ",
     "delete_cmd_prefix": "rm(",
     "library": "var_list.r",
     "varRefreshCmd": "cat(var_dic_list()) "
    }
   },
   "types_to_exclude": [
    "module",
    "function",
    "builtin_function_or_method",
    "instance",
    "_Feature"
   ],
   "window_display": false
  }
 },
 "nbformat": 4,
 "nbformat_minor": 2
}