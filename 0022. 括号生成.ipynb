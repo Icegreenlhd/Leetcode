{
 "cells": [
  {
   "cell_type": "markdown",
   "metadata": {},
   "source": [
    "数字 n 代表生成括号的对数，请你设计一个函数，用于能够生成所有可能的并且 有效的 括号组合。\n",
    "\n",
    " \n",
    "\n",
    "示例：\n",
    "```\n",
    "输入：n = 3\n",
    "输出：[\n",
    "       \"((()))\",\n",
    "       \"(()())\",\n",
    "       \"(())()\",\n",
    "       \"()(())\",\n",
    "       \"()()()\"\n",
    "     ]\n",
    "```\n",
    "来源：力扣（LeetCode）\n",
    "链接：https://leetcode-cn.com/problems/generate-parentheses\n",
    "著作权归领扣网络所有。商业转载请联系官方授权，非商业转载请注明出处。"
   ]
  },
  {
   "cell_type": "code",
   "execution_count": 5,
   "metadata": {
    "ExecuteTime": {
     "end_time": "2020-04-27T03:59:58.706316Z",
     "start_time": "2020-04-27T03:59:58.700672Z"
    }
   },
   "outputs": [],
   "source": [
    "# my solution 1, recursion\n",
    "class Solution(object):\n",
    "    def generateParenthesis(self, n):\n",
    "        \"\"\"\n",
    "        :type n: int\n",
    "        :rtype: List[str]\n",
    "        \"\"\"\n",
    "        result = []\n",
    "        self.generate(n, 0, '', result)\n",
    "        return result\n",
    "        \n",
    "    def generate(self, n, left, prefix, result):\n",
    "        if not n and not left:\n",
    "            result.append(prefix)\n",
    "            return\n",
    "        if n:\n",
    "            self.generate(n-1, left+1, prefix+'(', result)\n",
    "        if left:\n",
    "            self.generate(n, left-1, prefix+')',result)"
   ]
  },
  {
   "cell_type": "code",
   "execution_count": 6,
   "metadata": {
    "ExecuteTime": {
     "end_time": "2020-04-27T04:02:07.981558Z",
     "start_time": "2020-04-27T04:02:07.978110Z"
    }
   },
   "outputs": [],
   "source": [
    "_author_ = 'jake'\n",
    "_project_ = 'leetcode'\n",
    "\n",
    "# https://leetcode.com/problems/generate-parentheses/\n",
    "# Given n pairs of parentheses, write a function to generate all combinations of well-formed parentheses.\n",
    "\n",
    "# Recursively add an opening left bracket if any remain, and a closing right bracket if more left brackets have been used.\n",
    "# Time - O(2^n), each recursion can generate 2 recursive calls althougn in practive this is an upper bound\n",
    "# Space - O(2^n)\n",
    "\n",
    "class Solution(object):\n",
    "    def generateParenthesis(self, n):\n",
    "        \"\"\"\n",
    "        :type n: int\n",
    "        :rtype: List[str]\n",
    "        \"\"\"\n",
    "        result = []\n",
    "        self.generate([], n, n, result)\n",
    "        return result\n",
    "\n",
    "    # Generates all parentheses given a starting prefix and remaining left and right brackets.\n",
    "    def generate(self, prefix, left, right, result):\n",
    "        if left == 0 and right == 0:\n",
    "            result.append(\"\".join(prefix))\n",
    "        if left != 0:\n",
    "            self.generate(prefix + ['('], left-1, right, result)\n",
    "        if right > left:\n",
    "            self.generate(prefix + [')'], left, right-1, result)"
   ]
  },
  {
   "cell_type": "code",
   "execution_count": 7,
   "metadata": {
    "ExecuteTime": {
     "end_time": "2020-04-27T04:02:09.902979Z",
     "start_time": "2020-04-27T04:02:09.898787Z"
    }
   },
   "outputs": [
    {
     "name": "stdout",
     "output_type": "stream",
     "text": [
      "Right Input:3 Result:['((()))', '(()())', '(())()', '()(())', '()()()'] Myresult:['((()))', '(()())', '(())()', '()(())', '()()()']\n",
      "Right Input:0 Result:[''] Myresult:['']\n"
     ]
    }
   ],
   "source": [
    "input = []\n",
    "input.append((3,[\n",
    "       \"((()))\",\n",
    "       \"(()())\",\n",
    "       \"(())()\",\n",
    "       \"()(())\",\n",
    "       \"()()()\"\n",
    "     ]))\n",
    "input.append((0,[\n",
    "       \"\"\n",
    "     ]))\n",
    "solution = Solution()\n",
    "for i in input:\n",
    "    n, result = i\n",
    "    my_result = solution.generateParenthesis(n)\n",
    "    result.sort(); my_result.sort();\n",
    "    if result != my_result:\n",
    "        print(\"!Wrong\", \"Input:{} Result:{} Myresult:{}\".format(n, result, my_result))\n",
    "    else:\n",
    "        print(\"Right\", \"Input:{} Result:{} Myresult:{}\".format(n, result, my_result))"
   ]
  }
 ],
 "metadata": {
  "jupytext": {
   "formats": "ipynb,py"
  },
  "kernelspec": {
   "display_name": "Python 3",
   "language": "python",
   "name": "python3"
  },
  "language_info": {
   "codemirror_mode": {
    "name": "ipython",
    "version": 3
   },
   "file_extension": ".py",
   "mimetype": "text/x-python",
   "name": "python",
   "nbconvert_exporter": "python",
   "pygments_lexer": "ipython3",
   "version": "3.6.5"
  },
  "toc": {
   "base_numbering": 1,
   "nav_menu": {},
   "number_sections": true,
   "sideBar": true,
   "skip_h1_title": false,
   "title_cell": "Table of Contents",
   "title_sidebar": "Contents",
   "toc_cell": false,
   "toc_position": {},
   "toc_section_display": true,
   "toc_window_display": false
  }
 },
 "nbformat": 4,
 "nbformat_minor": 2
}
