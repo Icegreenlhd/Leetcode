{
 "cells": [
  {
   "cell_type": "markdown",
   "metadata": {},
   "source": [
    "Given an array of integers nums sorted in ascending order, find the starting and ending position of a given target value.\n",
    "\n",
    "Your algorithm's runtime complexity must be in the order of O(log n).\n",
    "\n",
    "If the target is not found in the array, return [-1, -1].\n",
    "\n",
    "Example 1:\n",
    "```\n",
    "Input: nums = [5,7,7,8,8,10], target = 8\n",
    "Output: [3,4]\n",
    "```\n",
    "Example 2:\n",
    "```\n",
    "Input: nums = [5,7,7,8,8,10], target = 6\n",
    "Output: [-1,-1]\n",
    "```"
   ]
  },
  {
   "cell_type": "markdown",
   "metadata": {},
   "source": [
    "# my solution 1, 类似二分搜索，分别找到此位置"
   ]
  },
  {
   "cell_type": "code",
   "execution_count": null,
   "metadata": {},
   "outputs": [],
   "source": [
    "class Solution(object):\n",
    "    def searchRange(self, nums, target):\n",
    "        \"\"\"\n",
    "        :type nums: List[int]\n",
    "        :type target: int\n",
    "        :rtype: List[int]\n",
    "        \"\"\"\n",
    "        def findfirst(left=0, right=len(nums)-1):\n",
    "            if left>right:\n",
    "                return -1\n",
    "            mid = (left+right)//2\n",
    "            if nums[mid] == target:\n",
    "                if mid==0 or nums[mid-1]<target:\n",
    "                    return mid\n",
    "                return findfirst(left, mid-1)\n",
    "            elif nums[mid] < target:\n",
    "                return findfirst(mid+1, right)\n",
    "            else:\n",
    "                return findfirst(left, mid-1)\n",
    "            \n",
    "        def findlast(left=0, right=len(nums)-1):\n",
    "            if left>right:\n",
    "                return -1\n",
    "            mid = (left+right)//2\n",
    "            if nums[mid] == target:\n",
    "                if mid==len(nums)-1 or nums[mid+1]>target:\n",
    "                    return mid\n",
    "                return findlast(mid+1, right)\n",
    "            elif nums[mid] < target:\n",
    "                return findlast(mid+1, right)\n",
    "            else:\n",
    "                return findlast(left, mid-1)\n",
    "        \n",
    "        return [findfirst(0, len(nums)-1),findlast(0, len(nums)-1)]"
   ]
  },
  {
   "cell_type": "markdown",
   "metadata": {},
   "source": [
    "# my solution 2, 简化"
   ]
  },
  {
   "cell_type": "code",
   "execution_count": null,
   "metadata": {},
   "outputs": [],
   "source": [
    "class Solution(object):\n",
    "    def searchRange(self, nums, target):\n",
    "        \"\"\"\n",
    "        :type nums: List[int]\n",
    "        :type target: int\n",
    "        :rtype: List[int]\n",
    "        \"\"\"\n",
    "        def binary(target, left=0, right=len(nums)-1):\n",
    "            if left > right:\n",
    "                return left\n",
    "            mid = (left+right)//2\n",
    "            if nums[mid] >= target:\n",
    "                return binary(target, left, mid-1)\n",
    "            else:\n",
    "                return binary(target, mid+1, right)\n",
    "        lower = binary(target); higher = binary(target+1)\n",
    "        return [lower,higher-1] if higher > lower else[-1,-1]"
   ]
  },
  {
   "cell_type": "markdown",
   "metadata": {},
   "source": [
    "# my solution 3, 修改jake‘s solution"
   ]
  },
  {
   "cell_type": "code",
   "execution_count": null,
   "metadata": {},
   "outputs": [],
   "source": [
    "class Solution(object):\n",
    "    def searchRange(self, nums, target):\n",
    "        \"\"\"\n",
    "        :type nums: List[int]\n",
    "        :type target: int\n",
    "        :rtype: List[int]\n",
    "        \"\"\"\n",
    "        def binary(target, left, right):\n",
    "\n",
    "            if left > right:\n",
    "                return left\n",
    "\n",
    "            mid = (left + right) // 2\n",
    "            if target > nums[mid]:\n",
    "                return binary(target, mid+1, right)\n",
    "            else:\n",
    "                return binary(target, left, mid-1)\n",
    "\n",
    "        lower = binary(target - 0.5, 0, len(nums) - 1)\n",
    "        upper = binary(target + 0.5, 0, len(nums) - 1)\n",
    "        return [-1, -1] if lower == upper else [lower, upper - 1]"
   ]
  },
  {
   "cell_type": "code",
   "execution_count": null,
   "metadata": {},
   "outputs": [],
   "source": [
    "nums = [0,1,1,1,3]\n",
    "target = 1\n",
    "solution = Solution()\n",
    "print(solution.searchRange(nums, target))"
   ]
  },
  {
   "cell_type": "markdown",
   "metadata": {},
   "source": [
    "# Jake's solution\n",
    "Search for target +/- 0.5 (not integer so not found) and return the index above this.\n",
    "If same index is returned for + and - 0.5 then target not found.\n",
    "Binary search could be implemented iteratively or use the bisect module.\n",
    "\n",
    "Time - O(log n)\n",
    "\n",
    "Space - O(1)"
   ]
  },
  {
   "cell_type": "code",
   "execution_count": null,
   "metadata": {},
   "outputs": [],
   "source": [
    "class Solution(object):\n",
    "    def searchRange(self, nums, target):\n",
    "        \"\"\"\n",
    "        :type nums: List[int]\n",
    "        :type target: int\n",
    "        :rtype: List[int]\n",
    "        \"\"\"\n",
    "        def binary(target, left, right):\n",
    "\n",
    "            if left > right:\n",
    "                return left\n",
    "\n",
    "            mid = (left + right) // 2\n",
    "            if target > nums[mid]:\n",
    "                left = mid + 1\n",
    "            else:\n",
    "                right = mid - 1\n",
    "\n",
    "            return binary(target, left, right)\n",
    "\n",
    "        lower = binary(target - 0.5, 0, len(nums) - 1)\n",
    "        upper = binary(target + 0.5, 0, len(nums) - 1)\n",
    "        return [-1, -1] if lower == upper else [lower, upper - 1]"
   ]
  },
  {
   "cell_type": "code",
   "execution_count": null,
   "metadata": {},
   "outputs": [],
   "source": [
    "nums = [0,1,1,1,3]\n",
    "target = 1\n",
    "solution = Solution()\n",
    "print(solution.searchRange(nums, target))"
   ]
  },
  {
   "cell_type": "code",
   "execution_count": null,
   "metadata": {},
   "outputs": [],
   "source": [
    "if True:\n",
    "    print(1)\n",
    "if True:\n",
    "    print(2)\n",
    "else:\n",
    "    print(3)"
   ]
  }
 ],
 "metadata": {
  "jupytext": {
   "formats": "ipynb,py"
  },
  "kernelspec": {
   "display_name": "Python 3",
   "language": "python",
   "name": "python3"
  },
  "language_info": {
   "codemirror_mode": {
    "name": "ipython",
    "version": 3
   },
   "file_extension": ".py",
   "mimetype": "text/x-python",
   "name": "python",
   "nbconvert_exporter": "python",
   "pygments_lexer": "ipython3",
   "version": "3.7.3"
  },
  "toc": {
   "base_numbering": 1,
   "nav_menu": {},
   "number_sections": true,
   "sideBar": true,
   "skip_h1_title": false,
   "title_cell": "Table of Contents",
   "title_sidebar": "Contents",
   "toc_cell": false,
   "toc_position": {},
   "toc_section_display": true,
   "toc_window_display": true
  },
  "varInspector": {
   "cols": {
    "lenName": 16,
    "lenType": 16,
    "lenVar": 40
   },
   "kernels_config": {
    "python": {
     "delete_cmd_postfix": "",
     "delete_cmd_prefix": "del ",
     "library": "var_list.py",
     "varRefreshCmd": "print(var_dic_list())"
    },
    "r": {
     "delete_cmd_postfix": ") ",
     "delete_cmd_prefix": "rm(",
     "library": "var_list.r",
     "varRefreshCmd": "cat(var_dic_list()) "
    }
   },
   "types_to_exclude": [
    "module",
    "function",
    "builtin_function_or_method",
    "instance",
    "_Feature"
   ],
   "window_display": false
  }
 },
 "nbformat": 4,
 "nbformat_minor": 2
}
