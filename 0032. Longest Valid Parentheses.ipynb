{
 "cells": [
  {
   "cell_type": "markdown",
   "metadata": {},
   "source": [
    "Given a string containing just the characters '(' and ')', find the length of the longest valid (well-formed) parentheses substring.\n",
    "\n",
    "Example 1:\n",
    "```\n",
    "Input: \"(()\"\n",
    "Output: 2\n",
    "Explanation: The longest valid parentheses substring is \"()\"\n",
    "```\n",
    "Example 2:\n",
    "```\n",
    "Input: \")()())\"\n",
    "Output: 4\n",
    "Explanation: The longest valid parentheses substring is \"()()\"\n",
    "```\n",
    "\n",
    "来源：力扣（LeetCode）\n",
    "链接：https://leetcode-cn.com/problems/longest-valid-parentheses\n",
    "著作权归领扣网络所有。商业转载请联系官方授权，非商业转载请注明出处。"
   ]
  },
  {
   "cell_type": "code",
   "execution_count": 6,
   "metadata": {
    "ExecuteTime": {
     "end_time": "2020-05-10T12:11:29.514342Z",
     "start_time": "2020-05-10T12:11:29.510529Z"
    }
   },
   "outputs": [],
   "source": [
    "#my solution 1, stack + information reserve\n",
    "class Solution(object):\n",
    "    def longestValidParentheses(self, s):\n",
    "        \"\"\"\n",
    "        :type s: str\n",
    "        :rtype: int\n",
    "        \"\"\"\n",
    "        stack = list()\n",
    "        count = 0\n",
    "        maximum = 0\n",
    "        \n",
    "        for p in s:\n",
    "            if p == '(':\n",
    "                stack.append(count)\n",
    "                count = 0\n",
    "            elif p == ')':\n",
    "                if not stack:\n",
    "                    count = 0\n",
    "                    continue\n",
    "                count = count + 2 + stack.pop()\n",
    "                maximum = max(count, maximum)\n",
    "            else:\n",
    "                raise Exception(\"Invalid element!\", p)\n",
    "        return maximum"
   ]
  },
  {
   "cell_type": "code",
   "execution_count": 4,
   "metadata": {
    "ExecuteTime": {
     "end_time": "2020-05-10T11:37:36.939783Z",
     "start_time": "2020-05-10T11:37:36.924538Z"
    }
   },
   "outputs": [
    {
     "ename": "Exception",
     "evalue": "error!",
     "output_type": "error",
     "traceback": [
      "\u001b[0;31m---------------------------------------------------------------------------\u001b[0m",
      "\u001b[0;31mException\u001b[0m                                 Traceback (most recent call last)",
      "\u001b[0;32m<ipython-input-4-8ca86bacc5ba>\u001b[0m in \u001b[0;36m<module>\u001b[0;34m()\u001b[0m\n\u001b[1;32m      1\u001b[0m \u001b[0;32mif\u001b[0m \u001b[0;32mTrue\u001b[0m\u001b[0;34m:\u001b[0m\u001b[0;34m\u001b[0m\u001b[0m\n\u001b[0;32m----> 2\u001b[0;31m     \u001b[0;32mraise\u001b[0m \u001b[0mException\u001b[0m\u001b[0;34m(\u001b[0m\u001b[0;34m\"error!\"\u001b[0m\u001b[0;34m)\u001b[0m\u001b[0;34m\u001b[0m\u001b[0m\n\u001b[0m",
      "\u001b[0;31mException\u001b[0m: error!"
     ]
    }
   ],
   "source": [
    "_author_ = 'jake'\n",
    "_project_ = 'leetcode'\n",
    "\n",
    "# https://leetcode.com/problems/longest-valid-parentheses/\n",
    "# Given a string containing just the characters '(' and ')', find the length of the longest valid (well-formed) parentheses substring.\n",
    "# For example is \")()())\", where the longest valid parentheses substring is \"()()\", which has length = 4.\n",
    "\n",
    "# Maintain a stack of indices in s of unmatched brackets.  Pop an opening bracket when matched with a closing bracket.\n",
    "# Push unmatched closing brackets and all opening brackets.  Then find the longest gap between indices on the stack.\n",
    "# Time - O(n)\n",
    "# Space - O(n)\n",
    "\n",
    "class Solution(object):\n",
    "    def longestValidParentheses(self, s):\n",
    "        \"\"\"\n",
    "        :type s: str\n",
    "        :rtype: int\n",
    "        \"\"\"\n",
    "        stack = []                  # indices of brackets that are not matched\n",
    "\n",
    "        for i, c in enumerate(s):\n",
    "            if c == \")\" and stack and s[stack[-1]] == '(':\n",
    "                stack.pop()         # close matches an open on the stack\n",
    "            else:\n",
    "                stack.append(i)     # puch open brackets or unmatched close brackets\n",
    "\n",
    "        stack.append(len(s))        # last unmatched index after end of s\n",
    "        max_length = stack[0]       # first unmatched index before start of s\n",
    "\n",
    "        for index in range(1, len(stack)):  # find max gap between remaining unmatched indices\n",
    "            max_length = max(max_length, stack[index] - stack[index-1] - 1)\n",
    "\n",
    "        return max_length"
   ]
  }
 ],
 "metadata": {
  "jupytext": {
   "formats": "ipynb,py"
  },
  "kernelspec": {
   "display_name": "Python 3",
   "language": "python",
   "name": "python3"
  },
  "language_info": {
   "codemirror_mode": {
    "name": "ipython",
    "version": 3
   },
   "file_extension": ".py",
   "mimetype": "text/x-python",
   "name": "python",
   "nbconvert_exporter": "python",
   "pygments_lexer": "ipython3",
   "version": "3.6.5"
  },
  "toc": {
   "base_numbering": 1,
   "nav_menu": {},
   "number_sections": true,
   "sideBar": true,
   "skip_h1_title": false,
   "title_cell": "Table of Contents",
   "title_sidebar": "Contents",
   "toc_cell": false,
   "toc_position": {},
   "toc_section_display": true,
   "toc_window_display": false
  }
 },
 "nbformat": 4,
 "nbformat_minor": 2
}
