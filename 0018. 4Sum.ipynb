{
 "cells": [
  {
   "cell_type": "markdown",
   "metadata": {},
   "source": [
    "Given an array nums of n integers and an integer target, are there elements a, b, c, and d in nums such that a + b + c + d = target? Find all unique quadruplets in the array which gives the sum of target.\n",
    "\n",
    "Note:\n",
    "\n",
    "The solution set must not contain duplicate quadruplets.\n",
    "\n",
    "Example:\n",
    "```\n",
    "Given array nums = [1, 0, -1, 0, -2, 2], and target = 0.\n",
    "\n",
    "A solution set is:\n",
    "[\n",
    "  [-1,  0, 0, 1],\n",
    "  [-2, -1, 1, 2],\n",
    "  [-2,  0, 0, 2]\n",
    "]\n",
    "```"
   ]
  },
  {
   "cell_type": "code",
   "execution_count": 26,
   "metadata": {
    "ExecuteTime": {
     "end_time": "2020-04-24T05:06:08.227840Z",
     "start_time": "2020-04-24T05:06:08.222375Z"
    }
   },
   "outputs": [],
   "source": [
    "# my solution 1\n",
    "class Solution(object):\n",
    "    def fourSum(self, nums, target):\n",
    "        \"\"\"\n",
    "        :type nums: List[int]\n",
    "        :type target: int\n",
    "        :rtype: List[List[int]]\n",
    "        \"\"\"\n",
    "        if len(nums) < 4:\n",
    "            return []\n",
    "\n",
    "        nums.sort()\n",
    "        i = 0\n",
    "        quadruplets = []\n",
    "\n",
    "        while i < len(nums) - 3:\n",
    "            j = i+1\n",
    "\n",
    "            while j < len(nums) - 2:\n",
    "                k = j+1\n",
    "                l = len(nums) - 1\n",
    "\n",
    "                while k < l:\n",
    "\n",
    "                    quadruple = nums[i] + nums[j] + nums[k] + nums[l]\n",
    "\n",
    "                    if quadruple == target:\n",
    "                        quadruplets.append(\n",
    "                            [nums[i], nums[j], nums[k], nums[l]])\n",
    "                        k += 1\n",
    "                        while k < l and nums[k] == nums[k-1]:\n",
    "                            k += 1\n",
    "                        l -= 1\n",
    "                        while l > k and nums[l] == nums[l+1]:\n",
    "                            l -= 1\n",
    "\n",
    "                    elif quadruple < target:\n",
    "                        k += 1\n",
    "                        while k < l and nums[k] == nums[k-1]:\n",
    "                            k += 1\n",
    "\n",
    "                    else:\n",
    "                        l -= 1\n",
    "                        while l > k and nums[l] == nums[l+1]:\n",
    "                            l -= 1\n",
    "\n",
    "                j += 1\n",
    "                while j < len(nums) - 2 and nums[j] == nums[j-1]:\n",
    "                    j += 1\n",
    "\n",
    "            i += 1\n",
    "            while i < len(nums) - 3 and nums[i] == nums[i-1]:\n",
    "                i += 1\n",
    "        return quadruplets"
   ]
  },
  {
   "cell_type": "code",
   "execution_count": 28,
   "metadata": {
    "ExecuteTime": {
     "end_time": "2020-04-24T05:06:15.949826Z",
     "start_time": "2020-04-24T05:06:15.944669Z"
    }
   },
   "outputs": [],
   "source": [
    "_author_ = 'jake'\n",
    "_project_ = 'leetcode'\n",
    "\n",
    "# https://leetcode.com/problems/4sum/\n",
    "# Given an array nums of n integers, are there elements a, b, c, and d in nums such that a + b + c + d = target?\n",
    "# Find all unique quadruplets in the array which gives the sum of target.\n",
    "# Note: The solution set must not contain duplicate quadruplets.\n",
    "\n",
    "# Recursively reduce to 2sum problem.\n",
    "# Time - O(n^3), for each pair perform linear search on the rest of the array\n",
    "\n",
    "class Solution(object):\n",
    "    ELEMENTS = 4        # parametrise the number of elements being summed\n",
    "\n",
    "    def fourSum(self, nums, target):\n",
    "        \"\"\"\n",
    "        :type nums: List[int]\n",
    "        :type target: int\n",
    "        :rtype: List[List[int]]\n",
    "        \"\"\"\n",
    "        results = []\n",
    "        self.n_sum(sorted(nums), target, [], self.ELEMENTS, results)\n",
    "        return results\n",
    "\n",
    "\n",
    "    def n_sum(self, nums, target, partial, n, results):                 # generalise for n-sum\n",
    "\n",
    "        if len(nums) < n or target > nums[-1]*n or target < nums[0]*n:  # early return if impossible\n",
    "            return\n",
    "\n",
    "        if n == 2:                      # base case of linear bidirectional search for n == 2\n",
    "            left = 0\n",
    "            right = len(nums)-1\n",
    "            while left < right:\n",
    "                if nums[left] + nums[right] == target:\n",
    "                    results.append(partial + [nums[left], nums[right]])\n",
    "                    left += 1\n",
    "                    right -= 1\n",
    "                    while nums[right] == nums[right+1] and right > left:    # move to next different number if target found\n",
    "                        right -=1\n",
    "                elif nums[left] + nums[right] < target:\n",
    "                    left += 1\n",
    "                else:\n",
    "                    right -= 1\n",
    "\n",
    "        else:\n",
    "            for i in range(len(nums)-n+1):              # for all possible first numbers nums[i]\n",
    "                if i == 0 or nums[i] != nums[i-1]:      # if not duplicate\n",
    "                    self.n_sum(nums[i+1:], target-nums[i], partial + [nums[i]], n-1, results)"
   ]
  },
  {
   "cell_type": "code",
   "execution_count": 29,
   "metadata": {
    "ExecuteTime": {
     "end_time": "2020-04-24T05:06:17.473810Z",
     "start_time": "2020-04-24T05:06:17.468782Z"
    }
   },
   "outputs": [
    {
     "name": "stdout",
     "output_type": "stream",
     "text": [
      "Right Input:[1, 0, -1, 0, -2, 2] Result:[[-2, -1, 1, 2], [-2, 0, 0, 2], [-1, 0, 0, 1]] Myresult:[[-2, -1, 1, 2], [-2, 0, 0, 2], [-1, 0, 0, 1]]\n",
      "Right Input:[0, 0, 0, 0, 0, 0, 0, 0] Result:[[0, 0, 0, 0]] Myresult:[[0, 0, 0, 0]]\n"
     ]
    }
   ],
   "source": [
    "# test\n",
    "input = []\n",
    "input.append(([1, 0, -1, 0, -2, 2], 0, [\n",
    "    [-1,  0, 0, 1],\n",
    "    [-2, -1, 1, 2],\n",
    "    [-2,  0, 0, 2]\n",
    "]))\n",
    "input.append(([0,0,0,0,0,0,0,0], 0, [\n",
    "    [0,  0, 0, 0]\n",
    "]))\n",
    "solution = Solution()\n",
    "for i in input:\n",
    "    nums, target, result = i\n",
    "    my_result = solution.fourSum(nums, target)\n",
    "    result.sort()\n",
    "    my_result.sort()\n",
    "    if result != my_result:\n",
    "        print(\"!Wrong\", \"Input:{} Result:{} Myresult:{}\".format(\n",
    "            nums, result, my_result))\n",
    "    else:\n",
    "        print(\"Right\", \"Input:{} Result:{} Myresult:{}\".format(\n",
    "            nums, result, my_result))"
   ]
  }
 ],
 "metadata": {
  "jupytext": {
   "formats": "ipynb,py"
  },
  "kernelspec": {
   "display_name": "Python 3",
   "language": "python",
   "name": "python3"
  },
  "language_info": {
   "codemirror_mode": {
    "name": "ipython",
    "version": 3
   },
   "file_extension": ".py",
   "mimetype": "text/x-python",
   "name": "python",
   "nbconvert_exporter": "python",
   "pygments_lexer": "ipython3",
   "version": "3.6.5"
  },
  "toc": {
   "base_numbering": 1,
   "nav_menu": {},
   "number_sections": true,
   "sideBar": true,
   "skip_h1_title": false,
   "title_cell": "Table of Contents",
   "title_sidebar": "Contents",
   "toc_cell": false,
   "toc_position": {},
   "toc_section_display": true,
   "toc_window_display": false
  }
 },
 "nbformat": 4,
 "nbformat_minor": 2
}
