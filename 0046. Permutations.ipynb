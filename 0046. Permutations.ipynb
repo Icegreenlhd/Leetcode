{
 "cells": [
  {
   "cell_type": "markdown",
   "metadata": {},
   "source": [
    "# my solution 1\n",
    "- Time: $O(n!*n^2)$, n! result, each need adding n elements, addition taking O(n)\n",
    "- Space: $O(n*n!)$, result space"
   ]
  },
  {
   "cell_type": "code",
   "execution_count": 1,
   "metadata": {
    "ExecuteTime": {
     "end_time": "2020-05-24T10:51:26.453458Z",
     "start_time": "2020-05-24T10:51:26.447369Z"
    }
   },
   "outputs": [],
   "source": [
    "class Solution(object):\n",
    "    def permute(self, nums):\n",
    "        \"\"\"\n",
    "        :type nums: List[int]\n",
    "        :rtype: List[List[int]]\n",
    "        \"\"\"\n",
    "        nums = set(nums)\n",
    "        result = []\n",
    "        self.permution(nums, [], result)\n",
    "        return result\n",
    "    \n",
    "    def permution(self, nums, partial, result):\n",
    "        if not nums:\n",
    "            result.append(partial[:])\n",
    "            return \n",
    "        for i in nums:\n",
    "            self.permution(nums-{i},partial+[i],result)"
   ]
  },
  {
   "cell_type": "markdown",
   "metadata": {
    "ExecuteTime": {
     "end_time": "2020-06-03T07:51:18.940920Z",
     "start_time": "2020-06-03T07:51:18.937445Z"
    }
   },
   "source": [
    "# Jake's solution\n",
    "For each number, insert it at all possible places in all existing permutations.\n",
    "Alternatively recursively swap every index with every greater index (and itself).\n",
    "- Time - O($n^2 * n!$).  n! results, each of with has n elements added, each addition taking O(n) time for list slicing\n",
    "- Space - O(n *n!)"
   ]
  },
  {
   "cell_type": "code",
   "execution_count": null,
   "metadata": {},
   "outputs": [],
   "source": [
    "class Solution(object):\n",
    "    def permute(self, nums):\n",
    "        \"\"\"\n",
    "        :type nums: List[int]\n",
    "        :rtype: List[List[int]]\n",
    "        \"\"\"\n",
    "        permutations = [[]]\n",
    "\n",
    "        for num in nums:\n",
    "            new_permutations = []\n",
    "            for perm in permutations:\n",
    "                for i in range(len(perm) + 1):\n",
    "                    new_permutations.append(perm[:i] + [num] + perm[i:])\n",
    "            permutations = new_permutations\n",
    "\n",
    "        return permutations"
   ]
  }
 ],
 "metadata": {
  "kernelspec": {
   "display_name": "Python 3",
   "language": "python",
   "name": "python3"
  },
  "language_info": {
   "codemirror_mode": {
    "name": "ipython",
    "version": 3
   },
   "file_extension": ".py",
   "mimetype": "text/x-python",
   "name": "python",
   "nbconvert_exporter": "python",
   "pygments_lexer": "ipython3",
   "version": "3.6.5"
  },
  "toc": {
   "base_numbering": 1,
   "nav_menu": {},
   "number_sections": true,
   "sideBar": true,
   "skip_h1_title": false,
   "title_cell": "Table of Contents",
   "title_sidebar": "Contents",
   "toc_cell": false,
   "toc_position": {},
   "toc_section_display": true,
   "toc_window_display": false
  }
 },
 "nbformat": 4,
 "nbformat_minor": 2
}
