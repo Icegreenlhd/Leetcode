{
 "cells": [
  {
   "cell_type": "markdown",
   "metadata": {},
   "source": [
    "给你一个包含 n 个整数的数组 nums，判断 nums 中是否存在三个元素 a，b，c ，使得 a + b + c = 0 ？请你找出所有满足条件且不重复的三元组。\n",
    "\n",
    "注意：答案中不可以包含重复的三元组。\n",
    "\n",
    " \n",
    "\n",
    "示例：\n",
    "```\n",
    "给定数组 nums = [-1, 0, 1, 2, -1, -4]，\n",
    "\n",
    "满足要求的三元组集合为：\n",
    "[\n",
    "  [-1, 0, 1],\n",
    "  [-1, -1, 2]\n",
    "]\n",
    "```\n",
    "来源：力扣（LeetCode）\n",
    "链接：https://leetcode-cn.com/problems/3sum\n",
    "著作权归领扣网络所有。商业转载请联系官方授权，非商业转载请注明出处。"
   ]
  },
  {
   "cell_type": "code",
   "execution_count": 14,
   "metadata": {
    "ExecuteTime": {
     "end_time": "2020-04-22T07:46:14.119697Z",
     "start_time": "2020-04-22T07:46:14.114392Z"
    }
   },
   "outputs": [],
   "source": [
    "# my solution1, time out\n",
    "class Solution(object):\n",
    "    def threeSum(self, nums):\n",
    "        \"\"\"\n",
    "        :type nums: List[int]\n",
    "        :rtype: List[List[int]]\n",
    "        \"\"\"\n",
    "\n",
    "        nums.sort()\n",
    "        index = 0\n",
    "        three = []\n",
    "\n",
    "        while(index < len(nums) - 1 and nums[index] <= 0):\n",
    "            if index > 0 and nums[index] == nums[index-1]:  # certain no duplicate\n",
    "                index += 1\n",
    "                continue\n",
    "            add = index + 1\n",
    "            end = len(nums) - 1\n",
    "            while(add < len(nums)):\n",
    "                # certain on duplicate\n",
    "                if add > index+1 and nums[add] == nums[add-1]:\n",
    "                    add += 1\n",
    "                    continue\n",
    "                another = -(nums[index] + nums[add])\n",
    "                for i in range(end, add, -1):\n",
    "                    if nums[i] <= another:\n",
    "                        if nums[i] == another:\n",
    "                            three.append([nums[index], nums[add], another])\n",
    "                        break\n",
    "                add += 1\n",
    "            index += 1\n",
    "        return three"
   ]
  },
  {
   "cell_type": "code",
   "execution_count": 20,
   "metadata": {
    "ExecuteTime": {
     "end_time": "2020-04-22T08:15:02.651995Z",
     "start_time": "2020-04-22T08:15:02.641273Z"
    }
   },
   "outputs": [],
   "source": [
    "# my solution2\n",
    "class Solution(object):\n",
    "    def threeSum(self, nums):\n",
    "        \"\"\"\n",
    "        :type nums: List[int]\n",
    "        :rtype: List[List[int]]\n",
    "        \"\"\"\n",
    "\n",
    "        nums.sort()\n",
    "        index = 0\n",
    "        three = []\n",
    "\n",
    "        while index < len(nums) - 1 and nums[index] <= 0:\n",
    "            if index > 0 and nums[index] == nums[index-1]:  # certain no duplicate\n",
    "                index += 1\n",
    "                continue\n",
    "            j = index + 1\n",
    "            k = len(nums) - 1\n",
    "            while j < k:\n",
    "                # certain on duplicate\n",
    "                triple_sum = nums[index] + nums[j] + nums[k]\n",
    "\n",
    "                if triple_sum == 0:\n",
    "                    three.append([nums[index], nums[j], nums[k]])\n",
    "                    k -= 1\n",
    "                    while k > j and nums[k] == nums[k + 1]:\n",
    "                        k -= 1\n",
    "                    j += 1\n",
    "                    while j < k and nums[j] == nums[j - 1]:\n",
    "                        j += 1\n",
    "\n",
    "                elif triple_sum > 0:    # decrement k to next new number\n",
    "                    k -= 1\n",
    "                    while k > j and nums[k] == nums[k + 1]:\n",
    "                        k -= 1\n",
    "                else:                   # increment j to next new number\n",
    "                    j += 1\n",
    "                    while j < k and nums[j] == nums[j - 1]:\n",
    "                        j += 1\n",
    "\n",
    "            index += 1\n",
    "        return three"
   ]
  },
  {
   "cell_type": "code",
   "execution_count": 2,
   "metadata": {
    "ExecuteTime": {
     "end_time": "2020-04-23T05:15:40.876673Z",
     "start_time": "2020-04-23T05:15:40.870996Z"
    }
   },
   "outputs": [],
   "source": [
    "_author_ = 'jake'\n",
    "_project_ = 'leetcode'\n",
    "\n",
    "# https://leetcode.com/problems/3sum/\n",
    "# Given an array S of n integers, are there elements a, b, c in S such that a + b + c = 0?\n",
    "# Find all unique triplets in the array which gives the sum of zero.\n",
    "# Note: The solution set must not contain duplicate triplets.\n",
    "\n",
    "# Sort the array.  For each index i perform a bidirectional search on the higher values in the array.\n",
    "# Skip over duplicates.  Increment i to the next new minimum number.\n",
    "# Time - O(n**2), for each i at least one of j and k moves every iteration.\n",
    "# Space - O(n)\n",
    "\n",
    "\n",
    "class Solution(object):\n",
    "    def threeSum(self, nums):\n",
    "        \"\"\"\n",
    "        :type nums: List[int]\n",
    "        :rtype: List[List[int]]\n",
    "        \"\"\"\n",
    "        results = []\n",
    "        nums.sort()\n",
    "\n",
    "        i = 0\n",
    "        while i < len(nums):\n",
    "            j = i + 1\n",
    "            k = len(nums) - 1\n",
    "\n",
    "            while j < k:\n",
    "\n",
    "                triple_sum = nums[i] + nums[j] + nums[k]\n",
    "\n",
    "                if triple_sum == 0:     # record result and move both j and k to next new numbers\n",
    "                    results.append([nums[i], nums[j], nums[k]])\n",
    "                    k -= 1\n",
    "                    while k > j and nums[k] == nums[k + 1]:\n",
    "                        k -= 1\n",
    "                    j += 1\n",
    "                    while j < k and nums[j] == nums[j - 1]:\n",
    "                        j += 1\n",
    "\n",
    "                elif triple_sum > 0:    # decrement k to next new number\n",
    "                    k -= 1\n",
    "                    while k > j and nums[k] == nums[k + 1]:\n",
    "                        k -= 1\n",
    "                else:                   # increment j to next new number\n",
    "                    j += 1\n",
    "                    while j < k and nums[j] == nums[j - 1]:\n",
    "                        j += 1\n",
    "\n",
    "            i += 1                      # increment i to next new number\n",
    "            while i < len(nums) - 2 and nums[i] == nums[i - 1]:\n",
    "                i += 1\n",
    "\n",
    "        return results"
   ]
  },
  {
   "cell_type": "code",
   "execution_count": 3,
   "metadata": {
    "ExecuteTime": {
     "end_time": "2020-04-23T05:15:42.294569Z",
     "start_time": "2020-04-23T05:15:42.289834Z"
    }
   },
   "outputs": [
    {
     "name": "stdout",
     "output_type": "stream",
     "text": [
      "Right Input:[-4, -1, -1, 0, 1, 2] Result:[[-1, -1, 2], [-1, 0, 1]] Myresult:[[-1, -1, 2], [-1, 0, 1]]\n",
      "Right Input:[0, 0, 0, 0, 0, 0] Result:[[0, 0, 0]] Myresult:[[0, 0, 0]]\n"
     ]
    }
   ],
   "source": [
    "input = []\n",
    "input.append(([-1, 0, 1, 2, -1, -4],\n",
    "              [[-1, 0, 1],\n",
    "               [-1, -1, 2]]))\n",
    "input.append(([0,0,0,0,0,0],\n",
    "              [[0,0,0]]))\n",
    "solution = Solution()\n",
    "for i in input:\n",
    "    num, result = i\n",
    "    my_result = solution.threeSum(num)\n",
    "    result.sort(); my_result.sort()\n",
    "    if result != my_result:\n",
    "        print(\"!Wrong\", \"Input:{} Result:{} Myresult:{}\".format(\n",
    "            num, result, my_result))\n",
    "    else:\n",
    "        print(\"Right\", \"Input:{} Result:{} Myresult:{}\".format(\n",
    "            num, result, my_result))"
   ]
  }
 ],
 "metadata": {
  "jupytext": {
   "formats": "ipynb,py"
  },
  "kernelspec": {
   "display_name": "Python 3",
   "language": "python",
   "name": "python3"
  },
  "language_info": {
   "codemirror_mode": {
    "name": "ipython",
    "version": 3
   },
   "file_extension": ".py",
   "mimetype": "text/x-python",
   "name": "python",
   "nbconvert_exporter": "python",
   "pygments_lexer": "ipython3",
   "version": "3.6.5"
  },
  "toc": {
   "base_numbering": 1,
   "nav_menu": {},
   "number_sections": true,
   "sideBar": true,
   "skip_h1_title": false,
   "title_cell": "Table of Contents",
   "title_sidebar": "Contents",
   "toc_cell": false,
   "toc_position": {},
   "toc_section_display": true,
   "toc_window_display": false
  },
  "varInspector": {
   "cols": {
    "lenName": 16,
    "lenType": 16,
    "lenVar": 40
   },
   "kernels_config": {
    "python": {
     "delete_cmd_postfix": "",
     "delete_cmd_prefix": "del ",
     "library": "var_list.py",
     "varRefreshCmd": "print(var_dic_list())"
    },
    "r": {
     "delete_cmd_postfix": ") ",
     "delete_cmd_prefix": "rm(",
     "library": "var_list.r",
     "varRefreshCmd": "cat(var_dic_list()) "
    }
   },
   "types_to_exclude": [
    "module",
    "function",
    "builtin_function_or_method",
    "instance",
    "_Feature"
   ],
   "window_display": false
  }
 },
 "nbformat": 4,
 "nbformat_minor": 2
}
