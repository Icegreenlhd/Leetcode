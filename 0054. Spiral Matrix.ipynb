{
 "cells": [
  {
   "cell_type": "markdown",
   "metadata": {
    "lines_to_next_cell": 2
   },
   "source": [
    "Given a matrix of m x n elements (m rows, n columns), return all elements of the matrix in spiral order.  \n",
    "Example 1:\n",
    "\n",
    "Input:\n",
    "```\n",
    "[\n",
    " [ 1, 2, 3 ],\n",
    " [ 4, 5, 6 ],\n",
    " [ 7, 8, 9 ]\n",
    "] \n",
    "```\n",
    "Output: [1,2,3,6,9,8,7,4,5]  \n",
    "Example 2:  \n",
    "\n",
    "Input:\n",
    "```\n",
    "[\n",
    "  [1, 2, 3, 4],\n",
    "  [5, 6, 7, 8],\n",
    "  [9,10,11,12]\n",
    "]  \n",
    "```\n",
    "Output: [1,2,3,4,8,12,11,10,9,5,6,7]  "
   ]
  },
  {
   "cell_type": "code",
   "execution_count": null,
   "metadata": {},
   "outputs": [],
   "source": [
    "# mysolution\n",
    "class Solution(object):\n",
    "    def spiralOrder(self, matrix):\n",
    "        \"\"\"\n",
    "        :type matrix: List[List[int]]\n",
    "        :rtype: List[int]\n",
    "        \"\"\"\n",
    "        if not matrix or not matrix[0]:\n",
    "            return []\n",
    "        spiral_list = list()\n",
    "        rows, cols = 0, -1\n",
    "        row_direction, col_direction = 0, 1\n",
    "        row_leg, col_leg = len(matrix[0]), len(matrix) - 1\n",
    "        leg_count = 0\n",
    "\n",
    "        for _ in range(len(matrix[0]) * len(matrix)):\n",
    "            rows += row_direction\n",
    "            cols += col_direction\n",
    "            spiral_list.append(matrix[rows][cols])\n",
    "            leg_count += 1\n",
    "\n",
    "            # change direction 行\n",
    "            if (col_direction != 0 and leg_count == row_leg) or (row_direction != 0 and leg_count == col_leg):\n",
    "                if row_direction:\n",
    "                    col_leg -= 1\n",
    "                    row_direction = -row_direction\n",
    "                elif col_direction:\n",
    "                    row_leg -= 1\n",
    "                col_direction, row_direction = row_direction, col_direction\n",
    "                leg_count = 0\n",
    "        return spiral_list"
   ]
  },
  {
   "cell_type": "code",
   "execution_count": null,
   "metadata": {},
   "outputs": [],
   "source": [
    "import unittest\n",
    "\n",
    "\n",
    "class LeetcodeTest0054(unittest.TestCase):\n",
    "    solution = Solution()\n",
    "\n",
    "    def test_case1(self):\n",
    "        test_input = [\n",
    "            [1, 2, 3],\n",
    "            [4, 5, 6],\n",
    "            [7, 8, 9]\n",
    "        ]\n",
    "        test_output = [1, 2, 3, 6, 9, 8, 7, 4, 5]\n",
    "        self.assertEquals(self.solution.spiralOrder(test_input), test_output)\n",
    "\n",
    "    def test_case2(self):\n",
    "        test_input = [\n",
    "            [1, 2, 3, 4],\n",
    "            [5, 6, 7, 8],\n",
    "            [9, 10, 11, 12]\n",
    "        ]\n",
    "        test_output = [1, 2, 3, 4, 8, 12, 11, 10, 9, 5, 6, 7]\n",
    "        self.assertEquals(self.solution.spiralOrder(test_input), test_output)\n",
    "\n",
    "    def test_case3(self):\n",
    "        test_input = []\n",
    "        test_output = []\n",
    "        self.assertEquals(self.solution.spiralOrder(test_input), test_output)\n",
    "\n",
    "    def test_case4(self):\n",
    "        test_input = [[]]\n",
    "        test_output = []\n",
    "        self.assertEquals(self.solution.spiralOrder(test_input), test_output)\n",
    "        \n",
    "\n",
    "unittest.main(argv=['ignored', '-v'], exit=False)"
   ]
  },
  {
   "cell_type": "markdown",
   "metadata": {},
   "source": [
    "[Jake's solution](https://github.com/jakehoare/leetcode/blob/master/python_1_to_1000/054_Spiral_Matrix.py)  \n",
    "Given a matrix of m x n elements (m rows, n columns), return all elements of the matrix in spiral order.  \n",
    "Use row_leg and col_leg to track the max number of moves before turning.\n",
    "Decrease row_leg and col_leg then turning.  \n",
    "Time - O(m * n)  \n",
    "Space - O(1)  "
   ]
  },
  {
   "cell_type": "code",
   "execution_count": null,
   "metadata": {
    "lines_to_next_cell": 2
   },
   "outputs": [],
   "source": [
    "# Jake's solution\n",
    "class Solution(object):\n",
    "    def spiralOrder(self, matrix):\n",
    "        \"\"\"\n",
    "        :type matrix: List[List[int]]\n",
    "        :rtype: List[int]\n",
    "        \"\"\"\n",
    "        if not matrix or not matrix[0]:\n",
    "            return []\n",
    "\n",
    "        spiral = []\n",
    "        row, col = 0, -1\n",
    "        d_row, d_col = 0, 1     # movement direction\n",
    "        row_leg, col_leg = len(matrix[0]), len(\n",
    "            matrix)-1    # steps before change of direction\n",
    "        # count of steps in current direction\n",
    "        leg_count = 0\n",
    "\n",
    "        for _ in range(len(matrix[0]) * len(matrix)):\n",
    "\n",
    "            row += d_row\n",
    "            col += d_col\n",
    "            spiral.append(matrix[row][col])\n",
    "            leg_count += 1\n",
    "\n",
    "            # change direction\n",
    "            if (d_col != 0 and leg_count == row_leg) or (d_row != 0 and leg_count == col_leg):\n",
    "                if d_col != 0:\n",
    "                    row_leg -= 1\n",
    "                else:\n",
    "                    col_leg -= 1\n",
    "                d_row, d_col = d_col, -d_row\n",
    "                leg_count = 0\n",
    "\n",
    "        return spiral"
   ]
  }
 ],
 "metadata": {
  "jupytext": {
   "encoding": "# -*- coding: utf-8 -*-",
   "formats": "ipynb,py"
  },
  "kernelspec": {
   "display_name": "Python 3",
   "language": "python",
   "name": "python3"
  },
  "language_info": {
   "codemirror_mode": {
    "name": "ipython",
    "version": 3
   },
   "file_extension": ".py",
   "mimetype": "text/x-python",
   "name": "python",
   "nbconvert_exporter": "python",
   "pygments_lexer": "ipython3",
   "version": "3.7.3"
  },
  "toc": {
   "base_numbering": 1,
   "nav_menu": {},
   "number_sections": true,
   "sideBar": true,
   "skip_h1_title": false,
   "title_cell": "Table of Contents",
   "title_sidebar": "Contents",
   "toc_cell": false,
   "toc_position": {},
   "toc_section_display": true,
   "toc_window_display": false
  },
  "varInspector": {
   "cols": {
    "lenName": 16,
    "lenType": 16,
    "lenVar": 40
   },
   "kernels_config": {
    "python": {
     "delete_cmd_postfix": "",
     "delete_cmd_prefix": "del ",
     "library": "var_list.py",
     "varRefreshCmd": "print(var_dic_list())"
    },
    "r": {
     "delete_cmd_postfix": ") ",
     "delete_cmd_prefix": "rm(",
     "library": "var_list.r",
     "varRefreshCmd": "cat(var_dic_list()) "
    }
   },
   "types_to_exclude": [
    "module",
    "function",
    "builtin_function_or_method",
    "instance",
    "_Feature"
   ],
   "window_display": false
  }
 },
 "nbformat": 4,
 "nbformat_minor": 2
}