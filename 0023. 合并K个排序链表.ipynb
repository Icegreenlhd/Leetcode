{
 "cells": [
  {
   "cell_type": "markdown",
   "metadata": {},
   "source": [
    "合并 k 个排序链表，返回合并后的排序链表。请分析和描述算法的复杂度。\n",
    "\n",
    "示例:\n",
    "``` python\n",
    "输入:\n",
    "[\n",
    "  1->4->5,\n",
    "  1->3->4,\n",
    "  2->6\n",
    "]\n",
    "输出: 1->1->2->3->4->4->5->6\n",
    "```\n",
    "来源：力扣（LeetCode）\n",
    "链接：https://leetcode-cn.com/problems/merge-k-sorted-lists\n",
    "著作权归领扣网络所有。商业转载请联系官方授权，非商业转载请注明出处。"
   ]
  },
  {
   "cell_type": "code",
   "execution_count": 2,
   "metadata": {
    "ExecuteTime": {
     "end_time": "2020-04-28T04:53:09.623171Z",
     "start_time": "2020-04-28T04:53:09.619151Z"
    }
   },
   "outputs": [],
   "source": [
    "# my solution 1, crude loop soluble method, timeout\n",
    "# Definition for singly-linked list.\n",
    "\n",
    "\n",
    "class ListNode(object):\n",
    "    def __init__(self, x):\n",
    "        self.val = x\n",
    "        self.next = None\n",
    "\n",
    "\n",
    "class Solution(object):\n",
    "    def mergeKLists(self, lists):\n",
    "        \"\"\"\n",
    "        :type lists: List[ListNode]\n",
    "        :rtype: ListNode\n",
    "        \"\"\"\n",
    "        result = dummy = ListNode(None)\n",
    "\n",
    "        index = 0\n",
    "        while index < len(lists):\n",
    "            if not lists[index]:\n",
    "                lists.pop(index)\n",
    "            else:\n",
    "                index += 1\n",
    "\n",
    "        while lists:\n",
    "            min_index = 0\n",
    "            for i, j in enumerate(lists):\n",
    "                min_index = min(\n",
    "                    min_index, i, key=lambda index: lists[index].val)\n",
    "            result.next = lists[min_index]\n",
    "            result = result.next\n",
    "            lists[min_index] = lists[min_index].next\n",
    "            if lists[min_index] == None:\n",
    "                lists.pop(min_index)\n",
    "\n",
    "        return dummy.next"
   ]
  },
  {
   "cell_type": "code",
   "execution_count": 44,
   "metadata": {
    "ExecuteTime": {
     "end_time": "2020-04-28T07:58:23.649028Z",
     "start_time": "2020-04-28T07:58:23.644733Z"
    }
   },
   "outputs": [],
   "source": [
    "# my solution 2, crude loop soluble method, timeout\n",
    "# Definition for singly-linked list.\n",
    "\n",
    "\n",
    "class ListNode(object):\n",
    "    def __init__(self, x):\n",
    "        self.val = x\n",
    "        self.next = None\n",
    "\n",
    "\n",
    "class Solution(object):\n",
    "    def mergeKLists(self, lists):\n",
    "        \"\"\"\n",
    "        :type lists: List[ListNode]\n",
    "        :rtype: ListNode\n",
    "        \"\"\"\n",
    "        def get_place(node, start, end):\n",
    "            if start >= end:\n",
    "                return start\n",
    "            if lists[(start+end)//2].val < node.val:\n",
    "                return get_place(node, (start+end)//2+1, end)\n",
    "            elif lists[(start+end)//2].val > node.val:\n",
    "                return get_place(node, start, (start+end)//2)\n",
    "            else:\n",
    "                return (start+end)//2\n",
    "\n",
    "        result = dummy = ListNode(None)\n",
    "\n",
    "        lists.sort(key=lambda node: float('inf') if not node else node.val)\n",
    "        while lists and not lists[len(lists) - 1]:  # get rid of the None node\n",
    "            lists.pop()\n",
    "\n",
    "        while lists:\n",
    "            s = lists.pop(0)\n",
    "            result.next = s\n",
    "            result = result.next\n",
    "            if s.next:\n",
    "                lists.insert(get_place(s.next, 0, len(lists)), s.next)\n",
    "        return dummy.next"
   ]
  },
  {
   "cell_type": "code",
   "execution_count": null,
   "metadata": {},
   "outputs": [],
   "source": [
    "_author_ = 'jake'\n",
    "_project_ = 'leetcode'\n",
    "\n",
    "# https://leetcode.com/problems/merge-k-sorted-lists/\n",
    "# Merge k sorted linked lists and return it as one sorted list. Analyze and describe its complexity.\n",
    "\n",
    "# Maintain a min heap of tuples of (val, list index) for the next node in each list.\n",
    "# Also maintain a list of the next node to be merged for each list index.\n",
    "# Time - O(n log k) for n total nodes, each of which is pushed and popped from heap in log k time.\n",
    "# Space - O(k) for heap of k nodes\n",
    "\n",
    "# Definition for singly-linked list.\n",
    "class ListNode(object):\n",
    "    def __init__(self, x):\n",
    "        self.val = x\n",
    "        self.next = None\n",
    "\n",
    "import heapq\n",
    "\n",
    "class Solution(object):\n",
    "    def mergeKLists(self, lists):\n",
    "        \"\"\"\n",
    "        :type lists: List[ListNode]\n",
    "        :rtype: ListNode\n",
    "        \"\"\"\n",
    "        prev = dummy = ListNode(None)\n",
    "        next_nodes, heap = [], []\n",
    "\n",
    "        for i, node in enumerate(lists):\n",
    "            next_nodes.append(node)         # next_nodes[i] is the next node to be merged from lists[i]\n",
    "            if node:\n",
    "                heap.append((node.val, i))\n",
    "        heapq.heapify(heap)\n",
    "\n",
    "        while heap:\n",
    "            value, i = heapq.heappop(heap)\n",
    "            node = next_nodes[i]\n",
    "            prev.next = node                # add node to merged list\n",
    "            prev = prev.next\n",
    "            if node.next:\n",
    "                next_nodes[i] = node.next\n",
    "                heapq.heappush(heap, (node.next.val, i))\n",
    "\n",
    "        return dummy.next"
   ]
  },
  {
   "cell_type": "code",
   "execution_count": 43,
   "metadata": {
    "ExecuteTime": {
     "end_time": "2020-04-28T07:56:50.021105Z",
     "start_time": "2020-04-28T07:56:50.018307Z"
    }
   },
   "outputs": [
    {
     "name": "stdout",
     "output_type": "stream",
     "text": [
      "2\n"
     ]
    }
   ],
   "source": [
    "lists = [2, 4]\n",
    "\n",
    "\n",
    "def get_place(node, start, end):\n",
    "    if start == end:\n",
    "        return start\n",
    "    mid = (start+end)//2\n",
    "    if lists[mid] < node:\n",
    "        return get_place(node, mid+1, end)\n",
    "    elif lists[mid] > node:\n",
    "        return get_place(node, start, mid)\n",
    "    else:\n",
    "        return mid\n",
    "\n",
    "\n",
    "print(get_place(5, 0, len(lists)))"
   ]
  }
 ],
 "metadata": {
  "kernelspec": {
   "display_name": "Python 3",
   "language": "python",
   "name": "python3"
  },
  "language_info": {
   "codemirror_mode": {
    "name": "ipython",
    "version": 3
   },
   "file_extension": ".py",
   "mimetype": "text/x-python",
   "name": "python",
   "nbconvert_exporter": "python",
   "pygments_lexer": "ipython3",
   "version": "3.6.5"
  },
  "toc": {
   "base_numbering": 1,
   "nav_menu": {},
   "number_sections": true,
   "sideBar": true,
   "skip_h1_title": false,
   "title_cell": "Table of Contents",
   "title_sidebar": "Contents",
   "toc_cell": false,
   "toc_position": {},
   "toc_section_display": true,
   "toc_window_display": false
  }
 },
 "nbformat": 4,
 "nbformat_minor": 2
}
