{
 "cells": [
  {
   "cell_type": "markdown",
   "metadata": {},
   "source": [
    "Implement next permutation, which rearranges numbers into the lexicographically next greater permutation of numbers.\n",
    "\n",
    "If such arrangement is not possible, it must rearrange it as the lowest possible order (ie, sorted in ascending order).\n",
    "\n",
    "The replacement must be in-place and use only constant extra memory.\n",
    "\n",
    "Here are some examples. Inputs are in the left-hand column and its corresponding outputs are in the right-hand column.\n",
    "```\n",
    "1,2,3 → 1,3,2\n",
    "3,2,1 → 1,2,3\n",
    "1,1,5 → 1,5,1\n",
    "```"
   ]
  },
  {
   "cell_type": "code",
   "execution_count": 33,
   "metadata": {
    "ExecuteTime": {
     "end_time": "2020-05-09T08:24:13.652211Z",
     "start_time": "2020-05-09T08:24:13.644639Z"
    }
   },
   "outputs": [],
   "source": [
    "# my solution 1, \n",
    "class Solution(object):\n",
    "    def nextPermutation(self, nums):\n",
    "        \"\"\"\n",
    "        :type nums: List[int]\n",
    "        :rtype: None Do not return anything, modify nums in-place instead.\n",
    "        \"\"\"\n",
    "\n",
    "        if not nums:\n",
    "            return\n",
    "\n",
    "        margin = len(nums) - 1  # 找到临界数，margin-1\n",
    "        while margin > 0 and nums[margin] <= nums[margin - 1]:\n",
    "            margin -= 1\n",
    "\n",
    "        if margin == 0:\n",
    "            nums.sort()\n",
    "            return\n",
    "\n",
    "        right = len(nums) - 1  # 找到临界右侧最小的大于临界数\n",
    "        while right > margin and nums[right] <= nums[margin - 1]:\n",
    "            right -= 1\n",
    "\n",
    "        nums[margin-1], nums[right] = nums[right], nums[margin-1]\n",
    "        nums[margin:] = sorted(nums[margin:])\n",
    "        return"
   ]
  },
  {
   "cell_type": "code",
   "execution_count": 53,
   "metadata": {
    "ExecuteTime": {
     "end_time": "2020-05-09T08:43:44.620155Z",
     "start_time": "2020-05-09T08:43:44.616568Z"
    }
   },
   "outputs": [],
   "source": [
    "# my solution 2,simple modify\n",
    "class Solution(object):\n",
    "    def nextPermutation(self, nums):\n",
    "        \"\"\"\n",
    "        :type nums: List[int]\n",
    "        :rtype: None Do not return anything, modify nums in-place instead.\n",
    "        \"\"\"\n",
    "\n",
    "        if not nums:\n",
    "            return\n",
    "\n",
    "        margin = len(nums) - 1  # 找到临界数，margin-1\n",
    "        while margin > 0 and nums[margin] <= nums[margin - 1]:\n",
    "            margin -= 1\n",
    "\n",
    "        if margin > 0:\n",
    "            right = len(nums) - 1  # 找到临界右侧最小的大于临界数\n",
    "            while right > margin and nums[right] <= nums[margin - 1]:\n",
    "                right -= 1\n",
    "            nums[margin-1], nums[right] = nums[right], nums[margin-1]\n",
    "        nums[margin:] = reversed(nums[margin:])\n",
    "        return"
   ]
  },
  {
   "cell_type": "code",
   "execution_count": null,
   "metadata": {},
   "outputs": [],
   "source": [
    "_author_ = 'jake'\n",
    "_project_ = 'leetcode'\n",
    "\n",
    "# https://leetcode.com/problems/next-permutation/\n",
    "# Implement next permutation, which rearranges numbers into the lexicographically next greater permutation of numbers.\n",
    "# If such arrangement is not possible, it must rearrange it as the lowest possible order (ie, sorted in ascending order).\n",
    "# The replacement must be in-place, do not allocate extra memory.\n",
    "\n",
    "# Starting from the last number, move forward to find the first decrease nums[i].\n",
    "# Find the smallest number bigger than nums[i], nums[j]. Swap nums[i] and nums[j].\n",
    "# Reverse all from i+1 onwards, or whole array if no decrease found in first step.\n",
    "# Time - O(n)\n",
    "# Space - O(1)\n",
    "\n",
    "class Solution(object):\n",
    "    def nextPermutation(self, nums):\n",
    "        \"\"\"\n",
    "        :type nums: List[int]\n",
    "        :rtype: void Do not return anything, modify nums in-place instead.\n",
    "        \"\"\"\n",
    "        if not nums or len(nums) == 1:\n",
    "            return\n",
    "\n",
    "        i = len(nums)-2     # starting at back, find the first decrease - increasing it will increment the permutation\n",
    "        while i >= 0 and nums[i] >= nums[i+1]:\n",
    "            i -= 1\n",
    "\n",
    "        if i != -1:         # if any decrease then find the smallest larger number to swap with\n",
    "            j = i+1\n",
    "            while j < len(nums) and nums[j] > nums[i]:\n",
    "                j += 1\n",
    "            j -= 1\n",
    "            nums[i], nums[j] = nums[j], nums[i]\n",
    "\n",
    "        # reverse all from i+1 onwards since they were decreasing and increasing minimises permutation\n",
    "        left = i+1\n",
    "        right = len(nums)-1\n",
    "        while left < right:\n",
    "            nums[left], nums[right] = nums[right], nums[left]\n",
    "            left += 1\n",
    "            right -= 1"
   ]
  },
  {
   "cell_type": "code",
   "execution_count": 36,
   "metadata": {
    "ExecuteTime": {
     "end_time": "2020-05-09T08:26:35.011865Z",
     "start_time": "2020-05-09T08:26:35.008937Z"
    }
   },
   "outputs": [
    {
     "data": {
      "text/plain": [
       "[5, 1, 1]"
      ]
     },
     "execution_count": 36,
     "metadata": {},
     "output_type": "execute_result"
    }
   ],
   "source": [
    "nums = [1,5,1]\n",
    "solution = Solution()\n",
    "solution.nextPermutation(nums)\n",
    "nums"
   ]
  },
  {
   "cell_type": "code",
   "execution_count": 51,
   "metadata": {
    "ExecuteTime": {
     "end_time": "2020-05-09T08:40:00.005793Z",
     "start_time": "2020-05-09T08:39:59.999779Z"
    }
   },
   "outputs": [
    {
     "data": {
      "text/plain": [
       "[2, 1, 2, 3]"
      ]
     },
     "execution_count": 51,
     "metadata": {},
     "output_type": "execute_result"
    }
   ],
   "source": [
    "array = [2,3,2,1]\n",
    "array\n",
    "a = array[1:]\n",
    "a.reverse()\n",
    "array[1:] = a\n",
    "array"
   ]
  }
 ],
 "metadata": {
  "kernelspec": {
   "display_name": "Python 3",
   "language": "python",
   "name": "python3"
  },
  "language_info": {
   "codemirror_mode": {
    "name": "ipython",
    "version": 3
   },
   "file_extension": ".py",
   "mimetype": "text/x-python",
   "name": "python",
   "nbconvert_exporter": "python",
   "pygments_lexer": "ipython3",
   "version": "3.6.5"
  },
  "toc": {
   "base_numbering": 1,
   "nav_menu": {},
   "number_sections": true,
   "sideBar": true,
   "skip_h1_title": false,
   "title_cell": "Table of Contents",
   "title_sidebar": "Contents",
   "toc_cell": false,
   "toc_position": {},
   "toc_section_display": true,
   "toc_window_display": false
  }
 },
 "nbformat": 4,
 "nbformat_minor": 2
}
