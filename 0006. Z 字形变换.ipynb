{
 "cells": [
  {
   "cell_type": "markdown",
   "metadata": {},
   "source": [
    "将一个给定字符串根据给定的行数，以从上往下、从左到右进行 Z 字形排列。\n",
    "\n",
    "比如输入字符串为 \"LEETCODEISHIRING\" 行数为 3 时，排列如下：\n",
    "\n",
    "```python\n",
    "L   C   I   R\n",
    "E T O E S I I G\n",
    "E   D   H   N\n",
    "```\n",
    "之后，你的输出需要从左往右逐行读取，产生出一个新的字符串，比如：\"LCIRETOESIIGEDHN\"。\n",
    "\n",
    "请你实现这个将字符串进行指定行数变换的函数：\n",
    "\n",
    "string convert(string s, int numRows);\n",
    "示例 1:\n",
    "\n",
    "输入: s = \"LEETCODEISHIRING\", numRows = 3\n",
    "输出: \"LCIRETOESIIGEDHN\"\n",
    "示例 2:\n",
    "\n",
    "输入: s = \"LEETCODEISHIRING\", numRows = 4\n",
    "输出: \"LDREOEIIECIHNTSG\"\n",
    "解释:\n",
    "```python\n",
    "L     D     R\n",
    "E   O E   I I\n",
    "E C   I H   N\n",
    "T     S     G\n",
    "```\n",
    "来源：力扣（LeetCode）\n",
    "链接：https://leetcode-cn.com/problems/zigzag-conversion\n",
    "著作权归领扣网络所有。商业转载请联系官方授权，非商业转载请注明出处。"
   ]
  },
  {
   "cell_type": "code",
   "execution_count": 28,
   "metadata": {
    "ExecuteTime": {
     "end_time": "2020-04-14T13:53:37.715562Z",
     "start_time": "2020-04-14T13:53:37.701798Z"
    }
   },
   "outputs": [],
   "source": [
    "# my solution1\n",
    "from collections import defaultdict\n",
    "\n",
    "\n",
    "class Solution(object):\n",
    "    def convert(self, s, numRows):\n",
    "        \"\"\"\n",
    "        :type s: str\n",
    "        :type numRows: int\n",
    "        :rtype: str\n",
    "        \"\"\"\n",
    "        record = defaultdict(list)\n",
    "        result = ''\n",
    "        pointer = 0\n",
    "        direct = 1\n",
    "\n",
    "        for c in s:\n",
    "            record[pointer].append(c)\n",
    "            pointer += direct\n",
    "            if pointer == numRows - 1 or pointer == 0:\n",
    "                direct = -direct\n",
    "                \n",
    "#         for i, c in sorted(record.items()):\n",
    "#             result += ''.join(c)\n",
    "\n",
    "#         for _, z in record.items():\n",
    "#             for c in z:\n",
    "#                 print(c)\n",
    "        return ''.join(c for _, z in record.items() for c in z)"
   ]
  },
  {
   "cell_type": "code",
   "execution_count": 30,
   "metadata": {
    "ExecuteTime": {
     "end_time": "2020-04-14T13:57:45.444119Z",
     "start_time": "2020-04-14T13:57:45.440274Z"
    }
   },
   "outputs": [],
   "source": [
    "# my solution2\n",
    "from collections import defaultdict\n",
    "class Solution(object):\n",
    "    def convert(self, s, numRows):\n",
    "        \"\"\"\n",
    "        :type s: str\n",
    "        :type numRows: int\n",
    "        :rtype: str\n",
    "        \"\"\"\n",
    "        assert numRows >= 1, \"wrong numRows\"\n",
    "        \n",
    "        if numRows == 1:\n",
    "            return s\n",
    "        \n",
    "        record = defaultdict(str)\n",
    "        result = ''\n",
    "        pointer = 0\n",
    "        direct = 1\n",
    "        \n",
    "        for c in s:\n",
    "            record[pointer] += c\n",
    "            pointer += direct\n",
    "            if pointer == numRows - 1 or pointer == 0:\n",
    "                direct = -direct\n",
    "        for i, c in record.items():\n",
    "            result += c\n",
    "        return result"
   ]
  },
  {
   "cell_type": "code",
   "execution_count": 18,
   "metadata": {
    "ExecuteTime": {
     "end_time": "2020-04-14T13:47:41.734592Z",
     "start_time": "2020-04-14T13:47:41.731305Z"
    }
   },
   "outputs": [],
   "source": [
    "# Jake solution\n",
    "class Solution(object):\n",
    "    def convert(self, s, numRows):\n",
    "        \"\"\"\n",
    "        :type s: str\n",
    "        :type numRows: int\n",
    "        :rtype: str\n",
    "        \"\"\"\n",
    "        if numRows == 1:\n",
    "            return s\n",
    "\n",
    "        zigzag = [[] for _ in range(numRows)]\n",
    "        row = 0\n",
    "        direction = -1      # -1 for up, +1 for down\n",
    "\n",
    "        for c in s:\n",
    "            zigzag[row].append(c)\n",
    "            if row == 0 or row == numRows-1:    # change direction\n",
    "                direction = -direction\n",
    "            row += direction\n",
    "\n",
    "        return \"\".join([c for r in zigzag for c in r])  # flatten list of lists"
   ]
  },
  {
   "cell_type": "code",
   "execution_count": 29,
   "metadata": {
    "ExecuteTime": {
     "end_time": "2020-04-14T13:53:40.821955Z",
     "start_time": "2020-04-14T13:53:40.817752Z"
    }
   },
   "outputs": [
    {
     "name": "stdout",
     "output_type": "stream",
     "text": [
      "P\n",
      "A\n",
      "H\n",
      "N\n",
      "A\n",
      "P\n",
      "L\n",
      "S\n",
      "I\n",
      "I\n",
      "G\n",
      "Y\n",
      "I\n",
      "R\n"
     ]
    },
    {
     "data": {
      "text/plain": [
       "'PAHNAPLSIIGYIR'"
      ]
     },
     "execution_count": 29,
     "metadata": {},
     "output_type": "execute_result"
    }
   ],
   "source": [
    "#test1\n",
    "s = 'PAYPALISHIRING'\n",
    "numRows = 3 \n",
    "solution = Solution()\n",
    "solution.convert(s, numRows)"
   ]
  },
  {
   "cell_type": "code",
   "execution_count": 2,
   "metadata": {
    "ExecuteTime": {
     "end_time": "2020-04-14T12:07:04.031503Z",
     "start_time": "2020-04-14T12:07:04.024561Z"
    }
   },
   "outputs": [
    {
     "data": {
      "text/plain": [
       "-1"
      ]
     },
     "execution_count": 2,
     "metadata": {},
     "output_type": "execute_result"
    }
   ],
   "source": [
    "a = 1 \n",
    "a = -a\n",
    "a"
   ]
  }
 ],
 "metadata": {
  "kernelspec": {
   "display_name": "Python 3",
   "language": "python",
   "name": "python3"
  },
  "language_info": {
   "codemirror_mode": {
    "name": "ipython",
    "version": 3
   },
   "file_extension": ".py",
   "mimetype": "text/x-python",
   "name": "python",
   "nbconvert_exporter": "python",
   "pygments_lexer": "ipython3",
   "version": "3.6.5"
  },
  "toc": {
   "base_numbering": 1,
   "nav_menu": {},
   "number_sections": true,
   "sideBar": true,
   "skip_h1_title": false,
   "title_cell": "Table of Contents",
   "title_sidebar": "Contents",
   "toc_cell": false,
   "toc_position": {},
   "toc_section_display": true,
   "toc_window_display": false
  }
 },
 "nbformat": 4,
 "nbformat_minor": 2
}
