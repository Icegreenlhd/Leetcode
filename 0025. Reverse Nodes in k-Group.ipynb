{
 "cells": [
  {
   "cell_type": "markdown",
   "metadata": {},
   "source": [
    "Given a linked list, reverse the nodes of a linked list k at a time and return its modified list.\n",
    "\n",
    "k is a positive integer and is less than or equal to the length of the linked list. If the number of nodes is not a multiple of k then left-out nodes in the end should remain as it is.\n",
    "\n",
    "Example:\n",
    "```\n",
    "Given this linked list: 1->2->3->4->5\n",
    "\n",
    "For k = 2, you should return: 2->1->4->3->5\n",
    "\n",
    "For k = 3, you should return: 3->2->1->4->5\n",
    "```\n",
    "Note:\n",
    "\n",
    "- Only constant extra memory is allowed.\n",
    "- You may not alter the values in the list's nodes, only nodes itself may be changed."
   ]
  },
  {
   "cell_type": "code",
   "execution_count": 3,
   "metadata": {},
   "outputs": [],
   "source": [
    "# my solution 1\n",
    "# Definition for singly-linked list.\n",
    "class ListNode(object):\n",
    "    def __init__(self, val=0, next=None):\n",
    "        self.val = val\n",
    "        self.next = next\n",
    "\n",
    "\n",
    "class Solution(object):\n",
    "    def reverseKGroup(self, head, k):\n",
    "        \"\"\"\n",
    "        :type head: ListNode\n",
    "        :type k: int\n",
    "        :rtype: ListNode\n",
    "        \"\"\"\n",
    "        def check_num(head, k):\n",
    "            for _ in range(k):\n",
    "                if not head:\n",
    "                    return False\n",
    "                head = head.next\n",
    "            return True\n",
    "        \n",
    "        assert k > 0, \"k is greater \"\n",
    "        assert check_num(head, k), \"k is greater than the size of the linked list\"\n",
    "        if k < 2: \n",
    "            return head\n",
    "        \n",
    "        result = dummy = ListNode(None)\n",
    "        \n",
    "        while head:\n",
    "            if check_num(head, k):\n",
    "                for _ in range(k):\n",
    "                    tmp = head\n",
    "                    head = head.next\n",
    "                    tmp.next = result.next\n",
    "                    result.next = tmp\n",
    "                for _ in range(k):\n",
    "                    result = result.next\n",
    "            else:\n",
    "                break\n",
    "        result.next = head\n",
    "        return dummy.next\n",
    "        "
   ]
  },
  {
   "cell_type": "code",
   "execution_count": 4,
   "metadata": {},
   "outputs": [],
   "source": [
    "_author_ = 'jake'\n",
    "_project_ = 'leetcode'\n",
    "\n",
    "# https://leetcode.com/problems/reverse-nodes-in-k-group/\n",
    "# Given a linked list, reverse the nodes of a linked list k at a time and return its modified list.\n",
    "# If the number of nodes is not a multiple of k then left-out nodes in the end should remain as it is.\n",
    "# You may not alter the values in the nodes, only nodes itself may be changed.\n",
    "# Only constant memory is allowed.\n",
    "\n",
    "# If there are at least k nodes, recursively reverse remainder and append reversed group to reversed remainder.\n",
    "# Time - O(n)\n",
    "# Space - O(1)\n",
    "\n",
    "class Solution(object):\n",
    "    def reverseKGroup(self, head, k):\n",
    "        \"\"\"\n",
    "        :type head: ListNode\n",
    "        :type k: int\n",
    "        :rtype: ListNode\n",
    "        \"\"\"\n",
    "        if k < 2:\n",
    "            return head\n",
    "\n",
    "        node = head\n",
    "        for _ in range(k):\n",
    "            if not node:\n",
    "                return head     # return head if there are not at least k nodes\n",
    "            node = node.next\n",
    "        # else node is now head of second group\n",
    "\n",
    "        # reverse remainder after this group\n",
    "        prev = self.reverseKGroup(node, k)\n",
    "\n",
    "        for _ in range(k):      # reverse this group, adding in front of prev\n",
    "            temp = head.next\n",
    "            head.next = prev\n",
    "            prev = head\n",
    "            head = temp\n",
    "\n",
    "        return prev"
   ]
  }
 ],
 "metadata": {
  "kernelspec": {
   "display_name": "Python 3",
   "language": "python",
   "name": "python3"
  },
  "language_info": {
   "codemirror_mode": {
    "name": "ipython",
    "version": 3
   },
   "file_extension": ".py",
   "mimetype": "text/x-python",
   "name": "python",
   "nbconvert_exporter": "python",
   "pygments_lexer": "ipython3",
   "version": "3.7.3"
  },
  "toc": {
   "base_numbering": 1,
   "nav_menu": {},
   "number_sections": true,
   "sideBar": true,
   "skip_h1_title": false,
   "title_cell": "Table of Contents",
   "title_sidebar": "Contents",
   "toc_cell": false,
   "toc_position": {},
   "toc_section_display": true,
   "toc_window_display": false
  },
  "varInspector": {
   "cols": {
    "lenName": 16,
    "lenType": 16,
    "lenVar": 40
   },
   "kernels_config": {
    "python": {
     "delete_cmd_postfix": "",
     "delete_cmd_prefix": "del ",
     "library": "var_list.py",
     "varRefreshCmd": "print(var_dic_list())"
    },
    "r": {
     "delete_cmd_postfix": ") ",
     "delete_cmd_prefix": "rm(",
     "library": "var_list.r",
     "varRefreshCmd": "cat(var_dic_list()) "
    }
   },
   "types_to_exclude": [
    "module",
    "function",
    "builtin_function_or_method",
    "instance",
    "_Feature"
   ],
   "window_display": false
  }
 },
 "nbformat": 4,
 "nbformat_minor": 2
}
