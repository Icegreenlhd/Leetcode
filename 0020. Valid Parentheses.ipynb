{
 "cells": [
  {
   "cell_type": "markdown",
   "metadata": {},
   "source": [
    "Given a string containing just the characters '(', ')', '{', '}', '[' and ']', determine if the input string is valid.\n",
    "\n",
    "An input string is valid if:\n",
    "\n",
    "Open brackets must be closed by the same type of brackets.\n",
    "Open brackets must be closed in the correct order.\n",
    "Note that an empty string is also considered valid.\n",
    "\n",
    "Example 1:\n",
    "```\n",
    "Input: \"()\"\n",
    "Output: true\n",
    "```\n",
    "Example 2:\n",
    "```\n",
    "Input: \"()[]{}\"\n",
    "Output: true\n",
    "```\n",
    "Example 3:\n",
    "```\n",
    "Input: \"(]\"\n",
    "Output: false\n",
    "```\n",
    "Example 4:\n",
    "```\n",
    "Input: \"([)]\"\n",
    "Output: false\n",
    "```\n",
    "Example 5:\n",
    "```\n",
    "Input: \"{[]}\"\n",
    "Output: true\n",
    "```"
   ]
  },
  {
   "cell_type": "code",
   "execution_count": 16,
   "metadata": {
    "ExecuteTime": {
     "end_time": "2020-04-26T12:26:32.775826Z",
     "start_time": "2020-04-26T12:26:32.773076Z"
    }
   },
   "outputs": [],
   "source": [
    "# my solution 1, 栈思路\n",
    "class Solution(object):\n",
    "    def isValid(self, s):\n",
    "        \"\"\"\n",
    "        :type s: str\n",
    "        :rtype: bool\n",
    "        \"\"\"\n",
    "        parentheses = {'}': '{', ']': '[', ')': '('}\n",
    "        stack = []\n",
    "        index = 0\n",
    "        while index < len(s):\n",
    "            if parentheses.get(s[index]):\n",
    "                if not stack or stack.pop() != parentheses[s[index]]:\n",
    "                    return False\n",
    "            else:\n",
    "                stack.append(s[index])\n",
    "            index += 1\n",
    "        return True if not stack else False"
   ]
  },
  {
   "cell_type": "code",
   "execution_count": 17,
   "metadata": {
    "ExecuteTime": {
     "end_time": "2020-04-26T12:30:51.075955Z",
     "start_time": "2020-04-26T12:30:51.072943Z"
    }
   },
   "outputs": [],
   "source": [
    "_author_ = 'jake'\n",
    "_project_ = 'leetcode'\n",
    "\n",
    "# https://leetcode.com/problems/valid-parentheses/\n",
    "# Given a string containing just the characters '(', ')', '{', '}', '[' and ']', determine if the input string is valid.\n",
    "# The brackets must close in the correct order, \"()\" and \"()[]{}\" are all valid but \"(]\" and \"([)]\" are not.\n",
    "\n",
    "# Maintain a stack of opening brackets.  For each closing bracket pop the head of the stack and check it matches.\n",
    "# Time - O(n)\n",
    "# Space - O(n)\n",
    "\n",
    "class Solution(object):\n",
    "    def isValid(self, s):\n",
    "        \"\"\"\n",
    "        :type s: str\n",
    "        :rtype: bool\n",
    "        \"\"\"\n",
    "        stack = []\n",
    "        match = {'(' : ')', '[' : ']', '{' : '}'}\n",
    "\n",
    "        for c in s:\n",
    "            if c in match:\n",
    "                stack.append(c)\n",
    "            else:\n",
    "                if not stack or match[stack.pop()] != c:\n",
    "                    return False\n",
    "\n",
    "        return not stack"
   ]
  },
  {
   "cell_type": "code",
   "execution_count": 15,
   "metadata": {
    "ExecuteTime": {
     "end_time": "2020-04-26T12:26:15.617523Z",
     "start_time": "2020-04-26T12:26:15.614136Z"
    }
   },
   "outputs": [
    {
     "name": "stdout",
     "output_type": "stream",
     "text": [
      "Right Input:() Result:True Myresult:True\n",
      "Right Input:()[]{} Result:True Myresult:True\n",
      "Right Input:(]) Result:False Myresult:False\n",
      "Right Input:([)] Result:False Myresult:False\n",
      "Right Input:{[]} Result:True Myresult:True\n"
     ]
    }
   ],
   "source": [
    "# test\n",
    "input = []\n",
    "input.append(('()', True))\n",
    "input.append(('()[]{}', True))\n",
    "input.append(('(])', False))\n",
    "input.append(('([)]', False))\n",
    "input.append(('{[]}', True))\n",
    "solution = Solution()\n",
    "for i in input:\n",
    "    s, result = i\n",
    "    my_result = solution.isValid(s)\n",
    "    if result != my_result:\n",
    "        print(\"!Wrong\", \"Input:{} Result:{} Myresult:{}\".format(s, result, my_result))\n",
    "    else:\n",
    "        print(\"Right\", \"Input:{} Result:{} Myresult:{}\".format(s, result, my_result))"
   ]
  }
 ],
 "metadata": {
  "jupytext": {
   "formats": "ipynb,py"
  },
  "kernelspec": {
   "display_name": "Python 3",
   "language": "python",
   "name": "python3"
  },
  "language_info": {
   "codemirror_mode": {
    "name": "ipython",
    "version": 3
   },
   "file_extension": ".py",
   "mimetype": "text/x-python",
   "name": "python",
   "nbconvert_exporter": "python",
   "pygments_lexer": "ipython3",
   "version": "3.6.5"
  },
  "toc": {
   "base_numbering": 1,
   "nav_menu": {},
   "number_sections": true,
   "sideBar": true,
   "skip_h1_title": false,
   "title_cell": "Table of Contents",
   "title_sidebar": "Contents",
   "toc_cell": false,
   "toc_position": {},
   "toc_section_display": true,
   "toc_window_display": false
  }
 },
 "nbformat": 4,
 "nbformat_minor": 2
}
