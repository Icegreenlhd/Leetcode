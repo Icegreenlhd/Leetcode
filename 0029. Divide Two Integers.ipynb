{
 "cells": [
  {
   "cell_type": "markdown",
   "metadata": {},
   "source": [
    "Given two integers dividend and divisor, divide two integers without using multiplication, division and mod operator.\n",
    "\n",
    "Return the quotient after dividing dividend by divisor.\n",
    "\n",
    "The integer division should truncate toward zero, which means losing its fractional part. For example, truncate(8.345) = 8 and truncate(-2.7335) = -2.\n",
    "\n",
    "Example 1:\n",
    "```\n",
    "Input: dividend = 10, divisor = 3\n",
    "Output: 3\n",
    "Explanation: 10/3 = truncate(3.33333..) = 3.\n",
    "```\n",
    "Example 2:\n",
    "```\n",
    "Input: dividend = 7, divisor = -3\n",
    "Output: -2\n",
    "Explanation: 7/-3 = truncate(-2.33333..) = -2.\n",
    "```"
   ]
  },
  {
   "cell_type": "code",
   "execution_count": 7,
   "metadata": {
    "ExecuteTime": {
     "end_time": "2020-05-07T03:57:43.339918Z",
     "start_time": "2020-05-07T03:57:43.336674Z"
    }
   },
   "outputs": [],
   "source": [
    "# my solution 1, time out\n",
    "class Solution(object):\n",
    "    def divide(self, dividend, divisor):\n",
    "        \"\"\"\n",
    "        :type dividend: int\n",
    "        :type divisor: int\n",
    "        :rtype: int\n",
    "        \"\"\"\n",
    "        assert divisor != 0, \"Divide the zero\"\n",
    "        sign = True if (dividend > 0) ^ (divisor > 0) else False\n",
    "        dividend = abs(dividend)\n",
    "        divisor = abs(divisor)\n",
    "        result = 0\n",
    "        while dividend >= divisor:\n",
    "            result += 1\n",
    "            dividend -= divisor\n",
    "        return -result if sign else result"
   ]
  },
  {
   "cell_type": "markdown",
   "metadata": {},
   "source": [
    "# Jake's solution\n",
    "Repeatedly double the divisor until it would exceed the dividend.  Then repeatedly halve the divisor, subtracting\n",
    "it from the dividend whenever possible.\n",
    "- Time - O(log n)\n",
    "- Space - O(1)\n"
   ]
  },
  {
   "cell_type": "code",
   "execution_count": null,
   "metadata": {},
   "outputs": [],
   "source": [
    "class Solution(object):\n",
    "    def divide(self, dividend, divisor):\n",
    "        \"\"\"\n",
    "        :type dividend: int\n",
    "        :type divisor: int\n",
    "        :rtype: int\n",
    "        \"\"\"\n",
    "        if divisor == 0:\n",
    "            return None\n",
    "        diff_sign = (divisor < 0) ^ (dividend < 0)\n",
    "        dividend = abs(dividend)\n",
    "        divisor = abs(divisor)\n",
    "\n",
    "        result = 0\n",
    "        max_divisor = divisor\n",
    "        shift_count = 1\n",
    "\n",
    "        while dividend >= (max_divisor << 1):   # find divisor * 2^i where divisor * 2^(i+1) > dividend\n",
    "            max_divisor <<= 1\n",
    "            shift_count <<= 1\n",
    "\n",
    "        while shift_count >= 1:\n",
    "            if dividend >= max_divisor:         # subtract max_divisor whenever possible\n",
    "                dividend -= max_divisor\n",
    "                result += shift_count\n",
    "            shift_count >>= 1\n",
    "            max_divisor >>= 1\n",
    "\n",
    "        if diff_sign:\n",
    "            result = -result\n",
    "        return max(min(result, 2**31-1), -2**31)"
   ]
  },
  {
   "cell_type": "code",
   "execution_count": 6,
   "metadata": {
    "ExecuteTime": {
     "end_time": "2020-05-07T03:55:43.721592Z",
     "start_time": "2020-05-07T03:55:43.711854Z"
    }
   },
   "outputs": [
    {
     "data": {
      "text/plain": [
       "False"
      ]
     },
     "execution_count": 6,
     "metadata": {},
     "output_type": "execute_result"
    }
   ],
   "source": [
    "True ^ True"
   ]
  }
 ],
 "metadata": {
  "kernelspec": {
   "display_name": "Python 3",
   "language": "python",
   "name": "python3"
  },
  "language_info": {
   "codemirror_mode": {
    "name": "ipython",
    "version": 3
   },
   "file_extension": ".py",
   "mimetype": "text/x-python",
   "name": "python",
   "nbconvert_exporter": "python",
   "pygments_lexer": "ipython3",
   "version": "3.6.5"
  },
  "toc": {
   "base_numbering": 1,
   "nav_menu": {},
   "number_sections": true,
   "sideBar": true,
   "skip_h1_title": false,
   "title_cell": "Table of Contents",
   "title_sidebar": "Contents",
   "toc_cell": false,
   "toc_position": {},
   "toc_section_display": true,
   "toc_window_display": false
  }
 },
 "nbformat": 4,
 "nbformat_minor": 2
}
