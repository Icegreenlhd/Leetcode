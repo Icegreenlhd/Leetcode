{
 "cells": [
  {
   "cell_type": "markdown",
   "metadata": {},
   "source": [
    "Merge two sorted linked lists and return it as a new list. The new list should be made by splicing together the nodes of the first two lists.\n",
    "\n",
    "Example:\n",
    "```\n",
    "Input: 1->2->4, 1->3->4\n",
    "Output: 1->1->2->3->4->4\n",
    "```"
   ]
  },
  {
   "cell_type": "code",
   "execution_count": 3,
   "metadata": {
    "ExecuteTime": {
     "end_time": "2020-04-26T13:02:47.067581Z",
     "start_time": "2020-04-26T13:02:47.056839Z"
    }
   },
   "outputs": [],
   "source": [
    "# my solution 1\n",
    "# Definition for singly-linked list.\n",
    "class ListNode(object):\n",
    "    def __init__(self, x):\n",
    "        self.val = x\n",
    "        self.next = None\n",
    "\n",
    "class Solution(object):\n",
    "    def mergeTwoLists(self, l1, l2):\n",
    "        \"\"\"\n",
    "        :type l1: ListNode\n",
    "        :type l2: ListNode\n",
    "        :rtype: ListNode\n",
    "        \"\"\"\n",
    "        p1 = l1\n",
    "        p2 = l2\n",
    "        p = head = ListNode(None)\n",
    "        while p1:\n",
    "            if not p2:\n",
    "                p.next = p1\n",
    "                return head.next\n",
    "            \n",
    "            if p1.val <= p2.val:\n",
    "                p.next = p1\n",
    "                p1 = p1.next\n",
    "            else:\n",
    "                p.next = p2\n",
    "                p2 = p2.next\n",
    "                \n",
    "            p = p.next\n",
    "            \n",
    "        if p2:\n",
    "            p.next = p2\n",
    "        return head.next"
   ]
  },
  {
   "cell_type": "code",
   "execution_count": null,
   "metadata": {},
   "outputs": [],
   "source": [
    "_author_ = 'jake'\n",
    "_project_ = 'leetcode'\n",
    "\n",
    "# https://leetcode.com/problems/merge-two-sorted-lists/\n",
    "# Merge two sorted linked lists and return it as a new list. The new list should be made by splicing together the nodes of the first two lists.\n",
    "\n",
    "# Whilst there are nodes in both lists, link to lowest head node and increment that list.  Finally link to\n",
    "# the list with remaining nodes.\n",
    "# Time - O(m+n)\n",
    "# Space - O(1)\n",
    "\n",
    "# Definition for singly-linked list.\n",
    "class ListNode(object):\n",
    "    def __init__(self, x):\n",
    "        self.val = x\n",
    "        self.next = None\n",
    "\n",
    "class Solution(object):\n",
    "    def mergeTwoLists(self, l1, l2):\n",
    "\n",
    "        prev = dummy = ListNode(None)       # new dummy head for the merged list\n",
    "\n",
    "        while l1 and l2:                    # link prev to the lowest node\n",
    "\n",
    "            if l1.val < l2.val:\n",
    "                prev.next = l1\n",
    "                l1 = l1.next\n",
    "            else:\n",
    "                prev.next = l2\n",
    "                l2 = l2.next\n",
    "\n",
    "            prev = prev.next\n",
    "\n",
    "        prev.next = l1 or l2                # link prev to the list with remaining nodes\n",
    "        return dummy.next"
   ]
  }
 ],
 "metadata": {
  "kernelspec": {
   "display_name": "Python 3",
   "language": "python",
   "name": "python3"
  },
  "language_info": {
   "codemirror_mode": {
    "name": "ipython",
    "version": 3
   },
   "file_extension": ".py",
   "mimetype": "text/x-python",
   "name": "python",
   "nbconvert_exporter": "python",
   "pygments_lexer": "ipython3",
   "version": "3.6.5"
  },
  "toc": {
   "base_numbering": 1,
   "nav_menu": {},
   "number_sections": true,
   "sideBar": true,
   "skip_h1_title": false,
   "title_cell": "Table of Contents",
   "title_sidebar": "Contents",
   "toc_cell": false,
   "toc_position": {},
   "toc_section_display": true,
   "toc_window_display": false
  }
 },
 "nbformat": 4,
 "nbformat_minor": 2
}
