{
 "cells": [
  {
   "cell_type": "markdown",
   "metadata": {},
   "source": [
    "# my solution 1, 递归结合去重，类似0040\n",
    "- Time: O(n!)\n",
    "- Space: O(n!)"
   ]
  },
  {
   "cell_type": "code",
   "execution_count": 19,
   "metadata": {
    "ExecuteTime": {
     "end_time": "2020-06-03T07:44:56.856871Z",
     "start_time": "2020-06-03T07:44:56.850989Z"
    }
   },
   "outputs": [],
   "source": [
    "class Solution(object):\n",
    "    def permuteUnique(self, nums):\n",
    "        \"\"\"\n",
    "        :type nums: List[int]\n",
    "        :rtype: List[List[int]]\n",
    "        \"\"\"\n",
    "        nums.sort()\n",
    "        result = []\n",
    "        self.permute(nums, [], result)\n",
    "        return result\n",
    "    \n",
    "    def permute(self, nums, particle, res):\n",
    "        if not nums:\n",
    "            res.append(particle[:])\n",
    "            return\n",
    "        \n",
    "        for i, n in enumerate(nums):\n",
    "            if i > 0 and n == nums[i-1]:\n",
    "                continue\n",
    "            nums.pop(i)  \n",
    "            self.permute(nums, particle+[n], res)\n",
    "            nums.insert(i, n)"
   ]
  },
  {
   "cell_type": "markdown",
   "metadata": {},
   "source": [
    "# Jake's solution\n",
    "\n",
    "Count occurences of each unique number.  Recursively append each number if still has a positive count.\n",
    "- Time - O(n^2 * n!), as 046_Permutations if all numbers are unique\n",
    "- Space - O(n * n!)"
   ]
  },
  {
   "cell_type": "code",
   "execution_count": 21,
   "metadata": {
    "ExecuteTime": {
     "end_time": "2020-06-03T07:46:26.865392Z",
     "start_time": "2020-06-03T07:46:26.859539Z"
    }
   },
   "outputs": [],
   "source": [
    "from collections import Counter\n",
    "\n",
    "class Solution(object):\n",
    "    def permuteUnique(self, nums):\n",
    "        \"\"\"\n",
    "        :type nums: List[int]\n",
    "        :rtype: List[List[int]]\n",
    "        \"\"\"\n",
    "        freq = Counter(nums)\n",
    "        permutations = []\n",
    "        self.permute_helper(len(nums), [], freq, permutations)\n",
    "        return permutations\n",
    "\n",
    "    def permute_helper(self, to_add, partial, freq, permutations):\n",
    "        if to_add == 0:\n",
    "            permutations.append(partial)\n",
    "\n",
    "        for item in freq:\n",
    "            if freq[item] > 0:\n",
    "                freq[item] -= 1\n",
    "                self.permute_helper(to_add-1, partial + [item], freq, permutations)\n",
    "                freq[item] += 1"
   ]
  },
  {
   "cell_type": "code",
   "execution_count": 29,
   "metadata": {
    "ExecuteTime": {
     "end_time": "2020-06-03T07:50:24.826594Z",
     "start_time": "2020-06-03T07:50:24.821039Z"
    }
   },
   "outputs": [
    {
     "name": "stdout",
     "output_type": "stream",
     "text": [
      "3\n",
      "0\n"
     ]
    }
   ],
   "source": [
    "nums = [3,3,0,3]\n",
    "freq = Counter(nums)\n",
    "\n",
    "solution = Solution()\n",
    "result = solution.permuteUnique(nums)"
   ]
  }
 ],
 "metadata": {
  "kernelspec": {
   "display_name": "Python 3",
   "language": "python",
   "name": "python3"
  },
  "language_info": {
   "codemirror_mode": {
    "name": "ipython",
    "version": 3
   },
   "file_extension": ".py",
   "mimetype": "text/x-python",
   "name": "python",
   "nbconvert_exporter": "python",
   "pygments_lexer": "ipython3",
   "version": "3.6.5"
  },
  "toc": {
   "base_numbering": 1,
   "nav_menu": {},
   "number_sections": true,
   "sideBar": true,
   "skip_h1_title": false,
   "title_cell": "Table of Contents",
   "title_sidebar": "Contents",
   "toc_cell": false,
   "toc_position": {},
   "toc_section_display": true,
   "toc_window_display": false
  }
 },
 "nbformat": 4,
 "nbformat_minor": 2
}
