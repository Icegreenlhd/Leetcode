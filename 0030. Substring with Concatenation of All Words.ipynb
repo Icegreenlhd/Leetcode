{
 "cells": [
  {
   "cell_type": "markdown",
   "metadata": {},
   "source": [
    "You are given a string, s, and a list of words, words, that are all of the same length. Find all starting indices of substring(s) in s that is a concatenation of each word in words exactly once and without any intervening characters.\n",
    "\n",
    " \n",
    "\n",
    "Example 1:\n",
    "```\n",
    "Input:\n",
    "  s = \"barfoothefoobarman\",\n",
    "  words = [\"foo\",\"bar\"]\n",
    "Output: [0,9]\n",
    "Explanation: Substrings starting at index 0 and 9 are \"barfoo\" and \"foobar\" respectively.\n",
    "The output order does not matter, returning [9,0] is fine too.\n",
    "```\n",
    "Example 2:\n",
    "```\n",
    "Input:\n",
    "  s = \"wordgoodgoodgoodbestword\",\n",
    "  words = [\"word\",\"good\",\"best\",\"word\"]\n",
    "Output: []\n",
    "```"
   ]
  },
  {
   "cell_type": "code",
   "execution_count": null,
   "metadata": {},
   "outputs": [],
   "source": [
    "# my solution1, 滑动窗口\n",
    "class Solution(object):\n",
    "    def findSubstring(self, s, words):\n",
    "        \"\"\"\n",
    "        :type s: str\n",
    "        :type words: List[str]\n",
    "        :rtype: List[int]\n",
    "        \"\"\"\n",
    "        if not words:\n",
    "            return []\n",
    "        elif \"\" in words:\n",
    "            return list(range(len(s)+1))\n",
    "\n",
    "        length = len(words) * len(words[0])\n",
    "        result = []\n",
    "        index = 0\n",
    "\n",
    "        while len(s[index:]) >= length:\n",
    "            temp = words[:]\n",
    "            i = index\n",
    "            while s[i: i+len(words[0])] in temp:\n",
    "                temp.remove(s[i: i+len(words[0])])\n",
    "                i += len(words[0])\n",
    "            if not temp:\n",
    "                result.append(index)\n",
    "            index += 1\n",
    "            \n",
    "        return result"
   ]
  },
  {
   "cell_type": "code",
   "execution_count": null,
   "metadata": {},
   "outputs": [],
   "source": [
    "# my solution2, 滑动窗口2.0\n",
    "class Solution(object):\n",
    "    def findSubstring(self, s, words):\n",
    "        \"\"\"\n",
    "        :type s: str\n",
    "        :type words: List[str]\n",
    "        :rtype: List[int]\n",
    "        \"\"\"\n",
    "        if not words:\n",
    "            return []\n",
    "        elif \"\" in words:\n",
    "            return list(range(len(s)+1))\n",
    "\n",
    "        word_len = len(words[0])\n",
    "        result = []\n",
    "\n",
    "        for stripe in range(len(words[0])):\n",
    "            to_match = len(words)\n",
    "            i = stripe\n",
    "            temp = words[:]\n",
    "            while i + to_match*word_len <= len(s):\n",
    "                word = s[i: i+word_len]\n",
    "                \n",
    "                if word in temp:\n",
    "                    temp.remove(word)\n",
    "                    i += word_len\n",
    "                    to_match -= 1\n",
    "                    if not temp:\n",
    "                        result.append(i-len(words)*word_len)\n",
    "                    \n",
    "                elif to_match != temp:\n",
    "                    nb_matches = len(words) - to_match\n",
    "                    temp.append(s[i-nb_matches*word_len:i-(nb_matches-1)*word_len])\n",
    "                    to_match += 1\n",
    "                    \n",
    "                else:\n",
    "                    i += word_len\n",
    "\n",
    "        return result"
   ]
  },
  {
   "cell_type": "code",
   "execution_count": null,
   "metadata": {},
   "outputs": [],
   "source": [
    "_author_ = 'jake'\n",
    "_project_ = 'leetcode'\n",
    "\n",
    "# https://leetcode.com/problems/substring-with-concatenation-of-all-words/\n",
    "# You are given a string, s, and a list of words, words, that are all of the same length.\n",
    "# Find all starting indices of substring(s) in s that is a concatenation of each word in words exactly once\n",
    "# and without any intervening characters.\n",
    "\n",
    "# For each stripe, maintain a sliding window of matched words.\n",
    "# Time - O(n) where n = len(s).  word_len stripes, each of which we move the start or end of the matched window\n",
    "# forwards n / word_len times.\n",
    "# Space - O(len(words)*word_len) for dictionary\n",
    "\n",
    "from collections import Counter\n",
    "\n",
    "class Solution(object):\n",
    "    def findSubstring(self, s, words):\n",
    "        \"\"\"\n",
    "        :type s: str\n",
    "        :type words: List[str]\n",
    "        :rtype: List[int]\n",
    "        \"\"\"\n",
    "        if not words:\n",
    "            return []\n",
    "        elif \"\" in words:\n",
    "            return list(range(len(s)+1))\n",
    "        result = []\n",
    "        word_len = len(words[0])\n",
    "\n",
    "        for stripe in range(word_len):  # each stripe starts at a different position in s, modulo word_len\n",
    "\n",
    "            i = stripe                  # the next index in s that we want to match a word\n",
    "            to_match = len(words)       # number of words still to be matched\n",
    "            freq = Counter(words)       # frequency of each words to be matched\n",
    "\n",
    "            while i + to_match*word_len <= len(s):  # remainder of s is long enough to hold remaining unmatched words\n",
    "\n",
    "                word = s[i:i+word_len]   # next part of s attempting to be matched\n",
    "                if word in freq:         # match, decrement freq count\n",
    "                    freq[word] -= 1\n",
    "                    if freq[word] == 0:\n",
    "                        del freq[word]\n",
    "                    to_match -= 1\n",
    "                    i += word_len\n",
    "                    if to_match == 0:               # all matched\n",
    "                        result.append(i - word_len*len(words))\n",
    "\n",
    "                elif to_match != len(words):        # some words have been matched\n",
    "                    nb_matches = len(words) - to_match\n",
    "                    first_word = s[i - nb_matches*word_len:i - (nb_matches-1)*word_len]\n",
    "                    freq.setdefault(first_word, 0)  # put first word matched back in dictionary\n",
    "                    freq[first_word] += 1\n",
    "                    to_match += 1\n",
    "\n",
    "                else:                               # no words matched\n",
    "                    i += word_len\n",
    "\n",
    "        return result"
   ]
  },
  {
   "cell_type": "code",
   "execution_count": 1,
   "metadata": {
    "ExecuteTime": {
     "end_time": "2020-05-08T04:12:51.268901Z",
     "start_time": "2020-05-08T04:12:51.262317Z"
    }
   },
   "outputs": [
    {
     "data": {
      "text/plain": [
       "'word'"
      ]
     },
     "execution_count": 1,
     "metadata": {},
     "output_type": "execute_result"
    }
   ],
   "source": [
    "\"wordgoodgoodgoodbestword\"\n",
    "[\"word\",\"good\",\"best\",\"word\"]\n",
    "\n",
    "\"barfoothefoobarman\"\n",
    "[\"foo\",\"bar\"]\n",
    "\n",
    "\"\"\n",
    "[\"foo\"]\n",
    "\n",
    "\"\"\n",
    "[\"\"]"
   ]
  },
  {
   "cell_type": "code",
   "execution_count": 12,
   "metadata": {
    "ExecuteTime": {
     "end_time": "2020-05-08T04:32:04.586105Z",
     "start_time": "2020-05-08T04:32:04.580084Z"
    }
   },
   "outputs": [
    {
     "data": {
      "text/plain": [
       "[('dogs', 8), ('cats', 4)]"
      ]
     },
     "execution_count": 12,
     "metadata": {},
     "output_type": "execute_result"
    }
   ],
   "source": [
    "from collections import Counter\n",
    "\n",
    "c = Counter(cats=4, dogs=8)\n",
    "list(c.elements())\n",
    "c.most_common(2)"
   ]
  }
 ],
 "metadata": {
  "jupytext": {
   "formats": "ipynb,py"
  },
  "kernelspec": {
   "display_name": "Python 3",
   "language": "python",
   "name": "python3"
  },
  "language_info": {
   "codemirror_mode": {
    "name": "ipython",
    "version": 3
   },
   "file_extension": ".py",
   "mimetype": "text/x-python",
   "name": "python",
   "nbconvert_exporter": "python",
   "pygments_lexer": "ipython3",
   "version": "3.6.5"
  },
  "toc": {
   "base_numbering": 1,
   "nav_menu": {},
   "number_sections": true,
   "sideBar": true,
   "skip_h1_title": false,
   "title_cell": "Table of Contents",
   "title_sidebar": "Contents",
   "toc_cell": false,
   "toc_position": {},
   "toc_section_display": true,
   "toc_window_display": false
  }
 },
 "nbformat": 4,
 "nbformat_minor": 2
}
