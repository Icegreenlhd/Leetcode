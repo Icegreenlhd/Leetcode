{
 "cells": [
  {
   "cell_type": "markdown",
   "metadata": {},
   "source": [
    "Given a collection of candidate numbers (candidates) and a target number (target), find all unique combinations in candidates where the candidate numbers sums to target.\n",
    "\n",
    "Each number in candidates may only be used once in the combination.\n",
    "\n",
    "Note:\n",
    "\n",
    "- All numbers (including target) will be positive integers.\n",
    "- The solution set must not contain duplicate combinations.\n",
    "\n",
    "Example 1:\n",
    "```\n",
    "Input: candidates = [10,1,2,7,6,1,5], target = 8,\n",
    "A solution set is:\n",
    "[\n",
    "  [1, 7],\n",
    "  [1, 2, 5],\n",
    "  [2, 6],\n",
    "  [1, 1, 6]\n",
    "]\n",
    "```\n",
    "Example 2:\n",
    "```\n",
    "Input: candidates = [2,5,2,1,2], target = 5,\n",
    "A solution set is:\n",
    "[\n",
    "  [1,2,2],\n",
    "  [5]\n",
    "]\n",
    "```"
   ]
  },
  {
   "cell_type": "markdown",
   "metadata": {
    "ExecuteTime": {
     "end_time": "2020-05-15T05:52:59.510280Z",
     "start_time": "2020-05-15T05:52:59.508641Z"
    }
   },
   "source": [
    "# my solution 1, backtrack method\n",
    "use the collections.Counter to contain the number of the candidates"
   ]
  },
  {
   "cell_type": "code",
   "execution_count": 36,
   "metadata": {
    "ExecuteTime": {
     "end_time": "2020-05-15T06:36:48.672327Z",
     "start_time": "2020-05-15T06:36:48.668210Z"
    },
    "collapsed": true
   },
   "outputs": [],
   "source": [
    "from collections import Counter\n",
    "\n",
    "\n",
    "class Solution(object):\n",
    "    def combinationSum2(self, candidates, target):\n",
    "        \"\"\"\n",
    "        :type candidates: List[int]\n",
    "        :type target: int\n",
    "        :rtype: List[List[int]]\n",
    "        \"\"\"\n",
    "        candidates.sort()\n",
    "        candidates = list(Counter(candidates).items())\n",
    "        res = []\n",
    "        self.backtrack(candidates, target, 0, [], res)\n",
    "        return res\n",
    "\n",
    "    def backtrack(self, candidates, target, i, path, res):\n",
    "        if target == 0:\n",
    "            res.append(path[:])\n",
    "            return\n",
    "        else:\n",
    "            for j in range(i, len(candidates)):\n",
    "                left_num = target\n",
    "                for _ in range(candidates[j][1]):\n",
    "                    path.append(candidates[j][0])\n",
    "                    left_num -= candidates[j][0]\n",
    "                    if left_num < 0:\n",
    "                        break\n",
    "                    self.backtrack(candidates, left_num, j+1, path, res)\n",
    "                for __ in range(_+1):\n",
    "                    path.pop()"
   ]
  },
  {
   "cell_type": "code",
   "execution_count": 37,
   "metadata": {
    "ExecuteTime": {
     "end_time": "2020-05-15T06:36:50.222471Z",
     "start_time": "2020-05-15T06:36:50.212406Z"
    },
    "collapsed": true
   },
   "outputs": [
    {
     "data": {
      "text/plain": [
       "[[1, 2, 2], [5]]"
      ]
     },
     "execution_count": 37,
     "metadata": {},
     "output_type": "execute_result"
    }
   ],
   "source": [
    "candidates = [1,2,2,5]\n",
    "target = 5\n",
    "solution = Solution()\n",
    "solution.combinationSum2(candidates,target)"
   ]
  },
  {
   "cell_type": "markdown",
   "metadata": {},
   "source": [
    "# my solution2, make up my fault\n",
    "\n",
    "backtrack method without collections"
   ]
  },
  {
   "cell_type": "code",
   "execution_count": 44,
   "metadata": {
    "ExecuteTime": {
     "end_time": "2020-05-15T06:52:55.060592Z",
     "start_time": "2020-05-15T06:52:55.056418Z"
    }
   },
   "outputs": [],
   "source": [
    "from collections import Counter\n",
    "\n",
    "\n",
    "class Solution(object):\n",
    "    def combinationSum2(self, candidates, target):\n",
    "        \"\"\"\n",
    "        :type candidates: List[int]\n",
    "        :type target: int\n",
    "        :rtype: List[List[int]]\n",
    "        \"\"\"\n",
    "        candidates.sort()\n",
    "        res = []\n",
    "        self.backtrack(candidates, target, 0, [], res)\n",
    "        return res\n",
    "\n",
    "    def backtrack(self, candidates, target, i, path, res):\n",
    "        if target == 0:\n",
    "            res.append(path[:])\n",
    "            return\n",
    "        else:\n",
    "            for j in range(i, len(candidates)):\n",
    "                left_num = target - candidates[j]\n",
    "                if left_num < 0:\n",
    "                        break\n",
    "                if j > i and candidates[j] == candidates[j-1]:\n",
    "                    continue\n",
    "                path.append(candidates[j])  \n",
    "                self.backtrack(candidates, left_num, j+1, path, res)\n",
    "                path.pop()"
   ]
  },
  {
   "cell_type": "code",
   "execution_count": 45,
   "metadata": {
    "ExecuteTime": {
     "end_time": "2020-05-15T06:52:56.541566Z",
     "start_time": "2020-05-15T06:52:56.530054Z"
    }
   },
   "outputs": [
    {
     "data": {
      "text/plain": [
       "[[1, 2, 2], [5]]"
      ]
     },
     "execution_count": 45,
     "metadata": {},
     "output_type": "execute_result"
    }
   ],
   "source": [
    "candidates = [1,2,2,5]\n",
    "target = 5\n",
    "solution = Solution()\n",
    "solution.combinationSum2(candidates,target)"
   ]
  },
  {
   "cell_type": "markdown",
   "metadata": {},
   "source": [
    "# Jake's Solution\n",
    "Count the frequency of each number in candidates.  \n",
    "\n",
    "For each number subtract all possible numbers of copies up to\n",
    "the count and without exceeding target and recurse for the next number.\n",
    "\n",
    "Alternative iterative version below.\n",
    "- Time - O((f+1)^n) where f is the max frequency of any number and n is the number of distinct numbers"
   ]
  },
  {
   "cell_type": "code",
   "execution_count": null,
   "metadata": {
    "collapsed": true
   },
   "outputs": [],
   "source": [
    "from collections import Counter\n",
    "\n",
    "class Solution(object):\n",
    "    def combinationSum2(self, candidates, target):\n",
    "        \"\"\"\n",
    "        :type candidates: List[int]\n",
    "        :type target: int\n",
    "        :rtype: List[List[int]]\n",
    "        \"\"\"\n",
    "        results = []\n",
    "        freq = list(Counter(candidates).items())\n",
    "        self.combos(freq, 0, target, [], results)\n",
    "        return results\n",
    "\n",
    "    def combos(self, freq, next, target, partial, results):\n",
    "        if target == 0:\n",
    "            results.append(partial)\n",
    "            return\n",
    "        if next == len(freq):\n",
    "            return\n",
    "\n",
    "        for i in range(freq[next][1]+1):\n",
    "            if i * freq[next][0] > target:\n",
    "                break\n",
    "            self.combos(freq, next+1, target-i*freq[next][0], partial + [freq[next][0]]*i, results)\n",
    "\n",
    "\n",
    "# Iterative version of same procedure.\n",
    "class Solution_Iterative(object):\n",
    "    def combinationSum2(self, candidates, target):\n",
    "        results = []\n",
    "        partials = [[]]\n",
    "        freq = list(Counter(candidates).items())\n",
    "\n",
    "        for candidate, count in freq:\n",
    "\n",
    "            new_partials = []\n",
    "            for partial in partials:\n",
    "\n",
    "                partial_sum = sum(partial)\n",
    "                for i in range(count + 1):\n",
    "                    if partial_sum + candidate*i < target:\n",
    "                        new_partials.append(partial + [candidate]*i)\n",
    "                    elif partial_sum + candidate*i == target:\n",
    "                        results.append(partial + [candidate]*i)\n",
    "                    if partial_sum + candidate*i >= target:\n",
    "                        break\n",
    "\n",
    "            partials = new_partials\n",
    "\n",
    "        return results"
   ]
  },
  {
   "cell_type": "markdown",
   "metadata": {
    "ExecuteTime": {
     "end_time": "2020-05-15T06:44:27.643361Z",
     "start_time": "2020-05-15T06:44:27.640305Z"
    }
   },
   "source": [
    "# azl397985856 / leetcode \n",
    "## 思路\n",
    "\n",
    "这道题目是求集合，并不是求极值，因此**动态规划**不是特别切合，因此我们需要考虑别的方法。\n",
    "\n",
    "这种题目其实有一个通用的解法，就是**回溯法**。 网上也有大神给出了这种回溯法解题的 通用写法，这里的所有的解法使用通用方法解答。 除了这道题目还有很多其他题目可以用这种通用解法，具体的题目见后方相关题目部分。\n",
    "\n",
    "我们先来看下通用解法的解题思路，我画了一张图：\n",
    "<img src='https://s1.ax1x.com/2020/05/15/YrIalR.png' width=70%>\n",
    "\n",
    "## 与39题的区别是不能重用元素，而元素可能有重复；\n",
    "        不能重用好解决，回溯的index往下一个就行；\n",
    "        元素可能有重复，就让结果的去重麻烦一些；"
   ]
  },
  {
   "cell_type": "code",
   "execution_count": 41,
   "metadata": {
    "ExecuteTime": {
     "end_time": "2020-05-15T06:47:23.068214Z",
     "start_time": "2020-05-15T06:47:23.064004Z"
    }
   },
   "outputs": [],
   "source": [
    "class Solution:\n",
    "    def combinationSum2(self, candidates, target):\n",
    "        \"\"\"\n",
    "        与39题的区别是不能重用元素，而元素可能有重复；\n",
    "        不能重用好解决，回溯的index往下一个就行；\n",
    "        元素可能有重复，就让结果的去重麻烦一些；\n",
    "        \"\"\"\n",
    "        size = len(candidates)\n",
    "        if size == 0:\n",
    "            return []\n",
    "        \n",
    "        # 还是先排序，主要是方便去重\n",
    "        candidates.sort()\n",
    "        \n",
    "        path = []\n",
    "        res = []\n",
    "        self._find_path(candidates, path, res, target, 0, size)\n",
    "        \n",
    "        return res\n",
    "    \n",
    "    def _find_path(self, candidates, path, res, target, begin, size):\n",
    "        if target == 0:\n",
    "            res.append(path[:])\n",
    "        else:\n",
    "            for i in range(begin, size):\n",
    "                left_num = target - candidates[i]\n",
    "                if left_num < 0:\n",
    "                    break\n",
    "                # 如果存在重复的元素，前一个元素已经遍历了后一个元素与之后元素组合的所有可能\n",
    "                if i > begin and candidates[i] == candidates[i-1]:\n",
    "                    continue\n",
    "                path.append(candidates[i])\n",
    "                # 开始的 index 往后移了一格\n",
    "                self._find_path(candidates, path, res, left_num, i+1, size)\n",
    "                path.pop()"
   ]
  },
  {
   "cell_type": "code",
   "execution_count": 40,
   "metadata": {
    "ExecuteTime": {
     "end_time": "2020-05-15T06:47:11.339248Z",
     "start_time": "2020-05-15T06:47:11.333407Z"
    }
   },
   "outputs": [
    {
     "name": "stdout",
     "output_type": "stream",
     "text": [
      "Counter({2: 2, 1: 1, 5: 1})\n",
      "3\n",
      "dict_keys([1, 2, 5])\n"
     ]
    },
    {
     "data": {
      "text/plain": [
       "dict_items([(1, 1), (2, 2), (5, 1)])"
      ]
     },
     "execution_count": 40,
     "metadata": {},
     "output_type": "execute_result"
    }
   ],
   "source": [
    "from collections import Counter\n",
    "c = Counter(candidates)\n",
    "print(c)\n",
    "print(len(c))\n",
    "print(c.keys())\n",
    "c.items()"
   ]
  }
 ],
 "metadata": {
  "jupytext": {
   "formats": "ipynb,py"
  },
  "kernelspec": {
   "display_name": "Python 3",
   "language": "python",
   "name": "python3"
  },
  "language_info": {
   "codemirror_mode": {
    "name": "ipython",
    "version": 3
   },
   "file_extension": ".py",
   "mimetype": "text/x-python",
   "name": "python",
   "nbconvert_exporter": "python",
   "pygments_lexer": "ipython3",
   "version": "3.6.5"
  },
  "toc": {
   "base_numbering": 1,
   "nav_menu": {},
   "number_sections": true,
   "sideBar": true,
   "skip_h1_title": false,
   "title_cell": "Table of Contents",
   "title_sidebar": "Contents",
   "toc_cell": false,
   "toc_position": {},
   "toc_section_display": true,
   "toc_window_display": true
  }
 },
 "nbformat": 4,
 "nbformat_minor": 2
}
