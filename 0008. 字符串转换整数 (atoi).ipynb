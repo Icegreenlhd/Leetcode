{
 "cells": [
  {
   "cell_type": "markdown",
   "metadata": {},
   "source": [
    "请你来实现一个 atoi 函数，使其能将字符串转换成整数。\n",
    "\n",
    "首先，该函数会根据需要丢弃无用的开头空格字符，直到寻找到第一个非空格的字符为止。接下来的转化规则如下：\n",
    "\n",
    "如果第一个非空字符为正或者负号时，则将该符号与之后面尽可能多的连续数字字符组合起来，形成一个有符号整数。\n",
    "假如第一个非空字符是数字，则直接将其与之后连续的数字字符组合起来，形成一个整数。\n",
    "该字符串在有效的整数部分之后也可能会存在多余的字符，那么这些字符可以被忽略，它们对函数不应该造成影响。\n",
    "注意：假如该字符串中的第一个非空格字符不是一个有效整数字符、字符串为空或字符串仅包含空白字符时，则你的函数不需要进行转换，即无法进行有效转换。\n",
    "\n",
    "在任何情况下，若函数不能进行有效的转换时，请返回 0 。\n",
    "\n",
    "提示：\n",
    "\n",
    "本题中的空白字符只包括空格字符 ' ' 。\n",
    "假设我们的环境只能存储 32 位大小的有符号整数，那么其数值范围为 $[−2^{31},  2^{31} − 1]$。如果数值超过这个范围，请返回  INT_MAX $(2^{31} − 1)$ 或 INT_MIN $(−2^{31})$ 。\n",
    "\n",
    "来源：力扣（LeetCode）\n",
    "链接：https://leetcode-cn.com/problems/string-to-integer-atoi\n",
    "著作权归领扣网络所有。商业转载请联系官方授权，非商业转载请注明出处。"
   ]
  },
  {
   "cell_type": "code",
   "execution_count": 29,
   "metadata": {},
   "outputs": [],
   "source": [
    "# my solution1\n",
    "class Solution(object):\n",
    "    def myAtoi(self, s):\n",
    "        \"\"\"\n",
    "        :type s: str\n",
    "        :rtype: int\n",
    "        \"\"\"\n",
    "        result = 0\n",
    "        negative = 1\n",
    "        has_content = False\n",
    "        INT_MIN = - 2 ** 31\n",
    "        INT_MAX = 2 ** 31 -1\n",
    "        \n",
    "        for c in s:\n",
    "            if has_content and not c.isdigit():\n",
    "                break\n",
    "            if c == ' ':\n",
    "                continue\n",
    "            if c.isdigit():\n",
    "                result = result *10 + int(c)\n",
    "            elif c == '-':\n",
    "                negative = -1\n",
    "            elif c != '+':\n",
    "                break\n",
    "            has_content = True\n",
    "        if result > INT_MAX:\n",
    "            return INT_MAX if negative == 1 else INT_MIN\n",
    "        return result * negative"
   ]
  },
  {
   "cell_type": "code",
   "execution_count": 34,
   "metadata": {},
   "outputs": [],
   "source": [
    "# my solution 2, change after watching Jake's solution\n",
    "class Solution(object):\n",
    "    def myAtoi(self, s):\n",
    "        \"\"\"\n",
    "        :type s: str\n",
    "        :rtype: int\n",
    "        \"\"\"\n",
    "        s = s.strip()\n",
    "        \n",
    "        result = 0\n",
    "        negative = 1\n",
    "        has_content = False\n",
    "        INT_MIN = - 2 ** 31\n",
    "        INT_MAX = 2 ** 31 - 1\n",
    "\n",
    "        if s and s[0] == '-':\n",
    "            negative = -1\n",
    "        if s and (s[0] == '+' or s[0] == '-'):\n",
    "            s = s[1:]\n",
    "        if not s:\n",
    "            return 0\n",
    "\n",
    "        for c in s:\n",
    "            if not c.isdigit():\n",
    "                break\n",
    "            result = result * 10 + int(c)\n",
    "\n",
    "        return max(min(result * negative, INT_MAX), INT_MIN)"
   ]
  },
  {
   "cell_type": "code",
   "execution_count": 54,
   "metadata": {},
   "outputs": [],
   "source": [
    "# my solution 3, slice method, change after watching Jake's solution\n",
    "class Solution(object):\n",
    "    def myAtoi(self, s):\n",
    "        \"\"\"\n",
    "        :type s: str\n",
    "        :rtype: int\n",
    "        \"\"\"\n",
    "        s = s.strip()\n",
    "\n",
    "        result = 0\n",
    "        negative = 1\n",
    "        has_content = False\n",
    "        INT_MIN = - 2 ** 31\n",
    "        INT_MAX = 2 ** 31 - 1\n",
    "\n",
    "        if s and s[0] == '-':\n",
    "            negative = -1\n",
    "        if s and (s[0] == '+' or s[0] == '-'):\n",
    "            s = s[1:]\n",
    "        if not s:\n",
    "            return 0\n",
    "\n",
    "        i = 0\n",
    "        for i, c in enumerate(s):\n",
    "            if not c.isdigit():\n",
    "                i -= 1\n",
    "                break\n",
    "        result = int(s[:i+1]) if i+1 else 0\n",
    "\n",
    "        return max(min(result * negative, INT_MAX), INT_MIN)"
   ]
  },
  {
   "cell_type": "code",
   "execution_count": 25,
   "metadata": {},
   "outputs": [],
   "source": [
    "# Jake solution\n",
    "class Solution(object):\n",
    "    def myAtoi(self, str):\n",
    "        \"\"\"\n",
    "        :type str: str\n",
    "        :rtype: int\n",
    "        \"\"\"\n",
    "        str = str.strip()       # remove padding spaces\n",
    "\n",
    "        negative = False        # remove leading + or -\n",
    "        if str and str[0] == '-':\n",
    "            negative = True\n",
    "        if str and (str[0] == '+' or str[0] == '-'):\n",
    "            str = str[1:]\n",
    "        if not str:\n",
    "            return 0\n",
    "\n",
    "        digits = {i for i in '0123456789'}\n",
    "        result = 0\n",
    "        for c in str:           # record integer upto first non-digit\n",
    "            if c not in digits:\n",
    "                break\n",
    "            result = result * 10 + int(c)\n",
    "\n",
    "        if negative:\n",
    "            result = -result\n",
    "\n",
    "        result = max(min(result, 2**31 - 1), -2**31)    # keep within 4 byte signed integer bounds\n",
    "        return result"
   ]
  },
  {
   "cell_type": "code",
   "execution_count": 4,
   "metadata": {},
   "outputs": [
    {
     "data": {
      "text/plain": [
       "-2147483648"
      ]
     },
     "execution_count": 4,
     "metadata": {},
     "output_type": "execute_result"
    }
   ],
   "source": [
    "'2'.isdigit()\n",
    "-2**31"
   ]
  },
  {
   "cell_type": "code",
   "execution_count": 46,
   "metadata": {},
   "outputs": [
    {
     "data": {
      "text/plain": [
       "-42"
      ]
     },
     "execution_count": 46,
     "metadata": {},
     "output_type": "execute_result"
    }
   ],
   "source": [
    "# test\n",
    "s = '    -42'\n",
    "solution = Solution()\n",
    "solution.myAtoi(s)"
   ]
  },
  {
   "cell_type": "code",
   "execution_count": 55,
   "metadata": {},
   "outputs": [
    {
     "data": {
      "text/plain": [
       "0"
      ]
     },
     "execution_count": 55,
     "metadata": {},
     "output_type": "execute_result"
    }
   ],
   "source": [
    "# test\n",
    "s = 'word'\n",
    "solution = Solution()\n",
    "solution.myAtoi(s)"
   ]
  },
  {
   "cell_type": "code",
   "execution_count": 56,
   "metadata": {},
   "outputs": [
    {
     "data": {
      "text/plain": [
       "21154"
      ]
     },
     "execution_count": 56,
     "metadata": {},
     "output_type": "execute_result"
    }
   ],
   "source": [
    "# test\n",
    "s = '21154 akjda'\n",
    "solution = Solution()\n",
    "solution.myAtoi(s)"
   ]
  },
  {
   "cell_type": "code",
   "execution_count": 42,
   "metadata": {},
   "outputs": [
    {
     "data": {
      "text/plain": [
       "-2147483648"
      ]
     },
     "execution_count": 42,
     "metadata": {},
     "output_type": "execute_result"
    }
   ],
   "source": [
    "# test\n",
    "s = '-2222222222'\n",
    "solution = Solution()\n",
    "solution.myAtoi(s)"
   ]
  },
  {
   "cell_type": "code",
   "execution_count": 23,
   "metadata": {},
   "outputs": [
    {
     "data": {
      "text/plain": [
       "0"
      ]
     },
     "execution_count": 23,
     "metadata": {},
     "output_type": "execute_result"
    }
   ],
   "source": [
    "# test\n",
    "s = '+-1000'\n",
    "solution = Solution()\n",
    "solution.myAtoi(s)"
   ]
  }
 ],
 "metadata": {
  "jupytext": {
   "formats": "ipynb,py"
  },
  "kernelspec": {
   "display_name": "Python 3",
   "language": "python",
   "name": "python3"
  },
  "language_info": {
   "codemirror_mode": {
    "name": "ipython",
    "version": 3
   },
   "file_extension": ".py",
   "mimetype": "text/x-python",
   "name": "python",
   "nbconvert_exporter": "python",
   "pygments_lexer": "ipython3",
   "version": "3.7.3"
  },
  "toc": {
   "base_numbering": 1,
   "nav_menu": {},
   "number_sections": true,
   "sideBar": true,
   "skip_h1_title": false,
   "title_cell": "Table of Contents",
   "title_sidebar": "Contents",
   "toc_cell": false,
   "toc_position": {},
   "toc_section_display": true,
   "toc_window_display": false
  },
  "varInspector": {
   "cols": {
    "lenName": 16,
    "lenType": 16,
    "lenVar": 40
   },
   "kernels_config": {
    "python": {
     "delete_cmd_postfix": "",
     "delete_cmd_prefix": "del ",
     "library": "var_list.py",
     "varRefreshCmd": "print(var_dic_list())"
    },
    "r": {
     "delete_cmd_postfix": ") ",
     "delete_cmd_prefix": "rm(",
     "library": "var_list.r",
     "varRefreshCmd": "cat(var_dic_list()) "
    }
   },
   "types_to_exclude": [
    "module",
    "function",
    "builtin_function_or_method",
    "instance",
    "_Feature"
   ],
   "window_display": false
  }
 },
 "nbformat": 4,
 "nbformat_minor": 2
}
