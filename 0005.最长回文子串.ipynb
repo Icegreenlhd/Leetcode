{
 "cells": [
  {
   "cell_type": "markdown",
   "metadata": {},
   "source": [
    "给定一个字符串 s，找到 s 中最长的回文子串。你可以假设 s 的最大长度为 1000。\n",
    "\n",
    "示例 1：\n",
    "\n",
    "输入: \"babad\"\n",
    "输出: \"bab\"\n",
    "注意: \"aba\" 也是一个有效答案。\n",
    "示例 2：\n",
    "\n",
    "输入: \"cbbd\"\n",
    "输出: \"bb\"\n",
    "\n",
    "来源：力扣（LeetCode）\n",
    "链接：https://leetcode-cn.com/problems/longest-palindromic-substring\n",
    "著作权归领扣网络所有。商业转载请联系官方授权，非商业转载请注明出处。"
   ]
  },
  {
   "cell_type": "code",
   "execution_count": 1,
   "metadata": {
    "ExecuteTime": {
     "end_time": "2020-04-11T03:10:09.032339Z",
     "start_time": "2020-04-11T03:10:09.024328Z"
    }
   },
   "outputs": [],
   "source": [
    "# 我的结果一，遇到错误：‘ababababababa'无法识别\n",
    "class Solution(object):\n",
    "    def longestPalindrome(self, s):\n",
    "        \"\"\"\n",
    "        :type s: str\n",
    "        :rtype: str\n",
    "        \"\"\"\n",
    "        l1 = []\n",
    "        l2 = []\n",
    "        palin1 = []\n",
    "        palin2 = []\n",
    "        max_palin = [s[0]]\n",
    "        for i, c in enumerate(s):\n",
    "#             print(c)\n",
    "#             print(i+1, \"\".join(max_palin))\n",
    "#             print(\"\".join(palin1))\n",
    "            print(i+1, \"\".join(palin2))\n",
    "            if palin1:\n",
    "                if len(l1) == 0 or l1[-1] != c:\n",
    "                    max_palin = palin1 if len(palin1) > len(\n",
    "                        max_palin) else max_palin\n",
    "                    l1 += palin1\n",
    "                    palin1 = []\n",
    "                else:\n",
    "                    palin1.append(l1.pop())\n",
    "                    palin1.insert(0, c)\n",
    "            if not palin1:\n",
    "                if len(l1) > 0 and l1[-1] == c:\n",
    "                    palin1.append(l1.pop())\n",
    "                    palin1.insert(0, c)\n",
    "                else:\n",
    "                    l1.append(c)\n",
    "            if palin2:\n",
    "                if len(l2) == 0 or l2[-1] != c:\n",
    "                    max_palin = palin2 if len(palin2) > len(\n",
    "                        max_palin) else max_palin\n",
    "                    l2 += palin2\n",
    "                    palin2 = []\n",
    "                else:\n",
    "                    palin2.append(l2.pop())\n",
    "                    palin2.insert(0, c)\n",
    "            if not palin2:\n",
    "                if len(l2) > 1 and l2[-2] == c:\n",
    "                    palin2.append(l2.pop())\n",
    "                    palin2.append(l2.pop())\n",
    "                    palin2.insert(0, c)\n",
    "                else:\n",
    "                    l2.append(c)\n",
    "        max_palin = palin1 if len(palin1) > len(max_palin) else max_palin\n",
    "        max_palin = palin2 if len(palin2) > len(max_palin) else max_palin\n",
    "        return \"\".join(max_palin)"
   ]
  },
  {
   "cell_type": "code",
   "execution_count": 16,
   "metadata": {
    "ExecuteTime": {
     "end_time": "2020-04-11T07:44:33.784905Z",
     "start_time": "2020-04-11T07:44:33.778905Z"
    }
   },
   "outputs": [],
   "source": [
    "# my solution 2\n",
    "class Solution(object):\n",
    "    def longestPalindrome(self, s):\n",
    "        \"\"\"\n",
    "        :type s: str\n",
    "        :rtype: str\n",
    "        \"\"\"\n",
    "        def get_palin(start, end):\n",
    "            if start <= 0 or end >= len(s):\n",
    "                return s[start: end]\n",
    "            if s[start - 1] == s[end]:\n",
    "                return get_palin(start - 1, end+1)\n",
    "            else:\n",
    "                return s[start: end]\n",
    "        max_palin = ''\n",
    "        for i, c in enumerate(s):\n",
    "            odd = get_palin(i, i+1)\n",
    "            max_palin = odd if len(odd) > len(max_palin) else max_palin\n",
    "            if i >= 1 and s[i-1] == c:\n",
    "                even = get_palin(i-1, i+1)\n",
    "                max_palin = even if len(even) > len(max_palin) else max_palin\n",
    "        return max_palin"
   ]
  },
  {
   "cell_type": "code",
   "execution_count": 27,
   "metadata": {
    "ExecuteTime": {
     "end_time": "2020-04-11T08:16:55.947953Z",
     "start_time": "2020-04-11T08:16:55.943719Z"
    }
   },
   "outputs": [],
   "source": [
    "# Jake solution\n",
    "class Solution(object):\n",
    "    def longestPalindrome(self, s):\n",
    "        \"\"\"\n",
    "        :type s: str\n",
    "        :rtype: str\n",
    "        \"\"\"\n",
    "        longest = \"\"\n",
    "\n",
    "        # create list of 2n-1 possible centres, each letter and between each pair\n",
    "        # even indices represent letters, odd represent between letters\n",
    "        # start with middle index that potentially creates longest palindrome\n",
    "        centres = [len(s) - 1]\n",
    "        for diff in range(1, len(s)):  # build list of indices from long to short\n",
    "            centres.append(centres[0] + diff)\n",
    "            centres.append(centres[0] - diff)\n",
    "        print(centres)\n",
    "\n",
    "        for centre in centres:\n",
    "\n",
    "            if (min(centre + 1, 2 * len(s) - 1 - centre) <= len(longest)):\n",
    "                break  # return if cannot make a longer palindrome\n",
    "\n",
    "            if centre % 2 == 0:\n",
    "                left, right = (centre // 2) - 1, (centre // 2) + 1\n",
    "            else:\n",
    "                left, right = centre // 2, (centre // 2) + 1\n",
    "\n",
    "            while left >= 0 and right < len(s) and s[left] == s[right]:\n",
    "                left -= 1\n",
    "                right += 1\n",
    "            # left and right are now beyond the ends of the substring\n",
    "\n",
    "            if right - left - 1 > len(longest):\n",
    "                longest = s[left + 1:right]\n",
    "\n",
    "        return longest"
   ]
  },
  {
   "cell_type": "code",
   "execution_count": 28,
   "metadata": {
    "ExecuteTime": {
     "end_time": "2020-04-11T08:21:06.327296Z",
     "start_time": "2020-04-11T08:21:06.323149Z"
    }
   },
   "outputs": [],
   "source": [
    "# Jake solution\n",
    "class Solution(object):\n",
    "    def longestPalindrome(self, s):\n",
    "        \"\"\"\n",
    "        :type s: str\n",
    "        :rtype: str\n",
    "        \"\"\"\n",
    "        longest = \"\"\n",
    "\n",
    "        def get_palin(start, end):\n",
    "            if start < 0 or end >= len(s):\n",
    "                return s[start+1: end]\n",
    "            if s[start] == s[end]:\n",
    "                return get_palin(start - 1, end+1)\n",
    "            else:\n",
    "                return s[start+1: end]\n",
    "\n",
    "        # create list of 2n-1 possible centres, each letter and between each pair\n",
    "        # even indices represent letters, odd represent between letters\n",
    "        # start with middle index that potentially creates longest palindrome\n",
    "        centres = [len(s) - 1]\n",
    "        for diff in range(1, len(s)):  # build list of indices from long to short\n",
    "            centres.append(centres[0] + diff)\n",
    "            centres.append(centres[0] - diff)\n",
    "#         print(centres)\n",
    "\n",
    "        for centre in centres:\n",
    "\n",
    "            if (min(centre + 1, 2 * len(s) - 1 - centre) <= len(longest)):\n",
    "                break  # return if cannot make a longer palindrome\n",
    "\n",
    "            if centre % 2 == 0:\n",
    "                left, right = (centre // 2) - 1, (centre // 2) + 1\n",
    "            else:\n",
    "                left, right = centre // 2, (centre // 2) + 1\n",
    "\n",
    "            palin = get_palin(left, right)\n",
    "            longest = palin if len(palin) > len(longest) else longest\n",
    "        return longest"
   ]
  },
  {
   "cell_type": "code",
   "execution_count": 9,
   "metadata": {
    "ExecuteTime": {
     "end_time": "2020-04-10T16:13:59.005181Z",
     "start_time": "2020-04-10T16:13:58.993151Z"
    }
   },
   "outputs": [
    {
     "data": {
      "text/plain": [
       "[1, 'a', 'a']"
      ]
     },
     "execution_count": 9,
     "metadata": {},
     "output_type": "execute_result"
    }
   ],
   "source": [
    "l = ['a', 'a']\n",
    "l[-1]\n",
    "# l.pop()\n",
    "l.insert(0, 1)\n",
    "l[-1]\n",
    "l"
   ]
  },
  {
   "cell_type": "code",
   "execution_count": 6,
   "metadata": {
    "ExecuteTime": {
     "end_time": "2020-04-10T16:12:33.735351Z",
     "start_time": "2020-04-10T16:12:33.724950Z"
    }
   },
   "outputs": [
    {
     "data": {
      "text/plain": [
       "'aa'"
      ]
     },
     "execution_count": 6,
     "metadata": {},
     "output_type": "execute_result"
    }
   ],
   "source": [
    "l = ['a', 'a']\n",
    "''.join(l)"
   ]
  },
  {
   "cell_type": "code",
   "execution_count": 29,
   "metadata": {
    "ExecuteTime": {
     "end_time": "2020-04-11T08:21:09.179476Z",
     "start_time": "2020-04-11T08:21:09.175971Z"
    }
   },
   "outputs": [
    {
     "name": "stdout",
     "output_type": "stream",
     "text": [
      "[4, 5, 3, 6, 2, 7, 1, 8, 0]\n"
     ]
    },
    {
     "data": {
      "text/plain": [
       "'aaaaa'"
      ]
     },
     "execution_count": 29,
     "metadata": {},
     "output_type": "execute_result"
    }
   ],
   "source": [
    "s = 'aaaaa'\n",
    "solution = Solution()\n",
    "solution.longestPalindrome(s)"
   ]
  },
  {
   "cell_type": "code",
   "execution_count": 26,
   "metadata": {
    "ExecuteTime": {
     "end_time": "2020-04-11T07:51:26.094391Z",
     "start_time": "2020-04-11T07:51:26.089008Z"
    },
    "scrolled": true
   },
   "outputs": [
    {
     "name": "stdout",
     "output_type": "stream",
     "text": [
      "[2, 3, 1, 4, 0]\n"
     ]
    },
    {
     "data": {
      "text/plain": [
       "'aba'"
      ]
     },
     "execution_count": 26,
     "metadata": {},
     "output_type": "execute_result"
    }
   ],
   "source": [
    "s = 'aba'\n",
    "solution = Solution()\n",
    "solution.longestPalindrome(s)"
   ]
  },
  {
   "cell_type": "code",
   "execution_count": 19,
   "metadata": {
    "ExecuteTime": {
     "end_time": "2020-04-11T07:44:56.462645Z",
     "start_time": "2020-04-11T07:44:56.459708Z"
    }
   },
   "outputs": [
    {
     "data": {
      "text/plain": [
       "'ababababababa'"
      ]
     },
     "execution_count": 19,
     "metadata": {},
     "output_type": "execute_result"
    }
   ],
   "source": [
    "s = 'ababababababa'\n",
    "solution = Solution()\n",
    "solution.longestPalindrome(s)"
   ]
  },
  {
   "cell_type": "code",
   "execution_count": 14,
   "metadata": {
    "ExecuteTime": {
     "end_time": "2020-04-11T07:44:53.810871Z",
     "start_time": "2020-04-11T07:44:53.807729Z"
    }
   },
   "outputs": [
    {
     "data": {
      "text/plain": [
       "''"
      ]
     },
     "execution_count": 14,
     "metadata": {},
     "output_type": "execute_result"
    }
   ],
   "source": [
    "s = ''\n",
    "solution = Solution()\n",
    "solution.longestPalindrome(s)"
   ]
  },
  {
   "cell_type": "code",
   "execution_count": 18,
   "metadata": {
    "ExecuteTime": {
     "end_time": "2020-04-11T07:44:53.810871Z",
     "start_time": "2020-04-11T07:44:53.807729Z"
    }
   },
   "outputs": [
    {
     "data": {
      "text/plain": [
       "'a'"
      ]
     },
     "execution_count": 18,
     "metadata": {},
     "output_type": "execute_result"
    }
   ],
   "source": [
    "s = 'a'\n",
    "solution = Solution()\n",
    "solution.longestPalindrome(s)"
   ]
  }
 ],
 "metadata": {
  "jupytext": {
   "formats": "ipynb,py"
  },
  "kernelspec": {
   "display_name": "Python 3",
   "language": "python",
   "name": "python3"
  },
  "language_info": {
   "codemirror_mode": {
    "name": "ipython",
    "version": 3
   },
   "file_extension": ".py",
   "mimetype": "text/x-python",
   "name": "python",
   "nbconvert_exporter": "python",
   "pygments_lexer": "ipython3",
   "version": "3.6.5"
  },
  "toc": {
   "base_numbering": 1,
   "nav_menu": {},
   "number_sections": true,
   "sideBar": true,
   "skip_h1_title": false,
   "title_cell": "Table of Contents",
   "title_sidebar": "Contents",
   "toc_cell": false,
   "toc_position": {},
   "toc_section_display": true,
   "toc_window_display": false
  }
 },
 "nbformat": 4,
 "nbformat_minor": 2
}
